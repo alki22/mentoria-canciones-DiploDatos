{
 "cells": [
  {
   "cell_type": "markdown",
   "metadata": {},
   "source": [
    "# Mentoría 'de cómo clasificar en géneros a las canciones'\n",
    "## Práctico I : Análisis de features de audio"
   ]
  },
  {
   "cell_type": "markdown",
   "metadata": {},
   "source": [
    "### Dependencias y acceso al API"
   ]
  },
  {
   "cell_type": "code",
   "execution_count": 1,
   "metadata": {},
   "outputs": [],
   "source": [
    "import pandas as pd\n",
    "import matplotlib.pyplot as plt\n",
    "import seaborn as sns\n",
    "import numpy as np\n",
    "from math import pi\n",
    "import plotly.express as exp\n",
    "import spotipy\n",
    "from spotipy.oauth2 import SpotifyClientCredentials\n",
    "\n",
    "client_id = '46b333d567314a89a6254b6c6b054be6'\n",
    "client_secret = '9d922c3613e441518349dcf55f7d5853'\n",
    "client_credentials_manager = SpotifyClientCredentials(client_id=client_id, client_secret=client_secret)\n",
    "\n",
    "sp = spotipy.Spotify(client_credentials_manager=client_credentials_manager)"
   ]
  },
  {
   "cell_type": "markdown",
   "metadata": {},
   "source": [
    "---------------------------------------------------------------------------------"
   ]
  },
  {
   "cell_type": "markdown",
   "metadata": {},
   "source": [
    "**Alumno**: Hilal, Guillermo\n",
    "\n",
    "**Junio 2020**"
   ]
  },
  {
   "cell_type": "markdown",
   "metadata": {},
   "source": [
    "#### La pregunta que se buscará responder será:\n",
    "### ¿Por qué este artista destaca dentro de su género?\n",
    "\n",
    "#### *Aclaraciones*: \n",
    "   - Se comparará la banda a analizar con otra del mismo género pero con menor difusión.\n",
    "   - Las bandas con las que se trabajarán serán Bándalos Chinos (BC) (banda a analizar) y De La Rivera (DLR) (\"competencia\").\n",
    "   - Ambas son bandas que trabajan con géneros muy parecidos: pop, electropop y funk.\n",
    "   - De La Rivera posee una trayectoria mayor respecto a Bándalos Chinos, por lo cual poseen mayor cantidad de albumes y tracks. Se tomó una muestra de canciones de De La Rivera igual a la cantidad de canciones de Bándalos Chinos para facilitar y normalizar el análisis.\n",
    "    \n",
    "#### *Features*: \n",
    "#### Las features extraídas de cada track son las siguientes:\n",
    "\n",
    "   - **name** : Nombre del track.\n",
    "   - **date** : Fecha de lanzamiento del album del track.\n",
    "   - **duration_ms** : Duración del track en milisegundos.\n",
    "   - **key** : Tonalidad del track. Cada número se corresponde a una nota, siendo 0 el Do, 1 el Do Sostenido (Re Bemol) y así.\n",
    "   - **mode** : Modo del track. El 1 corresponde a mayor y 0 a menor.\n",
    "   - **tempo** : Tempo general estimado medido en BPN de un track.\n",
    "   - **loudness** : El volumen general del track medido en decibeles (dB).\n",
    "   - **valence** : Medida entre 0 y 1 de la positividad que transmite el track.\n",
    "   - **energy** : Medida (perceptual) de intesidad y actividad de un track. Se ubica entre 0 y 1.\n",
    "   - **danceability** : Medida entre 0 y 1 de cuán \"bailable\" es un track en base a diversos elementos musicales como el ritmo, el tempo o la regularidad general del track."
   ]
  },
  {
   "cell_type": "markdown",
   "metadata": {},
   "source": [
    "---------------------------------------------------------------------------------"
   ]
  },
  {
   "cell_type": "markdown",
   "metadata": {},
   "source": [
    "### Extracción de tracks"
   ]
  },
  {
   "cell_type": "code",
   "execution_count": 2,
   "metadata": {},
   "outputs": [],
   "source": [
    "# Exrtracción de todos los álbumes de un artista\n",
    "\n",
    "def get_albums(artist_id):\n",
    "    albums_js = sp.artist_albums(artist_id=artist_id, country='ar')\n",
    "    albums = albums_js['items']\n",
    "    artist = albums[0]['artists'][0]['name']\n",
    "    print(\"\\n-----Extrayendo features de \" + artist+'-----')\n",
    "    return artist, albums"
   ]
  },
  {
   "cell_type": "code",
   "execution_count": 3,
   "metadata": {},
   "outputs": [],
   "source": [
    "# Extracción de todos los tracks de cada album \n",
    "def get_tracks(albums):\n",
    "    \n",
    "    tracks_df = pd.DataFrame(columns=('id','name'))\n",
    "\n",
    "    for album in albums:\n",
    "        tracks_js = sp.album(album['id'])\n",
    "        r_date = tracks_js['release_date']\n",
    "        \n",
    "        tracks = tracks_js['tracks']['items']\n",
    "\n",
    "        for i in range(len(tracks)):\n",
    "            track = {'id':tracks[i]['id'], 'name':tracks[i]['name'], 'date':r_date}\n",
    "            tracks_df= tracks_df.append(track, ignore_index=True)\n",
    "    \n",
    "    \n",
    "    return tracks_df"
   ]
  },
  {
   "cell_type": "markdown",
   "metadata": {},
   "source": [
    "---------------------------------------------------------------------------------"
   ]
  },
  {
   "cell_type": "markdown",
   "metadata": {},
   "source": [
    "### Extracción y seteo de features"
   ]
  },
  {
   "cell_type": "code",
   "execution_count": 4,
   "metadata": {},
   "outputs": [],
   "source": [
    "# Se reemplaza el mode de su forma numérica por la verbal\n",
    "def replace_mode(mode):\n",
    "    if mode == 1:\n",
    "        return 'Major'\n",
    "    else:\n",
    "        return 'Minor'"
   ]
  },
  {
   "cell_type": "code",
   "execution_count": 5,
   "metadata": {},
   "outputs": [],
   "source": [
    "# Se reemplaza la tonalidad por en su forma numérica por cifrado americano\n",
    "def replace_key(key_):\n",
    "    key_dict = {0:'C', 1:'C#', 2:'D', 3:'D#', 4:'E', 5:'F', 6:'F#', 7:'G', 8:'G#', 9:'A', 10:'A#', 11:'B'}\n",
    "    return key_dict[key_]"
   ]
  },
  {
   "cell_type": "code",
   "execution_count": 6,
   "metadata": {},
   "outputs": [],
   "source": [
    "# Creación  y guardado de dataframe de features para el artista\n",
    "def set_and_save_dataframe(features_df, tracks_df, artist):\n",
    "    features_df = features_df.reset_index()\n",
    "    features_df = features_df.drop(columns=['index', 'speechiness', 'acousticness', 'instrumentalness', 'type', 'uri', 'track_href', 'analysis_url', 'time_signature', 'liveness'])\n",
    "    \n",
    "    final_df = pd.merge(tracks_df, features_df, on='id')\n",
    "    final_df = final_df.drop_duplicates('name')\n",
    "    \n",
    "    final_df = final_df.reset_index()\n",
    "    final_df = final_df.drop(columns=['index'])\n",
    "    \n",
    "    final_df['mode'] = final_df['mode'].apply(lambda x: replace_mode(x))\n",
    "    final_df['key'] = final_df['key'].apply(lambda x: replace_key(x))\n",
    "    \n",
    "    final_df = final_df.reindex(['id', 'name', 'date', 'duration_ms', 'key', 'mode', 'tempo', 'loudness', 'valence', 'energy', 'danceability'], axis=1)\n",
    "    final_df.to_csv('features_'+artist+'.csv')\n",
    "    \n",
    "    return final_df"
   ]
  },
  {
   "cell_type": "code",
   "execution_count": 7,
   "metadata": {},
   "outputs": [],
   "source": [
    "def get_tracks_features(artist,artist_id, albums=None):\n",
    "    \n",
    "    tracks_df = get_tracks(albums)\n",
    "    features_df = pd.DataFrame()\n",
    "\n",
    "    for idx, row in tracks_df.iterrows():\n",
    "        features = sp.audio_features(row.id)\n",
    "        features_df = features_df.append(features)\n",
    "    final_df = set_and_save_dataframe(features_df,tracks_df,artist)\n",
    "    final_df = final_df.sort_values(by='date')\n",
    "    final_df = final_df.reset_index()\n",
    "    final_df = final_df.drop(columns=['index'])\n",
    "    return final_df"
   ]
  },
  {
   "cell_type": "code",
   "execution_count": 8,
   "metadata": {},
   "outputs": [],
   "source": [
    "def get_artist_tracks_features(artist_id):\n",
    "    artist, albums = get_albums(artist_id)\n",
    "    tracks_data = get_tracks_features(artist, artist_id, albums=albums)\n",
    "    print('\\n-----Extracción finalizada!-----')\n",
    "    return tracks_data"
   ]
  },
  {
   "cell_type": "markdown",
   "metadata": {},
   "source": [
    "---------------------------------------------------------------------------------"
   ]
  },
  {
   "cell_type": "markdown",
   "metadata": {},
   "source": [
    "### Procesamiento"
   ]
  },
  {
   "cell_type": "code",
   "execution_count": 37,
   "metadata": {},
   "outputs": [
    {
     "name": "stdout",
     "output_type": "stream",
     "text": [
      "\n",
      "-----Extrayendo features de De La Rivera-----\n",
      "\n",
      "-----Extracción finalizada!-----\n",
      "\n",
      "-----Extrayendo features de Bandalos Chinos-----\n",
      "\n",
      "-----Extracción finalizada!-----\n"
     ]
    }
   ],
   "source": [
    "de_la_rivera_features_temp = get_artist_tracks_features('4U48zETkokPB76fnXQiO2b')\n",
    "bandalos_chinos_features = get_artist_tracks_features('0wn2qDKzeFlhjRUtJAwJjp')\n"
   ]
  },
  {
   "cell_type": "code",
   "execution_count": 39,
   "metadata": {},
   "outputs": [],
   "source": [
    "#Se adapta la cantidad de datos de la banda De La Rivera a la cantidad de datos de Bandalos Chinos\n",
    "de_la_rivera_features = de_la_rivera_features_temp.tail(n=bandalos_chinos_features.shape[0])\n",
    "de_la_rivera_features = de_la_rivera_features.sort_values(by='date')\n",
    "de_la_rivera_features = de_la_rivera_features.reset_index()\n",
    "de_la_rivera_features = de_la_rivera_features.drop(columns=['index'])\n"
   ]
  },
  {
   "cell_type": "code",
   "execution_count": 40,
   "metadata": {},
   "outputs": [
    {
     "data": {
      "text/html": [
       "<div>\n",
       "<style scoped>\n",
       "    .dataframe tbody tr th:only-of-type {\n",
       "        vertical-align: middle;\n",
       "    }\n",
       "\n",
       "    .dataframe tbody tr th {\n",
       "        vertical-align: top;\n",
       "    }\n",
       "\n",
       "    .dataframe thead th {\n",
       "        text-align: right;\n",
       "    }\n",
       "</style>\n",
       "<table border=\"1\" class=\"dataframe\">\n",
       "  <thead>\n",
       "    <tr style=\"text-align: right;\">\n",
       "      <th></th>\n",
       "      <th>id</th>\n",
       "      <th>name</th>\n",
       "      <th>date</th>\n",
       "      <th>duration_ms</th>\n",
       "      <th>key</th>\n",
       "      <th>mode</th>\n",
       "      <th>tempo</th>\n",
       "      <th>loudness</th>\n",
       "      <th>valence</th>\n",
       "      <th>energy</th>\n",
       "      <th>danceability</th>\n",
       "    </tr>\n",
       "  </thead>\n",
       "  <tbody>\n",
       "    <tr>\n",
       "      <th>0</th>\n",
       "      <td>6N5fNGYcVboEkQkzzvut5U</td>\n",
       "      <td>Icarus</td>\n",
       "      <td>2018-09-21</td>\n",
       "      <td>262300</td>\n",
       "      <td>G</td>\n",
       "      <td>Major</td>\n",
       "      <td>119.944</td>\n",
       "      <td>-8.429</td>\n",
       "      <td>0.212</td>\n",
       "      <td>0.608</td>\n",
       "      <td>0.705</td>\n",
       "    </tr>\n",
       "    <tr>\n",
       "      <th>1</th>\n",
       "      <td>4Agbw6N8EpvucO1jq1L1jL</td>\n",
       "      <td>Haremos Pedazos el Mundo</td>\n",
       "      <td>2018-09-21</td>\n",
       "      <td>200958</td>\n",
       "      <td>A</td>\n",
       "      <td>Minor</td>\n",
       "      <td>94.183</td>\n",
       "      <td>-7.533</td>\n",
       "      <td>0.792</td>\n",
       "      <td>0.568</td>\n",
       "      <td>0.723</td>\n",
       "    </tr>\n",
       "    <tr>\n",
       "      <th>2</th>\n",
       "      <td>30YglG7HRkeOCuVHwJNybP</td>\n",
       "      <td>Días Desiertos</td>\n",
       "      <td>2018-09-21</td>\n",
       "      <td>238470</td>\n",
       "      <td>A</td>\n",
       "      <td>Minor</td>\n",
       "      <td>110.008</td>\n",
       "      <td>-5.603</td>\n",
       "      <td>0.560</td>\n",
       "      <td>0.799</td>\n",
       "      <td>0.616</td>\n",
       "    </tr>\n",
       "    <tr>\n",
       "      <th>3</th>\n",
       "      <td>7JwEWnIqWF36wWDIUZqbfY</td>\n",
       "      <td>Envuelve</td>\n",
       "      <td>2018-09-21</td>\n",
       "      <td>243320</td>\n",
       "      <td>B</td>\n",
       "      <td>Minor</td>\n",
       "      <td>101.992</td>\n",
       "      <td>-8.279</td>\n",
       "      <td>0.642</td>\n",
       "      <td>0.787</td>\n",
       "      <td>0.656</td>\n",
       "    </tr>\n",
       "    <tr>\n",
       "      <th>4</th>\n",
       "      <td>7CbfBD8EXReaeLY3r8Najv</td>\n",
       "      <td>Intro / Narita</td>\n",
       "      <td>2018-09-21</td>\n",
       "      <td>352610</td>\n",
       "      <td>E</td>\n",
       "      <td>Minor</td>\n",
       "      <td>114.976</td>\n",
       "      <td>-10.741</td>\n",
       "      <td>0.254</td>\n",
       "      <td>0.570</td>\n",
       "      <td>0.647</td>\n",
       "    </tr>\n",
       "    <tr>\n",
       "      <th>5</th>\n",
       "      <td>17qDYslrViOYcqFkwvgsGg</td>\n",
       "      <td>Waves</td>\n",
       "      <td>2018-09-21</td>\n",
       "      <td>235080</td>\n",
       "      <td>A</td>\n",
       "      <td>Minor</td>\n",
       "      <td>120.004</td>\n",
       "      <td>-6.356</td>\n",
       "      <td>0.964</td>\n",
       "      <td>0.839</td>\n",
       "      <td>0.847</td>\n",
       "    </tr>\n",
       "    <tr>\n",
       "      <th>6</th>\n",
       "      <td>1IHSGMQbzSs5l7BP4PPex9</td>\n",
       "      <td>Something About You</td>\n",
       "      <td>2018-09-21</td>\n",
       "      <td>265310</td>\n",
       "      <td>A</td>\n",
       "      <td>Minor</td>\n",
       "      <td>95.002</td>\n",
       "      <td>-9.163</td>\n",
       "      <td>0.615</td>\n",
       "      <td>0.468</td>\n",
       "      <td>0.664</td>\n",
       "    </tr>\n",
       "    <tr>\n",
       "      <th>7</th>\n",
       "      <td>0TgosmN4trzclGFrAZkSP7</td>\n",
       "      <td>Carolyn - Radio Edit</td>\n",
       "      <td>2018-09-21</td>\n",
       "      <td>198556</td>\n",
       "      <td>E</td>\n",
       "      <td>Minor</td>\n",
       "      <td>119.987</td>\n",
       "      <td>-6.061</td>\n",
       "      <td>0.855</td>\n",
       "      <td>0.869</td>\n",
       "      <td>0.755</td>\n",
       "    </tr>\n",
       "    <tr>\n",
       "      <th>8</th>\n",
       "      <td>5JzU4H9nhqjLgV6hcbnTyd</td>\n",
       "      <td>Conmigo</td>\n",
       "      <td>2018-09-21</td>\n",
       "      <td>260880</td>\n",
       "      <td>B</td>\n",
       "      <td>Minor</td>\n",
       "      <td>99.976</td>\n",
       "      <td>-6.914</td>\n",
       "      <td>0.481</td>\n",
       "      <td>0.694</td>\n",
       "      <td>0.633</td>\n",
       "    </tr>\n",
       "    <tr>\n",
       "      <th>9</th>\n",
       "      <td>4X0m9w58gg3MkZgiLzI7hP</td>\n",
       "      <td>La Rubia Tarada</td>\n",
       "      <td>2018-11-16</td>\n",
       "      <td>264047</td>\n",
       "      <td>A#</td>\n",
       "      <td>Minor</td>\n",
       "      <td>120.007</td>\n",
       "      <td>-7.370</td>\n",
       "      <td>0.824</td>\n",
       "      <td>0.572</td>\n",
       "      <td>0.905</td>\n",
       "    </tr>\n",
       "    <tr>\n",
       "      <th>10</th>\n",
       "      <td>4CMcPtgYiRq4GBkLpyWf0X</td>\n",
       "      <td>Outro</td>\n",
       "      <td>2018-11-16</td>\n",
       "      <td>244052</td>\n",
       "      <td>C#</td>\n",
       "      <td>Major</td>\n",
       "      <td>124.985</td>\n",
       "      <td>-8.527</td>\n",
       "      <td>0.738</td>\n",
       "      <td>0.591</td>\n",
       "      <td>0.859</td>\n",
       "    </tr>\n",
       "    <tr>\n",
       "      <th>11</th>\n",
       "      <td>71uO99fXnBKbW53DliDGzy</td>\n",
       "      <td>Dar</td>\n",
       "      <td>2018-11-16</td>\n",
       "      <td>185479</td>\n",
       "      <td>C</td>\n",
       "      <td>Major</td>\n",
       "      <td>89.966</td>\n",
       "      <td>-8.435</td>\n",
       "      <td>0.708</td>\n",
       "      <td>0.609</td>\n",
       "      <td>0.797</td>\n",
       "    </tr>\n",
       "    <tr>\n",
       "      <th>12</th>\n",
       "      <td>5FJAy61wWem5GtqnFBvGiM</td>\n",
       "      <td>Hay un Lugar</td>\n",
       "      <td>2018-11-16</td>\n",
       "      <td>181407</td>\n",
       "      <td>A</td>\n",
       "      <td>Minor</td>\n",
       "      <td>150.027</td>\n",
       "      <td>-10.374</td>\n",
       "      <td>0.295</td>\n",
       "      <td>0.544</td>\n",
       "      <td>0.734</td>\n",
       "    </tr>\n",
       "    <tr>\n",
       "      <th>13</th>\n",
       "      <td>0wcsyMBtGPJApJfETFjXhp</td>\n",
       "      <td>Nada Que Ver</td>\n",
       "      <td>2018-11-16</td>\n",
       "      <td>197257</td>\n",
       "      <td>C</td>\n",
       "      <td>Major</td>\n",
       "      <td>160.027</td>\n",
       "      <td>-7.038</td>\n",
       "      <td>0.959</td>\n",
       "      <td>0.660</td>\n",
       "      <td>0.715</td>\n",
       "    </tr>\n",
       "    <tr>\n",
       "      <th>14</th>\n",
       "      <td>7IBI6CMShdg6lHFzpqmkfJ</td>\n",
       "      <td>Todos Hablan</td>\n",
       "      <td>2018-11-16</td>\n",
       "      <td>166019</td>\n",
       "      <td>C#</td>\n",
       "      <td>Major</td>\n",
       "      <td>90.026</td>\n",
       "      <td>-7.523</td>\n",
       "      <td>0.842</td>\n",
       "      <td>0.649</td>\n",
       "      <td>0.848</td>\n",
       "    </tr>\n",
       "    <tr>\n",
       "      <th>15</th>\n",
       "      <td>6ZVEOmwLlErPTW0CuFqmEj</td>\n",
       "      <td>Empuja</td>\n",
       "      <td>2018-11-16</td>\n",
       "      <td>292000</td>\n",
       "      <td>C#</td>\n",
       "      <td>Major</td>\n",
       "      <td>103.987</td>\n",
       "      <td>-8.714</td>\n",
       "      <td>0.937</td>\n",
       "      <td>0.665</td>\n",
       "      <td>0.797</td>\n",
       "    </tr>\n",
       "    <tr>\n",
       "      <th>16</th>\n",
       "      <td>1ASQ0QJkQJqD1RgDrLvJQX</td>\n",
       "      <td>Anda Corriendo el Rumor</td>\n",
       "      <td>2018-11-16</td>\n",
       "      <td>235045</td>\n",
       "      <td>D</td>\n",
       "      <td>Minor</td>\n",
       "      <td>119.999</td>\n",
       "      <td>-8.890</td>\n",
       "      <td>0.774</td>\n",
       "      <td>0.495</td>\n",
       "      <td>0.834</td>\n",
       "    </tr>\n",
       "    <tr>\n",
       "      <th>17</th>\n",
       "      <td>5hZMJHPDF9raRCsYZNgWmN</td>\n",
       "      <td>Pasan</td>\n",
       "      <td>2018-11-16</td>\n",
       "      <td>193502</td>\n",
       "      <td>B</td>\n",
       "      <td>Minor</td>\n",
       "      <td>95.001</td>\n",
       "      <td>-8.135</td>\n",
       "      <td>0.689</td>\n",
       "      <td>0.762</td>\n",
       "      <td>0.791</td>\n",
       "    </tr>\n",
       "    <tr>\n",
       "      <th>18</th>\n",
       "      <td>7srUqwuEQ557h7L0p4ydRE</td>\n",
       "      <td>Yastá</td>\n",
       "      <td>2018-11-16</td>\n",
       "      <td>192842</td>\n",
       "      <td>C#</td>\n",
       "      <td>Major</td>\n",
       "      <td>125.030</td>\n",
       "      <td>-7.411</td>\n",
       "      <td>0.918</td>\n",
       "      <td>0.479</td>\n",
       "      <td>0.894</td>\n",
       "    </tr>\n",
       "    <tr>\n",
       "      <th>19</th>\n",
       "      <td>1pJ5VjXA7eogNpfA5AkqX6</td>\n",
       "      <td>Quién Soy</td>\n",
       "      <td>2018-11-16</td>\n",
       "      <td>228242</td>\n",
       "      <td>A#</td>\n",
       "      <td>Minor</td>\n",
       "      <td>95.008</td>\n",
       "      <td>-7.521</td>\n",
       "      <td>0.857</td>\n",
       "      <td>0.620</td>\n",
       "      <td>0.887</td>\n",
       "    </tr>\n",
       "    <tr>\n",
       "      <th>20</th>\n",
       "      <td>1Rb3t8HyMNxTqgOXt5MWGd</td>\n",
       "      <td>En Espiral</td>\n",
       "      <td>2018-11-16</td>\n",
       "      <td>330659</td>\n",
       "      <td>G</td>\n",
       "      <td>Minor</td>\n",
       "      <td>93.966</td>\n",
       "      <td>-10.201</td>\n",
       "      <td>0.671</td>\n",
       "      <td>0.589</td>\n",
       "      <td>0.801</td>\n",
       "    </tr>\n",
       "    <tr>\n",
       "      <th>21</th>\n",
       "      <td>0rn1px6z7Ffs0vt6g5NHzU</td>\n",
       "      <td>Sabé</td>\n",
       "      <td>2018-11-16</td>\n",
       "      <td>189431</td>\n",
       "      <td>C</td>\n",
       "      <td>Major</td>\n",
       "      <td>82.976</td>\n",
       "      <td>-8.771</td>\n",
       "      <td>0.744</td>\n",
       "      <td>0.543</td>\n",
       "      <td>0.871</td>\n",
       "    </tr>\n",
       "    <tr>\n",
       "      <th>22</th>\n",
       "      <td>6io5gRjR6wkb6nlEmi7rIr</td>\n",
       "      <td>Selva</td>\n",
       "      <td>2018-12-07</td>\n",
       "      <td>210797</td>\n",
       "      <td>B</td>\n",
       "      <td>Minor</td>\n",
       "      <td>120.037</td>\n",
       "      <td>-5.934</td>\n",
       "      <td>0.762</td>\n",
       "      <td>0.790</td>\n",
       "      <td>0.752</td>\n",
       "    </tr>\n",
       "    <tr>\n",
       "      <th>23</th>\n",
       "      <td>5WC96mCnsTxvu7OSefigXg</td>\n",
       "      <td>Tu Fuego</td>\n",
       "      <td>2018-12-09</td>\n",
       "      <td>272593</td>\n",
       "      <td>F#</td>\n",
       "      <td>Minor</td>\n",
       "      <td>107.065</td>\n",
       "      <td>-2.854</td>\n",
       "      <td>0.945</td>\n",
       "      <td>0.809</td>\n",
       "      <td>0.789</td>\n",
       "    </tr>\n",
       "    <tr>\n",
       "      <th>24</th>\n",
       "      <td>27qevTda4QofHMQTkE9Fda</td>\n",
       "      <td>Ese Ritual</td>\n",
       "      <td>2018-12-09</td>\n",
       "      <td>225673</td>\n",
       "      <td>D</td>\n",
       "      <td>Major</td>\n",
       "      <td>117.006</td>\n",
       "      <td>-4.971</td>\n",
       "      <td>0.968</td>\n",
       "      <td>0.869</td>\n",
       "      <td>0.744</td>\n",
       "    </tr>\n",
       "    <tr>\n",
       "      <th>25</th>\n",
       "      <td>7lPyU3M4FmhjtwEiBWTvuE</td>\n",
       "      <td>Paralelos</td>\n",
       "      <td>2018-12-09</td>\n",
       "      <td>266754</td>\n",
       "      <td>D</td>\n",
       "      <td>Major</td>\n",
       "      <td>119.018</td>\n",
       "      <td>-4.481</td>\n",
       "      <td>0.626</td>\n",
       "      <td>0.686</td>\n",
       "      <td>0.767</td>\n",
       "    </tr>\n",
       "    <tr>\n",
       "      <th>26</th>\n",
       "      <td>6AXGvNLP6DNDyC5dPj97tt</td>\n",
       "      <td>Río Adentro</td>\n",
       "      <td>2018-12-09</td>\n",
       "      <td>178339</td>\n",
       "      <td>D</td>\n",
       "      <td>Major</td>\n",
       "      <td>139.961</td>\n",
       "      <td>-3.889</td>\n",
       "      <td>0.886</td>\n",
       "      <td>0.872</td>\n",
       "      <td>0.679</td>\n",
       "    </tr>\n",
       "    <tr>\n",
       "      <th>27</th>\n",
       "      <td>4Jobj1KXCPJreInAQdXcSZ</td>\n",
       "      <td>Por Esta Vez</td>\n",
       "      <td>2018-12-09</td>\n",
       "      <td>273971</td>\n",
       "      <td>E</td>\n",
       "      <td>Minor</td>\n",
       "      <td>170.119</td>\n",
       "      <td>-7.062</td>\n",
       "      <td>0.732</td>\n",
       "      <td>0.648</td>\n",
       "      <td>0.688</td>\n",
       "    </tr>\n",
       "    <tr>\n",
       "      <th>28</th>\n",
       "      <td>0r5tj73ILUkX2nujtjPVNA</td>\n",
       "      <td>Calma</td>\n",
       "      <td>2018-12-09</td>\n",
       "      <td>207062</td>\n",
       "      <td>G</td>\n",
       "      <td>Major</td>\n",
       "      <td>120.002</td>\n",
       "      <td>-3.655</td>\n",
       "      <td>0.932</td>\n",
       "      <td>0.885</td>\n",
       "      <td>0.733</td>\n",
       "    </tr>\n",
       "    <tr>\n",
       "      <th>29</th>\n",
       "      <td>0RyflQsqOXAkowngjsQLd5</td>\n",
       "      <td>Aquí y Ahora</td>\n",
       "      <td>2018-12-09</td>\n",
       "      <td>198562</td>\n",
       "      <td>C</td>\n",
       "      <td>Minor</td>\n",
       "      <td>120.000</td>\n",
       "      <td>-3.269</td>\n",
       "      <td>0.614</td>\n",
       "      <td>0.897</td>\n",
       "      <td>0.611</td>\n",
       "    </tr>\n",
       "    <tr>\n",
       "      <th>30</th>\n",
       "      <td>1GhXDkwUyGUkT0YiQ0lIpY</td>\n",
       "      <td>El Teléfono de Susy</td>\n",
       "      <td>2018-12-09</td>\n",
       "      <td>150125</td>\n",
       "      <td>F</td>\n",
       "      <td>Major</td>\n",
       "      <td>128.019</td>\n",
       "      <td>-3.504</td>\n",
       "      <td>0.961</td>\n",
       "      <td>0.801</td>\n",
       "      <td>0.699</td>\n",
       "    </tr>\n",
       "    <tr>\n",
       "      <th>31</th>\n",
       "      <td>7pSFnIzesg3qNC5DbLQxPM</td>\n",
       "      <td>No Hay Lógica</td>\n",
       "      <td>2018-12-09</td>\n",
       "      <td>201607</td>\n",
       "      <td>C</td>\n",
       "      <td>Minor</td>\n",
       "      <td>125.005</td>\n",
       "      <td>-4.789</td>\n",
       "      <td>0.965</td>\n",
       "      <td>0.836</td>\n",
       "      <td>0.843</td>\n",
       "    </tr>\n",
       "    <tr>\n",
       "      <th>32</th>\n",
       "      <td>41Tb80Sr8aVgljLxysp5FE</td>\n",
       "      <td>Así son las Cosas</td>\n",
       "      <td>2018-12-09</td>\n",
       "      <td>261127</td>\n",
       "      <td>A</td>\n",
       "      <td>Major</td>\n",
       "      <td>125.016</td>\n",
       "      <td>-4.522</td>\n",
       "      <td>0.355</td>\n",
       "      <td>0.840</td>\n",
       "      <td>0.697</td>\n",
       "    </tr>\n",
       "    <tr>\n",
       "      <th>33</th>\n",
       "      <td>03NkAyOTysrLSQxkxCS2gr</td>\n",
       "      <td>Lobo</td>\n",
       "      <td>2019-01-18</td>\n",
       "      <td>278352</td>\n",
       "      <td>B</td>\n",
       "      <td>Minor</td>\n",
       "      <td>93.002</td>\n",
       "      <td>-6.888</td>\n",
       "      <td>0.722</td>\n",
       "      <td>0.750</td>\n",
       "      <td>0.562</td>\n",
       "    </tr>\n",
       "    <tr>\n",
       "      <th>34</th>\n",
       "      <td>7oAfL0k437H9nxlEWlX7cK</td>\n",
       "      <td>Lobo - Remix</td>\n",
       "      <td>2019-04-26</td>\n",
       "      <td>252879</td>\n",
       "      <td>D</td>\n",
       "      <td>Major</td>\n",
       "      <td>98.816</td>\n",
       "      <td>-4.976</td>\n",
       "      <td>0.535</td>\n",
       "      <td>0.894</td>\n",
       "      <td>0.574</td>\n",
       "    </tr>\n",
       "    <tr>\n",
       "      <th>35</th>\n",
       "      <td>2kmeE7YKwCS2GiPE1yGqJl</td>\n",
       "      <td>So Vo</td>\n",
       "      <td>2020-02-28</td>\n",
       "      <td>170000</td>\n",
       "      <td>F</td>\n",
       "      <td>Minor</td>\n",
       "      <td>96.015</td>\n",
       "      <td>-6.193</td>\n",
       "      <td>0.764</td>\n",
       "      <td>0.754</td>\n",
       "      <td>0.723</td>\n",
       "    </tr>\n",
       "  </tbody>\n",
       "</table>\n",
       "</div>"
      ],
      "text/plain": [
       "                        id                      name        date  duration_ms  \\\n",
       "0   6N5fNGYcVboEkQkzzvut5U                    Icarus  2018-09-21       262300   \n",
       "1   4Agbw6N8EpvucO1jq1L1jL  Haremos Pedazos el Mundo  2018-09-21       200958   \n",
       "2   30YglG7HRkeOCuVHwJNybP            Días Desiertos  2018-09-21       238470   \n",
       "3   7JwEWnIqWF36wWDIUZqbfY                  Envuelve  2018-09-21       243320   \n",
       "4   7CbfBD8EXReaeLY3r8Najv            Intro / Narita  2018-09-21       352610   \n",
       "5   17qDYslrViOYcqFkwvgsGg                     Waves  2018-09-21       235080   \n",
       "6   1IHSGMQbzSs5l7BP4PPex9       Something About You  2018-09-21       265310   \n",
       "7   0TgosmN4trzclGFrAZkSP7      Carolyn - Radio Edit  2018-09-21       198556   \n",
       "8   5JzU4H9nhqjLgV6hcbnTyd                   Conmigo  2018-09-21       260880   \n",
       "9   4X0m9w58gg3MkZgiLzI7hP           La Rubia Tarada  2018-11-16       264047   \n",
       "10  4CMcPtgYiRq4GBkLpyWf0X                     Outro  2018-11-16       244052   \n",
       "11  71uO99fXnBKbW53DliDGzy                       Dar  2018-11-16       185479   \n",
       "12  5FJAy61wWem5GtqnFBvGiM              Hay un Lugar  2018-11-16       181407   \n",
       "13  0wcsyMBtGPJApJfETFjXhp              Nada Que Ver  2018-11-16       197257   \n",
       "14  7IBI6CMShdg6lHFzpqmkfJ              Todos Hablan  2018-11-16       166019   \n",
       "15  6ZVEOmwLlErPTW0CuFqmEj                    Empuja  2018-11-16       292000   \n",
       "16  1ASQ0QJkQJqD1RgDrLvJQX   Anda Corriendo el Rumor  2018-11-16       235045   \n",
       "17  5hZMJHPDF9raRCsYZNgWmN                     Pasan  2018-11-16       193502   \n",
       "18  7srUqwuEQ557h7L0p4ydRE                     Yastá  2018-11-16       192842   \n",
       "19  1pJ5VjXA7eogNpfA5AkqX6                 Quién Soy  2018-11-16       228242   \n",
       "20  1Rb3t8HyMNxTqgOXt5MWGd                En Espiral  2018-11-16       330659   \n",
       "21  0rn1px6z7Ffs0vt6g5NHzU                      Sabé  2018-11-16       189431   \n",
       "22  6io5gRjR6wkb6nlEmi7rIr                     Selva  2018-12-07       210797   \n",
       "23  5WC96mCnsTxvu7OSefigXg                  Tu Fuego  2018-12-09       272593   \n",
       "24  27qevTda4QofHMQTkE9Fda                Ese Ritual  2018-12-09       225673   \n",
       "25  7lPyU3M4FmhjtwEiBWTvuE                 Paralelos  2018-12-09       266754   \n",
       "26  6AXGvNLP6DNDyC5dPj97tt               Río Adentro  2018-12-09       178339   \n",
       "27  4Jobj1KXCPJreInAQdXcSZ              Por Esta Vez  2018-12-09       273971   \n",
       "28  0r5tj73ILUkX2nujtjPVNA                     Calma  2018-12-09       207062   \n",
       "29  0RyflQsqOXAkowngjsQLd5              Aquí y Ahora  2018-12-09       198562   \n",
       "30  1GhXDkwUyGUkT0YiQ0lIpY       El Teléfono de Susy  2018-12-09       150125   \n",
       "31  7pSFnIzesg3qNC5DbLQxPM             No Hay Lógica  2018-12-09       201607   \n",
       "32  41Tb80Sr8aVgljLxysp5FE         Así son las Cosas  2018-12-09       261127   \n",
       "33  03NkAyOTysrLSQxkxCS2gr                      Lobo  2019-01-18       278352   \n",
       "34  7oAfL0k437H9nxlEWlX7cK              Lobo - Remix  2019-04-26       252879   \n",
       "35  2kmeE7YKwCS2GiPE1yGqJl                     So Vo  2020-02-28       170000   \n",
       "\n",
       "   key   mode    tempo  loudness  valence  energy  danceability  \n",
       "0    G  Major  119.944    -8.429    0.212   0.608         0.705  \n",
       "1    A  Minor   94.183    -7.533    0.792   0.568         0.723  \n",
       "2    A  Minor  110.008    -5.603    0.560   0.799         0.616  \n",
       "3    B  Minor  101.992    -8.279    0.642   0.787         0.656  \n",
       "4    E  Minor  114.976   -10.741    0.254   0.570         0.647  \n",
       "5    A  Minor  120.004    -6.356    0.964   0.839         0.847  \n",
       "6    A  Minor   95.002    -9.163    0.615   0.468         0.664  \n",
       "7    E  Minor  119.987    -6.061    0.855   0.869         0.755  \n",
       "8    B  Minor   99.976    -6.914    0.481   0.694         0.633  \n",
       "9   A#  Minor  120.007    -7.370    0.824   0.572         0.905  \n",
       "10  C#  Major  124.985    -8.527    0.738   0.591         0.859  \n",
       "11   C  Major   89.966    -8.435    0.708   0.609         0.797  \n",
       "12   A  Minor  150.027   -10.374    0.295   0.544         0.734  \n",
       "13   C  Major  160.027    -7.038    0.959   0.660         0.715  \n",
       "14  C#  Major   90.026    -7.523    0.842   0.649         0.848  \n",
       "15  C#  Major  103.987    -8.714    0.937   0.665         0.797  \n",
       "16   D  Minor  119.999    -8.890    0.774   0.495         0.834  \n",
       "17   B  Minor   95.001    -8.135    0.689   0.762         0.791  \n",
       "18  C#  Major  125.030    -7.411    0.918   0.479         0.894  \n",
       "19  A#  Minor   95.008    -7.521    0.857   0.620         0.887  \n",
       "20   G  Minor   93.966   -10.201    0.671   0.589         0.801  \n",
       "21   C  Major   82.976    -8.771    0.744   0.543         0.871  \n",
       "22   B  Minor  120.037    -5.934    0.762   0.790         0.752  \n",
       "23  F#  Minor  107.065    -2.854    0.945   0.809         0.789  \n",
       "24   D  Major  117.006    -4.971    0.968   0.869         0.744  \n",
       "25   D  Major  119.018    -4.481    0.626   0.686         0.767  \n",
       "26   D  Major  139.961    -3.889    0.886   0.872         0.679  \n",
       "27   E  Minor  170.119    -7.062    0.732   0.648         0.688  \n",
       "28   G  Major  120.002    -3.655    0.932   0.885         0.733  \n",
       "29   C  Minor  120.000    -3.269    0.614   0.897         0.611  \n",
       "30   F  Major  128.019    -3.504    0.961   0.801         0.699  \n",
       "31   C  Minor  125.005    -4.789    0.965   0.836         0.843  \n",
       "32   A  Major  125.016    -4.522    0.355   0.840         0.697  \n",
       "33   B  Minor   93.002    -6.888    0.722   0.750         0.562  \n",
       "34   D  Major   98.816    -4.976    0.535   0.894         0.574  \n",
       "35   F  Minor   96.015    -6.193    0.764   0.754         0.723  "
      ]
     },
     "execution_count": 40,
     "metadata": {},
     "output_type": "execute_result"
    }
   ],
   "source": [
    "de_la_rivera_features"
   ]
  },
  {
   "cell_type": "code",
   "execution_count": 41,
   "metadata": {},
   "outputs": [
    {
     "data": {
      "text/html": [
       "<div>\n",
       "<style scoped>\n",
       "    .dataframe tbody tr th:only-of-type {\n",
       "        vertical-align: middle;\n",
       "    }\n",
       "\n",
       "    .dataframe tbody tr th {\n",
       "        vertical-align: top;\n",
       "    }\n",
       "\n",
       "    .dataframe thead th {\n",
       "        text-align: right;\n",
       "    }\n",
       "</style>\n",
       "<table border=\"1\" class=\"dataframe\">\n",
       "  <thead>\n",
       "    <tr style=\"text-align: right;\">\n",
       "      <th></th>\n",
       "      <th>id</th>\n",
       "      <th>name</th>\n",
       "      <th>date</th>\n",
       "      <th>duration_ms</th>\n",
       "      <th>key</th>\n",
       "      <th>mode</th>\n",
       "      <th>tempo</th>\n",
       "      <th>loudness</th>\n",
       "      <th>valence</th>\n",
       "      <th>energy</th>\n",
       "      <th>danceability</th>\n",
       "    </tr>\n",
       "  </thead>\n",
       "  <tbody>\n",
       "    <tr>\n",
       "      <th>0</th>\n",
       "      <td>5eeYFL59olH5RPMASwhxEW</td>\n",
       "      <td>Chino Town II</td>\n",
       "      <td>2014-12-15</td>\n",
       "      <td>139569</td>\n",
       "      <td>B</td>\n",
       "      <td>Minor</td>\n",
       "      <td>131.884</td>\n",
       "      <td>-8.985</td>\n",
       "      <td>0.0376</td>\n",
       "      <td>0.522</td>\n",
       "      <td>0.164</td>\n",
       "    </tr>\n",
       "    <tr>\n",
       "      <th>1</th>\n",
       "      <td>2mzhcXrtHmpNLH6fTYprv7</td>\n",
       "      <td>Chino Town I</td>\n",
       "      <td>2014-12-15</td>\n",
       "      <td>194144</td>\n",
       "      <td>F</td>\n",
       "      <td>Major</td>\n",
       "      <td>143.396</td>\n",
       "      <td>-8.142</td>\n",
       "      <td>0.7030</td>\n",
       "      <td>0.617</td>\n",
       "      <td>0.515</td>\n",
       "    </tr>\n",
       "    <tr>\n",
       "      <th>2</th>\n",
       "      <td>4zlNaFyXdaKNtnBEOIVKED</td>\n",
       "      <td>Rana Fénix</td>\n",
       "      <td>2014-12-15</td>\n",
       "      <td>231041</td>\n",
       "      <td>E</td>\n",
       "      <td>Minor</td>\n",
       "      <td>178.054</td>\n",
       "      <td>-6.796</td>\n",
       "      <td>0.7410</td>\n",
       "      <td>0.722</td>\n",
       "      <td>0.557</td>\n",
       "    </tr>\n",
       "    <tr>\n",
       "      <th>3</th>\n",
       "      <td>5vFCgpbbAQY3xxhNzu1MUS</td>\n",
       "      <td>Russia</td>\n",
       "      <td>2014-12-15</td>\n",
       "      <td>233124</td>\n",
       "      <td>G</td>\n",
       "      <td>Major</td>\n",
       "      <td>151.467</td>\n",
       "      <td>-7.878</td>\n",
       "      <td>0.3440</td>\n",
       "      <td>0.747</td>\n",
       "      <td>0.255</td>\n",
       "    </tr>\n",
       "    <tr>\n",
       "      <th>4</th>\n",
       "      <td>3mXnIe0oRVMCqk0qTawTFu</td>\n",
       "      <td>Correr</td>\n",
       "      <td>2014-12-15</td>\n",
       "      <td>231127</td>\n",
       "      <td>C</td>\n",
       "      <td>Major</td>\n",
       "      <td>139.106</td>\n",
       "      <td>-7.242</td>\n",
       "      <td>0.7840</td>\n",
       "      <td>0.616</td>\n",
       "      <td>0.562</td>\n",
       "    </tr>\n",
       "    <tr>\n",
       "      <th>5</th>\n",
       "      <td>14GDbRuhUgkv25X0nWJ31R</td>\n",
       "      <td>Nunca Estuve Acá</td>\n",
       "      <td>2014-12-15</td>\n",
       "      <td>258646</td>\n",
       "      <td>A#</td>\n",
       "      <td>Major</td>\n",
       "      <td>73.579</td>\n",
       "      <td>-6.164</td>\n",
       "      <td>0.7260</td>\n",
       "      <td>0.704</td>\n",
       "      <td>0.255</td>\n",
       "    </tr>\n",
       "    <tr>\n",
       "      <th>6</th>\n",
       "      <td>6ACrXozc2ksCAhHl63uZtv</td>\n",
       "      <td>Isla - Pyura Remix</td>\n",
       "      <td>2016-12-12</td>\n",
       "      <td>307061</td>\n",
       "      <td>A</td>\n",
       "      <td>Minor</td>\n",
       "      <td>109.019</td>\n",
       "      <td>-10.116</td>\n",
       "      <td>0.6360</td>\n",
       "      <td>0.550</td>\n",
       "      <td>0.704</td>\n",
       "    </tr>\n",
       "    <tr>\n",
       "      <th>7</th>\n",
       "      <td>6Ou8XuP4sl1Sn6C1uw6v5Z</td>\n",
       "      <td>Un Día</td>\n",
       "      <td>2016-12-23</td>\n",
       "      <td>196802</td>\n",
       "      <td>B</td>\n",
       "      <td>Minor</td>\n",
       "      <td>181.932</td>\n",
       "      <td>-8.101</td>\n",
       "      <td>0.2990</td>\n",
       "      <td>0.712</td>\n",
       "      <td>0.462</td>\n",
       "    </tr>\n",
       "    <tr>\n",
       "      <th>8</th>\n",
       "      <td>3vuBlDXJskPH4SOfqwHRes</td>\n",
       "      <td>El Verano</td>\n",
       "      <td>2016-12-23</td>\n",
       "      <td>254848</td>\n",
       "      <td>D</td>\n",
       "      <td>Major</td>\n",
       "      <td>92.001</td>\n",
       "      <td>-7.435</td>\n",
       "      <td>0.1020</td>\n",
       "      <td>0.641</td>\n",
       "      <td>0.520</td>\n",
       "    </tr>\n",
       "    <tr>\n",
       "      <th>9</th>\n",
       "      <td>0WQbW3BDhSSQIAQd7H531u</td>\n",
       "      <td>Veccar</td>\n",
       "      <td>2016-12-23</td>\n",
       "      <td>346131</td>\n",
       "      <td>F#</td>\n",
       "      <td>Minor</td>\n",
       "      <td>124.979</td>\n",
       "      <td>-10.830</td>\n",
       "      <td>0.0907</td>\n",
       "      <td>0.452</td>\n",
       "      <td>0.629</td>\n",
       "    </tr>\n",
       "    <tr>\n",
       "      <th>10</th>\n",
       "      <td>7wBpbcN7k6e6QISGMvfNlb</td>\n",
       "      <td>Isla</td>\n",
       "      <td>2016-12-23</td>\n",
       "      <td>354815</td>\n",
       "      <td>C</td>\n",
       "      <td>Major</td>\n",
       "      <td>100.047</td>\n",
       "      <td>-9.457</td>\n",
       "      <td>0.3560</td>\n",
       "      <td>0.563</td>\n",
       "      <td>0.589</td>\n",
       "    </tr>\n",
       "    <tr>\n",
       "      <th>11</th>\n",
       "      <td>7Iv79Rhew2VBMlsdJFBytQ</td>\n",
       "      <td>Dije Tu Nombre</td>\n",
       "      <td>2016-12-23</td>\n",
       "      <td>294949</td>\n",
       "      <td>B</td>\n",
       "      <td>Minor</td>\n",
       "      <td>130.030</td>\n",
       "      <td>-7.969</td>\n",
       "      <td>0.2270</td>\n",
       "      <td>0.643</td>\n",
       "      <td>0.574</td>\n",
       "    </tr>\n",
       "    <tr>\n",
       "      <th>12</th>\n",
       "      <td>6fE7ffZWTeeyLdYyQccx5S</td>\n",
       "      <td>Vámonos de Viaje</td>\n",
       "      <td>2018-08-03</td>\n",
       "      <td>235867</td>\n",
       "      <td>F</td>\n",
       "      <td>Major</td>\n",
       "      <td>129.008</td>\n",
       "      <td>-6.148</td>\n",
       "      <td>0.8840</td>\n",
       "      <td>0.746</td>\n",
       "      <td>0.766</td>\n",
       "    </tr>\n",
       "    <tr>\n",
       "      <th>13</th>\n",
       "      <td>6fZUG9qlraawwtUuGbBO75</td>\n",
       "      <td>El Club de la Montaña</td>\n",
       "      <td>2018-08-03</td>\n",
       "      <td>234347</td>\n",
       "      <td>G#</td>\n",
       "      <td>Major</td>\n",
       "      <td>121.999</td>\n",
       "      <td>-7.323</td>\n",
       "      <td>0.9640</td>\n",
       "      <td>0.642</td>\n",
       "      <td>0.831</td>\n",
       "    </tr>\n",
       "    <tr>\n",
       "      <th>14</th>\n",
       "      <td>6s2vgv2pOatsmxqUm9T5jy</td>\n",
       "      <td>Súper V</td>\n",
       "      <td>2018-08-03</td>\n",
       "      <td>172773</td>\n",
       "      <td>A#</td>\n",
       "      <td>Major</td>\n",
       "      <td>121.011</td>\n",
       "      <td>-5.196</td>\n",
       "      <td>0.7380</td>\n",
       "      <td>0.843</td>\n",
       "      <td>0.753</td>\n",
       "    </tr>\n",
       "    <tr>\n",
       "      <th>15</th>\n",
       "      <td>617WpIk8NZGh2IdAQlzHYD</td>\n",
       "      <td>El Temblor</td>\n",
       "      <td>2018-08-03</td>\n",
       "      <td>223080</td>\n",
       "      <td>G</td>\n",
       "      <td>Major</td>\n",
       "      <td>142.955</td>\n",
       "      <td>-4.622</td>\n",
       "      <td>0.8540</td>\n",
       "      <td>0.796</td>\n",
       "      <td>0.671</td>\n",
       "    </tr>\n",
       "    <tr>\n",
       "      <th>16</th>\n",
       "      <td>1udau7MN1h6XB4JGm3UhHt</td>\n",
       "      <td>Ácido</td>\n",
       "      <td>2018-08-03</td>\n",
       "      <td>242307</td>\n",
       "      <td>D#</td>\n",
       "      <td>Minor</td>\n",
       "      <td>114.952</td>\n",
       "      <td>-7.832</td>\n",
       "      <td>0.5910</td>\n",
       "      <td>0.706</td>\n",
       "      <td>0.667</td>\n",
       "    </tr>\n",
       "    <tr>\n",
       "      <th>17</th>\n",
       "      <td>72cZC95vYYu0eNWDb2ICAm</td>\n",
       "      <td>El Concierto</td>\n",
       "      <td>2018-08-03</td>\n",
       "      <td>239133</td>\n",
       "      <td>E</td>\n",
       "      <td>Minor</td>\n",
       "      <td>122.005</td>\n",
       "      <td>-10.826</td>\n",
       "      <td>0.2410</td>\n",
       "      <td>0.297</td>\n",
       "      <td>0.684</td>\n",
       "    </tr>\n",
       "    <tr>\n",
       "      <th>18</th>\n",
       "      <td>0KqutycoUGWE06h5mypWZX</td>\n",
       "      <td>Tu Órbita</td>\n",
       "      <td>2018-08-03</td>\n",
       "      <td>210667</td>\n",
       "      <td>C</td>\n",
       "      <td>Minor</td>\n",
       "      <td>123.960</td>\n",
       "      <td>-6.454</td>\n",
       "      <td>0.8970</td>\n",
       "      <td>0.704</td>\n",
       "      <td>0.755</td>\n",
       "    </tr>\n",
       "    <tr>\n",
       "      <th>19</th>\n",
       "      <td>5qGwTRwny7aRuD305TWQcJ</td>\n",
       "      <td>Lento</td>\n",
       "      <td>2018-08-03</td>\n",
       "      <td>288507</td>\n",
       "      <td>C</td>\n",
       "      <td>Minor</td>\n",
       "      <td>89.992</td>\n",
       "      <td>-6.323</td>\n",
       "      <td>0.7680</td>\n",
       "      <td>0.655</td>\n",
       "      <td>0.669</td>\n",
       "    </tr>\n",
       "    <tr>\n",
       "      <th>20</th>\n",
       "      <td>7eNIZSorRYypCXOnweh3qe</td>\n",
       "      <td>Tema de Susana</td>\n",
       "      <td>2018-08-03</td>\n",
       "      <td>248813</td>\n",
       "      <td>A</td>\n",
       "      <td>Major</td>\n",
       "      <td>105.006</td>\n",
       "      <td>-5.544</td>\n",
       "      <td>0.9150</td>\n",
       "      <td>0.778</td>\n",
       "      <td>0.781</td>\n",
       "    </tr>\n",
       "    <tr>\n",
       "      <th>21</th>\n",
       "      <td>4enKWGftrI6K9v8NgDSS4E</td>\n",
       "      <td>Hermanos</td>\n",
       "      <td>2018-08-03</td>\n",
       "      <td>227280</td>\n",
       "      <td>E</td>\n",
       "      <td>Major</td>\n",
       "      <td>112.005</td>\n",
       "      <td>-9.471</td>\n",
       "      <td>0.1910</td>\n",
       "      <td>0.525</td>\n",
       "      <td>0.676</td>\n",
       "    </tr>\n",
       "    <tr>\n",
       "      <th>22</th>\n",
       "      <td>48vJRxmE7XGAXfJH2MVRLH</td>\n",
       "      <td>Demasiado</td>\n",
       "      <td>2018-08-03</td>\n",
       "      <td>225693</td>\n",
       "      <td>B</td>\n",
       "      <td>Minor</td>\n",
       "      <td>133.480</td>\n",
       "      <td>-9.715</td>\n",
       "      <td>0.4080</td>\n",
       "      <td>0.416</td>\n",
       "      <td>0.777</td>\n",
       "    </tr>\n",
       "    <tr>\n",
       "      <th>23</th>\n",
       "      <td>1M04B9UxiulxVrXDke44bA</td>\n",
       "      <td>Departamento (feat. Adan Jodorowsky)</td>\n",
       "      <td>2019-08-02</td>\n",
       "      <td>234466</td>\n",
       "      <td>G#</td>\n",
       "      <td>Major</td>\n",
       "      <td>124.957</td>\n",
       "      <td>-5.757</td>\n",
       "      <td>0.7030</td>\n",
       "      <td>0.684</td>\n",
       "      <td>0.696</td>\n",
       "    </tr>\n",
       "    <tr>\n",
       "      <th>24</th>\n",
       "      <td>2RGk67GArzQcQa3AWSulJb</td>\n",
       "      <td>Departamento</td>\n",
       "      <td>2019-08-02</td>\n",
       "      <td>234466</td>\n",
       "      <td>G#</td>\n",
       "      <td>Major</td>\n",
       "      <td>124.957</td>\n",
       "      <td>-5.757</td>\n",
       "      <td>0.7030</td>\n",
       "      <td>0.684</td>\n",
       "      <td>0.696</td>\n",
       "    </tr>\n",
       "    <tr>\n",
       "      <th>25</th>\n",
       "      <td>3wLoHa8a0G7oIYWq65GopE</td>\n",
       "      <td>Bailando Lentos</td>\n",
       "      <td>2019-11-22</td>\n",
       "      <td>207413</td>\n",
       "      <td>C</td>\n",
       "      <td>Major</td>\n",
       "      <td>132.898</td>\n",
       "      <td>-7.190</td>\n",
       "      <td>0.4950</td>\n",
       "      <td>0.432</td>\n",
       "      <td>0.686</td>\n",
       "    </tr>\n",
       "    <tr>\n",
       "      <th>26</th>\n",
       "      <td>6akxWZi9HVkYLKFDNlnOs2</td>\n",
       "      <td>Si Te Alejas</td>\n",
       "      <td>2020-05-27</td>\n",
       "      <td>206200</td>\n",
       "      <td>C#</td>\n",
       "      <td>Major</td>\n",
       "      <td>122.014</td>\n",
       "      <td>-5.141</td>\n",
       "      <td>0.9610</td>\n",
       "      <td>0.666</td>\n",
       "      <td>0.757</td>\n",
       "    </tr>\n",
       "    <tr>\n",
       "      <th>27</th>\n",
       "      <td>4rF5XqE4UUVM1AtYV5wRfw</td>\n",
       "      <td>Copy Paste</td>\n",
       "      <td>2020-05-27</td>\n",
       "      <td>181013</td>\n",
       "      <td>C#</td>\n",
       "      <td>Major</td>\n",
       "      <td>125.901</td>\n",
       "      <td>-8.091</td>\n",
       "      <td>0.8780</td>\n",
       "      <td>0.606</td>\n",
       "      <td>0.779</td>\n",
       "    </tr>\n",
       "    <tr>\n",
       "      <th>28</th>\n",
       "      <td>4XlxyNGN4McorvBfE8cI81</td>\n",
       "      <td>Te Veo A La Salida</td>\n",
       "      <td>2020-05-27</td>\n",
       "      <td>228880</td>\n",
       "      <td>E</td>\n",
       "      <td>Major</td>\n",
       "      <td>133.046</td>\n",
       "      <td>-5.394</td>\n",
       "      <td>0.6350</td>\n",
       "      <td>0.707</td>\n",
       "      <td>0.719</td>\n",
       "    </tr>\n",
       "    <tr>\n",
       "      <th>29</th>\n",
       "      <td>5L0h6EbHsxXJG8YLrknKqY</td>\n",
       "      <td>Provincia</td>\n",
       "      <td>2020-05-27</td>\n",
       "      <td>195200</td>\n",
       "      <td>F</td>\n",
       "      <td>Major</td>\n",
       "      <td>143.925</td>\n",
       "      <td>-6.112</td>\n",
       "      <td>0.6690</td>\n",
       "      <td>0.749</td>\n",
       "      <td>0.734</td>\n",
       "    </tr>\n",
       "    <tr>\n",
       "      <th>30</th>\n",
       "      <td>6aXp52ZyHcLqOyLkvhmvDn</td>\n",
       "      <td>Carteles</td>\n",
       "      <td>2020-05-27</td>\n",
       "      <td>204920</td>\n",
       "      <td>D</td>\n",
       "      <td>Major</td>\n",
       "      <td>129.955</td>\n",
       "      <td>-7.740</td>\n",
       "      <td>0.4810</td>\n",
       "      <td>0.568</td>\n",
       "      <td>0.676</td>\n",
       "    </tr>\n",
       "    <tr>\n",
       "      <th>31</th>\n",
       "      <td>4CsLXn9Ukh48HvKrxKlutK</td>\n",
       "      <td>Ya Nos Vamos</td>\n",
       "      <td>2020-05-27</td>\n",
       "      <td>199507</td>\n",
       "      <td>A#</td>\n",
       "      <td>Major</td>\n",
       "      <td>100.019</td>\n",
       "      <td>-7.075</td>\n",
       "      <td>0.8730</td>\n",
       "      <td>0.607</td>\n",
       "      <td>0.756</td>\n",
       "    </tr>\n",
       "    <tr>\n",
       "      <th>32</th>\n",
       "      <td>7i7muHdNcm4rHNv1SDVjoD</td>\n",
       "      <td>Me Voy</td>\n",
       "      <td>2020-05-27</td>\n",
       "      <td>211867</td>\n",
       "      <td>C</td>\n",
       "      <td>Major</td>\n",
       "      <td>92.505</td>\n",
       "      <td>-4.488</td>\n",
       "      <td>0.7910</td>\n",
       "      <td>0.884</td>\n",
       "      <td>0.653</td>\n",
       "    </tr>\n",
       "    <tr>\n",
       "      <th>33</th>\n",
       "      <td>0PQPHY1jvgktkAmormtVte</td>\n",
       "      <td>No Me Hables De Amor</td>\n",
       "      <td>2020-05-27</td>\n",
       "      <td>208413</td>\n",
       "      <td>C</td>\n",
       "      <td>Minor</td>\n",
       "      <td>83.989</td>\n",
       "      <td>-6.379</td>\n",
       "      <td>0.7340</td>\n",
       "      <td>0.622</td>\n",
       "      <td>0.679</td>\n",
       "    </tr>\n",
       "    <tr>\n",
       "      <th>34</th>\n",
       "      <td>4AtCl1kjk62zGJ9I7HyLDJ</td>\n",
       "      <td>Mi Manera De Ser</td>\n",
       "      <td>2020-05-29</td>\n",
       "      <td>164907</td>\n",
       "      <td>C</td>\n",
       "      <td>Major</td>\n",
       "      <td>116.033</td>\n",
       "      <td>-5.244</td>\n",
       "      <td>0.3750</td>\n",
       "      <td>0.639</td>\n",
       "      <td>0.710</td>\n",
       "    </tr>\n",
       "    <tr>\n",
       "      <th>35</th>\n",
       "      <td>3BVYtNbhP0f1rKWZ4oaW54</td>\n",
       "      <td>AYNMG</td>\n",
       "      <td>2020-05-29</td>\n",
       "      <td>201587</td>\n",
       "      <td>A#</td>\n",
       "      <td>Major</td>\n",
       "      <td>112.721</td>\n",
       "      <td>-10.228</td>\n",
       "      <td>0.2050</td>\n",
       "      <td>0.243</td>\n",
       "      <td>0.559</td>\n",
       "    </tr>\n",
       "  </tbody>\n",
       "</table>\n",
       "</div>"
      ],
      "text/plain": [
       "                        id                                  name        date  \\\n",
       "0   5eeYFL59olH5RPMASwhxEW                         Chino Town II  2014-12-15   \n",
       "1   2mzhcXrtHmpNLH6fTYprv7                          Chino Town I  2014-12-15   \n",
       "2   4zlNaFyXdaKNtnBEOIVKED                            Rana Fénix  2014-12-15   \n",
       "3   5vFCgpbbAQY3xxhNzu1MUS                                Russia  2014-12-15   \n",
       "4   3mXnIe0oRVMCqk0qTawTFu                                Correr  2014-12-15   \n",
       "5   14GDbRuhUgkv25X0nWJ31R                      Nunca Estuve Acá  2014-12-15   \n",
       "6   6ACrXozc2ksCAhHl63uZtv                    Isla - Pyura Remix  2016-12-12   \n",
       "7   6Ou8XuP4sl1Sn6C1uw6v5Z                                Un Día  2016-12-23   \n",
       "8   3vuBlDXJskPH4SOfqwHRes                             El Verano  2016-12-23   \n",
       "9   0WQbW3BDhSSQIAQd7H531u                                Veccar  2016-12-23   \n",
       "10  7wBpbcN7k6e6QISGMvfNlb                                  Isla  2016-12-23   \n",
       "11  7Iv79Rhew2VBMlsdJFBytQ                        Dije Tu Nombre  2016-12-23   \n",
       "12  6fE7ffZWTeeyLdYyQccx5S                      Vámonos de Viaje  2018-08-03   \n",
       "13  6fZUG9qlraawwtUuGbBO75                 El Club de la Montaña  2018-08-03   \n",
       "14  6s2vgv2pOatsmxqUm9T5jy                               Súper V  2018-08-03   \n",
       "15  617WpIk8NZGh2IdAQlzHYD                            El Temblor  2018-08-03   \n",
       "16  1udau7MN1h6XB4JGm3UhHt                                 Ácido  2018-08-03   \n",
       "17  72cZC95vYYu0eNWDb2ICAm                          El Concierto  2018-08-03   \n",
       "18  0KqutycoUGWE06h5mypWZX                             Tu Órbita  2018-08-03   \n",
       "19  5qGwTRwny7aRuD305TWQcJ                                 Lento  2018-08-03   \n",
       "20  7eNIZSorRYypCXOnweh3qe                        Tema de Susana  2018-08-03   \n",
       "21  4enKWGftrI6K9v8NgDSS4E                              Hermanos  2018-08-03   \n",
       "22  48vJRxmE7XGAXfJH2MVRLH                             Demasiado  2018-08-03   \n",
       "23  1M04B9UxiulxVrXDke44bA  Departamento (feat. Adan Jodorowsky)  2019-08-02   \n",
       "24  2RGk67GArzQcQa3AWSulJb                          Departamento  2019-08-02   \n",
       "25  3wLoHa8a0G7oIYWq65GopE                       Bailando Lentos  2019-11-22   \n",
       "26  6akxWZi9HVkYLKFDNlnOs2                          Si Te Alejas  2020-05-27   \n",
       "27  4rF5XqE4UUVM1AtYV5wRfw                            Copy Paste  2020-05-27   \n",
       "28  4XlxyNGN4McorvBfE8cI81                    Te Veo A La Salida  2020-05-27   \n",
       "29  5L0h6EbHsxXJG8YLrknKqY                             Provincia  2020-05-27   \n",
       "30  6aXp52ZyHcLqOyLkvhmvDn                              Carteles  2020-05-27   \n",
       "31  4CsLXn9Ukh48HvKrxKlutK                          Ya Nos Vamos  2020-05-27   \n",
       "32  7i7muHdNcm4rHNv1SDVjoD                                Me Voy  2020-05-27   \n",
       "33  0PQPHY1jvgktkAmormtVte                  No Me Hables De Amor  2020-05-27   \n",
       "34  4AtCl1kjk62zGJ9I7HyLDJ                      Mi Manera De Ser  2020-05-29   \n",
       "35  3BVYtNbhP0f1rKWZ4oaW54                                 AYNMG  2020-05-29   \n",
       "\n",
       "    duration_ms key   mode    tempo  loudness  valence  energy  danceability  \n",
       "0        139569   B  Minor  131.884    -8.985   0.0376   0.522         0.164  \n",
       "1        194144   F  Major  143.396    -8.142   0.7030   0.617         0.515  \n",
       "2        231041   E  Minor  178.054    -6.796   0.7410   0.722         0.557  \n",
       "3        233124   G  Major  151.467    -7.878   0.3440   0.747         0.255  \n",
       "4        231127   C  Major  139.106    -7.242   0.7840   0.616         0.562  \n",
       "5        258646  A#  Major   73.579    -6.164   0.7260   0.704         0.255  \n",
       "6        307061   A  Minor  109.019   -10.116   0.6360   0.550         0.704  \n",
       "7        196802   B  Minor  181.932    -8.101   0.2990   0.712         0.462  \n",
       "8        254848   D  Major   92.001    -7.435   0.1020   0.641         0.520  \n",
       "9        346131  F#  Minor  124.979   -10.830   0.0907   0.452         0.629  \n",
       "10       354815   C  Major  100.047    -9.457   0.3560   0.563         0.589  \n",
       "11       294949   B  Minor  130.030    -7.969   0.2270   0.643         0.574  \n",
       "12       235867   F  Major  129.008    -6.148   0.8840   0.746         0.766  \n",
       "13       234347  G#  Major  121.999    -7.323   0.9640   0.642         0.831  \n",
       "14       172773  A#  Major  121.011    -5.196   0.7380   0.843         0.753  \n",
       "15       223080   G  Major  142.955    -4.622   0.8540   0.796         0.671  \n",
       "16       242307  D#  Minor  114.952    -7.832   0.5910   0.706         0.667  \n",
       "17       239133   E  Minor  122.005   -10.826   0.2410   0.297         0.684  \n",
       "18       210667   C  Minor  123.960    -6.454   0.8970   0.704         0.755  \n",
       "19       288507   C  Minor   89.992    -6.323   0.7680   0.655         0.669  \n",
       "20       248813   A  Major  105.006    -5.544   0.9150   0.778         0.781  \n",
       "21       227280   E  Major  112.005    -9.471   0.1910   0.525         0.676  \n",
       "22       225693   B  Minor  133.480    -9.715   0.4080   0.416         0.777  \n",
       "23       234466  G#  Major  124.957    -5.757   0.7030   0.684         0.696  \n",
       "24       234466  G#  Major  124.957    -5.757   0.7030   0.684         0.696  \n",
       "25       207413   C  Major  132.898    -7.190   0.4950   0.432         0.686  \n",
       "26       206200  C#  Major  122.014    -5.141   0.9610   0.666         0.757  \n",
       "27       181013  C#  Major  125.901    -8.091   0.8780   0.606         0.779  \n",
       "28       228880   E  Major  133.046    -5.394   0.6350   0.707         0.719  \n",
       "29       195200   F  Major  143.925    -6.112   0.6690   0.749         0.734  \n",
       "30       204920   D  Major  129.955    -7.740   0.4810   0.568         0.676  \n",
       "31       199507  A#  Major  100.019    -7.075   0.8730   0.607         0.756  \n",
       "32       211867   C  Major   92.505    -4.488   0.7910   0.884         0.653  \n",
       "33       208413   C  Minor   83.989    -6.379   0.7340   0.622         0.679  \n",
       "34       164907   C  Major  116.033    -5.244   0.3750   0.639         0.710  \n",
       "35       201587  A#  Major  112.721   -10.228   0.2050   0.243         0.559  "
      ]
     },
     "execution_count": 41,
     "metadata": {},
     "output_type": "execute_result"
    }
   ],
   "source": [
    "bandalos_chinos_features"
   ]
  },
  {
   "cell_type": "markdown",
   "metadata": {},
   "source": [
    "---------------------------------------------------------------------------------"
   ]
  },
  {
   "cell_type": "markdown",
   "metadata": {},
   "source": [
    "### Cálculo de media y mediana de features"
   ]
  },
  {
   "cell_type": "code",
   "execution_count": 42,
   "metadata": {},
   "outputs": [],
   "source": [
    "# Se calcula media y mediana para cada artista\n",
    "def get_statistic_df(df_features, statistic):\n",
    "    \n",
    "    if statistic == 'mean':\n",
    "        features_statistic = df_features.mean()\n",
    "        \n",
    "    elif statistic == 'median':\n",
    "        features_statistic = df_features.median()\n",
    "              \n",
    "    df_statistic_values = pd.DataFrame(features_statistic, columns=[statistic])\n",
    "    df_statistic_values.index.name = 'features'\n",
    "    \n",
    "    return df_statistic_values"
   ]
  },
  {
   "cell_type": "code",
   "execution_count": 43,
   "metadata": {},
   "outputs": [],
   "source": [
    "def get_features_statisctic_values(df_features):\n",
    "#     df_features = load_dataframe(band)\n",
    "    df_mean = get_statistic_df(df_features, 'mean')\n",
    "    df_median = get_statistic_df(df_features, 'median')\n",
    "    \n",
    "    df_statistics = pd.merge(df_mean, df_median, on='features')\n",
    "    \n",
    "    return df_statistics"
   ]
  },
  {
   "cell_type": "code",
   "execution_count": 44,
   "metadata": {},
   "outputs": [],
   "source": [
    "df_stat_BC = get_features_statisctic_values(bandalos_chinos_features)\n",
    "df_stat_DR = get_features_statisctic_values(de_la_rivera_features)"
   ]
  },
  {
   "cell_type": "code",
   "execution_count": 45,
   "metadata": {},
   "outputs": [
    {
     "data": {
      "text/html": [
       "<div>\n",
       "<style scoped>\n",
       "    .dataframe tbody tr th:only-of-type {\n",
       "        vertical-align: middle;\n",
       "    }\n",
       "\n",
       "    .dataframe tbody tr th {\n",
       "        vertical-align: top;\n",
       "    }\n",
       "\n",
       "    .dataframe thead th {\n",
       "        text-align: right;\n",
       "    }\n",
       "</style>\n",
       "<table border=\"1\" class=\"dataframe\">\n",
       "  <thead>\n",
       "    <tr style=\"text-align: right;\">\n",
       "      <th></th>\n",
       "      <th>mean</th>\n",
       "      <th>median</th>\n",
       "    </tr>\n",
       "    <tr>\n",
       "      <th>features</th>\n",
       "      <th></th>\n",
       "      <th></th>\n",
       "    </tr>\n",
       "  </thead>\n",
       "  <tbody>\n",
       "    <tr>\n",
       "      <th>duration_ms</th>\n",
       "      <td>229710.083333</td>\n",
       "      <td>228080.0000</td>\n",
       "    </tr>\n",
       "    <tr>\n",
       "      <th>tempo</th>\n",
       "      <td>122.632972</td>\n",
       "      <td>124.4585</td>\n",
       "    </tr>\n",
       "    <tr>\n",
       "      <th>loudness</th>\n",
       "      <td>-7.310139</td>\n",
       "      <td>-7.2160</td>\n",
       "    </tr>\n",
       "    <tr>\n",
       "      <th>valence</th>\n",
       "      <td>0.583342</td>\n",
       "      <td>0.6860</td>\n",
       "    </tr>\n",
       "    <tr>\n",
       "      <th>energy</th>\n",
       "      <td>0.630222</td>\n",
       "      <td>0.6425</td>\n",
       "    </tr>\n",
       "    <tr>\n",
       "      <th>danceability</th>\n",
       "      <td>0.636556</td>\n",
       "      <td>0.6775</td>\n",
       "    </tr>\n",
       "  </tbody>\n",
       "</table>\n",
       "</div>"
      ],
      "text/plain": [
       "                       mean       median\n",
       "features                                \n",
       "duration_ms   229710.083333  228080.0000\n",
       "tempo            122.632972     124.4585\n",
       "loudness          -7.310139      -7.2160\n",
       "valence            0.583342       0.6860\n",
       "energy             0.630222       0.6425\n",
       "danceability       0.636556       0.6775"
      ]
     },
     "execution_count": 45,
     "metadata": {},
     "output_type": "execute_result"
    }
   ],
   "source": [
    "df_stat_BC"
   ]
  },
  {
   "cell_type": "code",
   "execution_count": 46,
   "metadata": {},
   "outputs": [
    {
     "data": {
      "text/html": [
       "<div>\n",
       "<style scoped>\n",
       "    .dataframe tbody tr th:only-of-type {\n",
       "        vertical-align: middle;\n",
       "    }\n",
       "\n",
       "    .dataframe tbody tr th {\n",
       "        vertical-align: top;\n",
       "    }\n",
       "\n",
       "    .dataframe thead th {\n",
       "        text-align: right;\n",
       "    }\n",
       "</style>\n",
       "<table border=\"1\" class=\"dataframe\">\n",
       "  <thead>\n",
       "    <tr style=\"text-align: right;\">\n",
       "      <th></th>\n",
       "      <th>mean</th>\n",
       "      <th>median</th>\n",
       "    </tr>\n",
       "    <tr>\n",
       "      <th>features</th>\n",
       "      <th></th>\n",
       "      <th></th>\n",
       "    </tr>\n",
       "  </thead>\n",
       "  <tbody>\n",
       "    <tr>\n",
       "      <th>duration_ms</th>\n",
       "      <td>230702.972222</td>\n",
       "      <td>231643.500</td>\n",
       "    </tr>\n",
       "    <tr>\n",
       "      <th>tempo</th>\n",
       "      <td>114.059944</td>\n",
       "      <td>118.012</td>\n",
       "    </tr>\n",
       "    <tr>\n",
       "      <th>loudness</th>\n",
       "      <td>-6.804889</td>\n",
       "      <td>-7.050</td>\n",
       "    </tr>\n",
       "    <tr>\n",
       "      <th>valence</th>\n",
       "      <td>0.724944</td>\n",
       "      <td>0.753</td>\n",
       "    </tr>\n",
       "    <tr>\n",
       "      <th>energy</th>\n",
       "      <td>0.703083</td>\n",
       "      <td>0.690</td>\n",
       "    </tr>\n",
       "    <tr>\n",
       "      <th>danceability</th>\n",
       "      <td>0.745556</td>\n",
       "      <td>0.739</td>\n",
       "    </tr>\n",
       "  </tbody>\n",
       "</table>\n",
       "</div>"
      ],
      "text/plain": [
       "                       mean      median\n",
       "features                               \n",
       "duration_ms   230702.972222  231643.500\n",
       "tempo            114.059944     118.012\n",
       "loudness          -6.804889      -7.050\n",
       "valence            0.724944       0.753\n",
       "energy             0.703083       0.690\n",
       "danceability       0.745556       0.739"
      ]
     },
     "execution_count": 46,
     "metadata": {},
     "output_type": "execute_result"
    }
   ],
   "source": [
    "df_stat_DR"
   ]
  },
  {
   "cell_type": "code",
   "execution_count": 47,
   "metadata": {},
   "outputs": [
    {
     "data": {
      "text/html": [
       "<div>\n",
       "<style scoped>\n",
       "    .dataframe tbody tr th:only-of-type {\n",
       "        vertical-align: middle;\n",
       "    }\n",
       "\n",
       "    .dataframe tbody tr th {\n",
       "        vertical-align: top;\n",
       "    }\n",
       "\n",
       "    .dataframe thead th {\n",
       "        text-align: right;\n",
       "    }\n",
       "</style>\n",
       "<table border=\"1\" class=\"dataframe\">\n",
       "  <thead>\n",
       "    <tr style=\"text-align: right;\">\n",
       "      <th></th>\n",
       "      <th>BC_mean</th>\n",
       "      <th>BC_median</th>\n",
       "      <th>DR_mean</th>\n",
       "      <th>DR_median</th>\n",
       "    </tr>\n",
       "    <tr>\n",
       "      <th>features</th>\n",
       "      <th></th>\n",
       "      <th></th>\n",
       "      <th></th>\n",
       "      <th></th>\n",
       "    </tr>\n",
       "  </thead>\n",
       "  <tbody>\n",
       "    <tr>\n",
       "      <th>duration_ms</th>\n",
       "      <td>229710.083333</td>\n",
       "      <td>228080.0000</td>\n",
       "      <td>230702.972222</td>\n",
       "      <td>231643.500</td>\n",
       "    </tr>\n",
       "    <tr>\n",
       "      <th>tempo</th>\n",
       "      <td>122.632972</td>\n",
       "      <td>124.4585</td>\n",
       "      <td>114.059944</td>\n",
       "      <td>118.012</td>\n",
       "    </tr>\n",
       "    <tr>\n",
       "      <th>loudness</th>\n",
       "      <td>-7.310139</td>\n",
       "      <td>-7.2160</td>\n",
       "      <td>-6.804889</td>\n",
       "      <td>-7.050</td>\n",
       "    </tr>\n",
       "    <tr>\n",
       "      <th>valence</th>\n",
       "      <td>0.583342</td>\n",
       "      <td>0.6860</td>\n",
       "      <td>0.724944</td>\n",
       "      <td>0.753</td>\n",
       "    </tr>\n",
       "    <tr>\n",
       "      <th>energy</th>\n",
       "      <td>0.630222</td>\n",
       "      <td>0.6425</td>\n",
       "      <td>0.703083</td>\n",
       "      <td>0.690</td>\n",
       "    </tr>\n",
       "    <tr>\n",
       "      <th>danceability</th>\n",
       "      <td>0.636556</td>\n",
       "      <td>0.6775</td>\n",
       "      <td>0.745556</td>\n",
       "      <td>0.739</td>\n",
       "    </tr>\n",
       "  </tbody>\n",
       "</table>\n",
       "</div>"
      ],
      "text/plain": [
       "                    BC_mean    BC_median        DR_mean   DR_median\n",
       "features                                                           \n",
       "duration_ms   229710.083333  228080.0000  230702.972222  231643.500\n",
       "tempo            122.632972     124.4585     114.059944     118.012\n",
       "loudness          -7.310139      -7.2160      -6.804889      -7.050\n",
       "valence            0.583342       0.6860       0.724944       0.753\n",
       "energy             0.630222       0.6425       0.703083       0.690\n",
       "danceability       0.636556       0.6775       0.745556       0.739"
      ]
     },
     "execution_count": 47,
     "metadata": {},
     "output_type": "execute_result"
    }
   ],
   "source": [
    "# Dataframe general con los valores de los estadísticos de cada feature para cada artista\n",
    "df_statisctics = pd.merge(df_stat_BC, df_stat_DR, on='features')\n",
    "df_statisctics = df_statisctics.rename(index=str, columns={'mean_x':'BC_mean','median_x':'BC_median', \n",
    "                                                'mean_y':'DR_mean', 'median_y':'DR_median'})\n",
    "\n",
    "df_statisctics"
   ]
  },
  {
   "cell_type": "markdown",
   "metadata": {},
   "source": [
    "---------------------------------------------------------------------------------"
   ]
  },
  {
   "cell_type": "markdown",
   "metadata": {},
   "source": [
    "### Comparación de estadísticos"
   ]
  },
  {
   "cell_type": "code",
   "execution_count": 48,
   "metadata": {},
   "outputs": [
    {
     "data": {
      "text/html": [
       "<div>\n",
       "<style scoped>\n",
       "    .dataframe tbody tr th:only-of-type {\n",
       "        vertical-align: middle;\n",
       "    }\n",
       "\n",
       "    .dataframe tbody tr th {\n",
       "        vertical-align: top;\n",
       "    }\n",
       "\n",
       "    .dataframe thead th {\n",
       "        text-align: right;\n",
       "    }\n",
       "</style>\n",
       "<table border=\"1\" class=\"dataframe\">\n",
       "  <thead>\n",
       "    <tr style=\"text-align: right;\">\n",
       "      <th>features</th>\n",
       "      <th>band_statistic</th>\n",
       "      <th>duration_ms</th>\n",
       "      <th>tempo</th>\n",
       "      <th>loudness</th>\n",
       "      <th>valence</th>\n",
       "      <th>energy</th>\n",
       "      <th>danceability</th>\n",
       "    </tr>\n",
       "  </thead>\n",
       "  <tbody>\n",
       "    <tr>\n",
       "      <th>0</th>\n",
       "      <td>BC_mean</td>\n",
       "      <td>229710.083333</td>\n",
       "      <td>122.632972</td>\n",
       "      <td>-7.310139</td>\n",
       "      <td>0.583342</td>\n",
       "      <td>0.630222</td>\n",
       "      <td>0.636556</td>\n",
       "    </tr>\n",
       "    <tr>\n",
       "      <th>1</th>\n",
       "      <td>DR_mean</td>\n",
       "      <td>230702.972222</td>\n",
       "      <td>114.059944</td>\n",
       "      <td>-6.804889</td>\n",
       "      <td>0.724944</td>\n",
       "      <td>0.703083</td>\n",
       "      <td>0.745556</td>\n",
       "    </tr>\n",
       "  </tbody>\n",
       "</table>\n",
       "</div>"
      ],
      "text/plain": [
       "features band_statistic    duration_ms       tempo  loudness   valence  \\\n",
       "0               BC_mean  229710.083333  122.632972 -7.310139  0.583342   \n",
       "1               DR_mean  230702.972222  114.059944 -6.804889  0.724944   \n",
       "\n",
       "features    energy  danceability  \n",
       "0         0.630222      0.636556  \n",
       "1         0.703083      0.745556  "
      ]
     },
     "execution_count": 48,
     "metadata": {},
     "output_type": "execute_result"
    }
   ],
   "source": [
    "# Se transpone el dataframe para facilitar el gráfico de los valores\n",
    "\n",
    "df = df_statisctics[['BC_mean', 'DR_mean' ]].transpose()\n",
    "df = df.reset_index()\n",
    "\n",
    "df = df.rename(columns={'index':'band_statistic'})\n",
    "df"
   ]
  },
  {
   "cell_type": "markdown",
   "metadata": {},
   "source": [
    "  \n",
    "   #### Features:\n",
    "   - **Valence**\n",
    "   - **Energy**\n",
    "   - **Danceability**"
   ]
  },
  {
   "cell_type": "code",
   "execution_count": 49,
   "metadata": {},
   "outputs": [
    {
     "data": {
      "text/plain": [
       "<matplotlib.axes._subplots.AxesSubplot at 0x7f967b613a60>"
      ]
     },
     "execution_count": 49,
     "metadata": {},
     "output_type": "execute_result"
    },
    {
     "data": {
      "image/png": "[encoded data removed]",
      "text/plain": [
       "<Figure size 792x504 with 2 Axes>"
      ]
     },
     "metadata": {
      "needs_background": "light"
     },
     "output_type": "display_data"
    }
   ],
   "source": [
    "fig, ax =plt.subplots(1,2, figsize=(11,7),)\n",
    "\n",
    "sns.boxplot(data=bandalos_chinos_features[['valence', 'energy', 'danceability']], ax=ax[0])\n",
    "sns.boxplot(data=de_la_rivera_features[['valence', 'energy', 'danceability']], ax=ax[1], palette=\"Set2\")"
   ]
  },
  {
   "cell_type": "markdown",
   "metadata": {},
   "source": [
    "En base al gráfico anterior, se observa que la media de DLR en todas las features es mayor respecto a las medias de BC. Además se pueden observar los outliers de las features y la desviación estándar de cada una de las features."
   ]
  },
  {
   "cell_type": "markdown",
   "metadata": {},
   "source": [
    "---------------------------------------------------------------------------------"
   ]
  },
  {
   "cell_type": "markdown",
   "metadata": {},
   "source": [
    "### Análisis de features Inherentes"
   ]
  },
  {
   "cell_type": "markdown",
   "metadata": {},
   "source": [
    "Para comenzar, se analizarán features inherentes del artista a lo largo de sus tracks:\n",
    "   - \"Key\" o \"Tonalidad\" \n",
    "   - \"Mode\" o \"Modo\" \n",
    "   - Tempo (BMP)\n",
    "   - Duración (ms)\n",
    "   - Loudness (dB)"
   ]
  },
  {
   "cell_type": "markdown",
   "metadata": {},
   "source": [
    "#### *Key - Tonalidad*"
   ]
  },
  {
   "cell_type": "code",
   "execution_count": 51,
   "metadata": {},
   "outputs": [
    {
     "data": {
      "text/plain": [
       "Text(0.5, 1.0, 'Tonalidades utilizadas por De La Rivera')"
      ]
     },
     "execution_count": 51,
     "metadata": {},
     "output_type": "execute_result"
    },
    {
     "data": {
      "image/png": "[encoded data removed]",
      "text/plain": [
       "<Figure size 864x432 with 2 Axes>"
      ]
     },
     "metadata": {
      "needs_background": "light"
     },
     "output_type": "display_data"
    }
   ],
   "source": [
    "fig, ax =plt.subplots(1,2, figsize=(12,6), sharey=True)\n",
    "\n",
    "sns.countplot(bandalos_chinos_features[\"key\"],ax=ax[0],color=\"green\").set_title('Tonalidades utilizadas por Bándalos Chinos')\n",
    "sns.countplot(de_la_rivera_features[\"key\"], ax=ax[1],color=\"red\").set_title('Tonalidades utilizadas por De La Rivera')\n"
   ]
  },
  {
   "cell_type": "markdown",
   "metadata": {},
   "source": [
    "Respecto a la tonalidad, podemos observar que, respecto al rango tonal, Bándalos Chinos opta por variar las tonalidades utilzadas a lo largo de sus discos. En total se denotan 12 tonalidades distintas (con un predominio de canciones en Do/C) en un total de 36 canciones, mientras que De La Rivera se mantiene en 10 tonalidades en la misma cantidad de canciones (con un predominio de canciones en La/A).\n"
   ]
  },
  {
   "cell_type": "markdown",
   "metadata": {},
   "source": [
    "---------------------------------------------------------------------------------"
   ]
  },
  {
   "cell_type": "markdown",
   "metadata": {},
   "source": [
    "#### *Mode - Modo*"
   ]
  },
  {
   "cell_type": "code",
   "execution_count": 52,
   "metadata": {},
   "outputs": [
    {
     "data": {
      "text/plain": [
       "Text(0.5, 1.0, 'Modos utilizados por De La Rivera')"
      ]
     },
     "execution_count": 52,
     "metadata": {},
     "output_type": "execute_result"
    },
    {
     "data": {
      "image/png": "[encoded data removed]",
      "text/plain": [
       "<Figure size 864x432 with 2 Axes>"
      ]
     },
     "metadata": {
      "needs_background": "light"
     },
     "output_type": "display_data"
    }
   ],
   "source": [
    "fig, ax =plt.subplots(1,2, figsize=(12,6), sharey=True)\n",
    "\n",
    "sns.countplot(bandalos_chinos_features[\"mode\"],ax=ax[0],color=\"violet\").set_title('Modos utilizados por Bándalos Chinos')\n",
    "sns.countplot(de_la_rivera_features[\"mode\"], ax=ax[1],color=\"yellow\").set_title('Modos utilizados por De La Rivera')"
   ]
  },
  {
   "cell_type": "markdown",
   "metadata": {},
   "source": [
    "En cuanto al modo de las canciones, Bándalos Chinos mantiene una modalidad mayor para gran parte de sus canciones, mientras que De La Rivera opta por modos menores."
   ]
  },
  {
   "cell_type": "markdown",
   "metadata": {},
   "source": [
    "\n",
    "Ambas features fuera de contexto no aportan gran información ya que la tonalidad o el modo muchas veces se ven condicionados por factores propios de la banda como los registros vocales de las voces o el estilo que adopte la banda, pero permiten a su vez explicar porqué features que analizaremos después toman determinados valores.\n"
   ]
  },
  {
   "cell_type": "markdown",
   "metadata": {},
   "source": [
    "---------------------------------------------------------------------------------"
   ]
  },
  {
   "cell_type": "markdown",
   "metadata": {},
   "source": [
    "#### *Tempo*"
   ]
  },
  {
   "cell_type": "code",
   "execution_count": 53,
   "metadata": {},
   "outputs": [
    {
     "data": {
      "text/plain": [
       "Text(0.5, 1.0, 'Tempo DLR')"
      ]
     },
     "execution_count": 53,
     "metadata": {},
     "output_type": "execute_result"
    },
    {
     "data": {
      "image/png": "[encoded data removed]",
      "text/plain": [
       "<Figure size 864x432 with 2 Axes>"
      ]
     },
     "metadata": {
      "needs_background": "light"
     },
     "output_type": "display_data"
    }
   ],
   "source": [
    "fig, ax =plt.subplots(1,2, figsize=(12,6), sharey=True)\n",
    "\n",
    "sns.distplot(bandalos_chinos_features[\"tempo\"],ax=ax[0],color=\"skyblue\", kde=False, norm_hist=False).set_title(\"Tempo BC\")\n",
    "sns.distplot(de_la_rivera_features[\"tempo\"],ax=ax[1],color=\"green\", kde=False, norm_hist=False).set_title(\"Tempo DLR\")\n"
   ]
  },
  {
   "cell_type": "code",
   "execution_count": 54,
   "metadata": {},
   "outputs": [
    {
     "data": {
      "text/plain": [
       "Text(0.5, 0.98, 'Tempo a través de sus canciones')"
      ]
     },
     "execution_count": 54,
     "metadata": {},
     "output_type": "execute_result"
    },
    {
     "data": {
      "image/png": "[encoded data removed]",
      "text/plain": [
       "<Figure size 720x432 with 1 Axes>"
      ]
     },
     "metadata": {
      "needs_background": "light"
     },
     "output_type": "display_data"
    }
   ],
   "source": [
    "plt.figure(figsize=(10,6))\n",
    "\n",
    "plt.plot('tempo', data=bandalos_chinos_features, marker='.', markerfacecolor='blue', markersize=12, color='skyblue', linewidth=2, label=\"Bandalos Chinos\")\n",
    "plt.plot('tempo', data=de_la_rivera_features, marker='x', color='green', linewidth=2, label=\"De La Rivera\")\n",
    "plt.ylabel(\"Tempo\")\n",
    "plt.legend()\n",
    "fig.suptitle(\"Tempo a través de sus canciones\", fontsize=20)"
   ]
  },
  {
   "cell_type": "markdown",
   "metadata": {},
   "source": [
    "En base al primer gráfico se observa que BC opta en la mayoría de sus tracks por utilizar tempos entre 120 y 130 BMP en su mayoría, con pocos tracks con valores mayores o menores. Por otra parte, DLR utiliza tempos más próximos a los 120 BPM o incluso menores.\n",
    "\n",
    "A partir del gráfico, se visualiza que BC en sus primeros discos maneja tempos muy variables entre sus canciones. Se puede ver en los primeros valores que adquiere la función ya que posee picos y valles muy juntos. A medida que la banda evolciona a través de sus discos, comienza a manejar tempos que rondan los 120 BPM.\n",
    "\n",
    "Por otro lado DLR comienza con tempos que rondan los 120 BPM pero a medida que avanzan en su trayectoria, comienzan a utilizar tempos más altos con picos en 170 inclusive y descendiendo en el último año."
   ]
  },
  {
   "cell_type": "markdown",
   "metadata": {},
   "source": [
    "---------------------------------------------------------------------------------"
   ]
  },
  {
   "cell_type": "markdown",
   "metadata": {},
   "source": [
    "#### *Duración*"
   ]
  },
  {
   "cell_type": "code",
   "execution_count": 57,
   "metadata": {},
   "outputs": [
    {
     "data": {
      "text/plain": [
       "Text(0.5, 1.0, 'Duración DLR')"
      ]
     },
     "execution_count": 57,
     "metadata": {},
     "output_type": "execute_result"
    },
    {
     "data": {
      "image/png": "[encoded data removed]",
      "text/plain": [
       "<Figure size 1008x432 with 2 Axes>"
      ]
     },
     "metadata": {
      "needs_background": "light"
     },
     "output_type": "display_data"
    }
   ],
   "source": [
    "fig, ax =plt.subplots(1,2, figsize=(14,6), sharey=True)\n",
    "sns.distplot(bandalos_chinos_features[\"duration_ms\"],ax=ax[0],color=\"blue\", kde=False, norm_hist=False).set_title(\"Duración BC\")\n",
    "sns.distplot(de_la_rivera_features[\"duration_ms\"],ax=ax[1],color=\"orange\", kde=False, norm_hist=False).set_title(\"Duración DLR\")"
   ]
  },
  {
   "cell_type": "code",
   "execution_count": 56,
   "metadata": {},
   "outputs": [
    {
     "data": {
      "text/plain": [
       "Text(0.5, 0.98, 'Duración de tracks')"
      ]
     },
     "execution_count": 56,
     "metadata": {},
     "output_type": "execute_result"
    },
    {
     "data": {
      "image/png": "[encoded data removed]",
      "text/plain": [
       "<Figure size 720x432 with 1 Axes>"
      ]
     },
     "metadata": {
      "needs_background": "light"
     },
     "output_type": "display_data"
    }
   ],
   "source": [
    "plt.figure(figsize=(10,6))\n",
    "\n",
    "plt.plot('duration_ms', data=bandalos_chinos_features, marker='.', markerfacecolor='green', markersize=12, color='blue', linewidth=2, label=\"Bandalos Chinos\")\n",
    "plt.plot('duration_ms', data=de_la_rivera_features, marker='x', color='orange', linewidth=2, label=\"De La Rivera\")\n",
    "plt.ylabel(\"Duración (ms)\")\n",
    "plt.legend()\n",
    "fig.suptitle(\"Duración de tracks\", fontsize=20)"
   ]
  },
  {
   "cell_type": "markdown",
   "metadata": {},
   "source": [
    "En base al primer gráfico podemos observar que la duración de las canciones se concentra en mayor medida entre los 200000 y 250000 milisegundos mientras que en el gráfico de DLR se agrupan valores regularmente entre los  180000 y los 280000 milisegundos.\n",
    "Por otra parte, en el segundo gráfico observa que, más allá de que BC varía en la duración de sus tracks, las diferencias son menos pronunciadas respecto a los tracks de DLR a medida que avanza la trayectoria de ambas bandas. BC mantiene más regular la duración de sus tracks."
   ]
  },
  {
   "cell_type": "markdown",
   "metadata": {},
   "source": [
    "---------------------------------------------------------------------------------"
   ]
  },
  {
   "cell_type": "markdown",
   "metadata": {},
   "source": [
    "#### *Loudness*"
   ]
  },
  {
   "cell_type": "code",
   "execution_count": 58,
   "metadata": {},
   "outputs": [
    {
     "data": {
      "text/plain": [
       "Text(0.5, 1.0, 'De La Rivera Loudness (dB)')"
      ]
     },
     "execution_count": 58,
     "metadata": {},
     "output_type": "execute_result"
    },
    {
     "data": {
      "text/plain": [
       "<Figure size 864x576 with 0 Axes>"
      ]
     },
     "metadata": {},
     "output_type": "display_data"
    },
    {
     "data": {
      "image/png": "[encoded data removed]",
      "text/plain": [
       "<Figure size 720x432 with 2 Axes>"
      ]
     },
     "metadata": {
      "needs_background": "light"
     },
     "output_type": "display_data"
    }
   ],
   "source": [
    "plt.figure(figsize=(12, 8))\n",
    "fig, ax =plt.subplots(1,2, figsize=(10,6), sharey=True)\n",
    "sns.distplot(bandalos_chinos_features[\"loudness\"],ax=ax[0],color=\"green\", kde=False, norm_hist=False, vertical=True).set_title('Bandalos Chinos Loudness (dB)')\n",
    "sns.distplot(de_la_rivera_features[\"loudness\"],ax=ax[1],color=\"red\", kde=False, norm_hist=False, vertical=True).set_title('De La Rivera Loudness (dB)')\n"
   ]
  },
  {
   "cell_type": "markdown",
   "metadata": {},
   "source": [
    "Loudness es una de las features donde se visualiza mayor diferencia entre ambas bandas. Mientras BC maneja un rango de loudness que va entre -11 dB a -4 aproximadamente, DLR maneja un rango más amplio que va de -11 a -2 aproximadamente. \n",
    "\n",
    "(Cabe destacar que los valores que adquiere esta feature varían según la técnica de producción, mezcla y compresión optada por la banda en cada track)"
   ]
  },
  {
   "cell_type": "markdown",
   "metadata": {},
   "source": [
    "---------------------------------------------------------------------------------"
   ]
  },
  {
   "cell_type": "markdown",
   "metadata": {},
   "source": [
    "### Análisis de features de Spotify"
   ]
  },
  {
   "cell_type": "markdown",
   "metadata": {},
   "source": [
    "#### Las próximas features a analizar son generadas por la API de Spotify y surgen de la combinación de características sonoras de los tracks. Estas son:\n",
    "   - Valence\n",
    "   - Energy\n",
    "   - Danceability"
   ]
  },
  {
   "cell_type": "markdown",
   "metadata": {},
   "source": [
    "---------------------------------------------------------------------------------"
   ]
  },
  {
   "cell_type": "markdown",
   "metadata": {},
   "source": [
    "#### *Valence*"
   ]
  },
  {
   "cell_type": "code",
   "execution_count": 59,
   "metadata": {},
   "outputs": [
    {
     "data": {
      "text/plain": [
       "Text(0.5, 1.0, 'Valence DLR')"
      ]
     },
     "execution_count": 59,
     "metadata": {},
     "output_type": "execute_result"
    },
    {
     "data": {
      "image/png": "[encoded data removed]",
      "text/plain": [
       "<Figure size 864x432 with 2 Axes>"
      ]
     },
     "metadata": {
      "needs_background": "light"
     },
     "output_type": "display_data"
    }
   ],
   "source": [
    "fig, ax =plt.subplots(1,2, figsize=(12,6), sharey=True)\n",
    "sns.distplot(bandalos_chinos_features[\"valence\"],ax=ax[0],color=\"blue\", kde=False, norm_hist=False, vertical=True).set_title(\"Valence BC\")\n",
    "sns.distplot(de_la_rivera_features[\"valence\"],ax=ax[1],color=\"orange\", kde=False, norm_hist=False, vertical=True).set_title(\"Valence DLR\")"
   ]
  },
  {
   "cell_type": "markdown",
   "metadata": {},
   "source": [
    "Como se puede visualizar en el gráfico, los valores de \"valence\" presentan distribuciones muy parecidas entre ambas bandas, ambas muy próximas al 1 pero DLR mostrando mayor cantidad de valores más próximos al 1. Esto significa que, en base a lo que esta medida representa, los tracks de DLR presentan un mayor grado de \"positividad musical\" respecto a los de BC."
   ]
  },
  {
   "cell_type": "markdown",
   "metadata": {},
   "source": [
    "---------------------------------------------------------------------------------"
   ]
  },
  {
   "cell_type": "markdown",
   "metadata": {},
   "source": [
    "#### *Energy*"
   ]
  },
  {
   "cell_type": "code",
   "execution_count": 60,
   "metadata": {},
   "outputs": [
    {
     "data": {
      "text/plain": [
       "Text(0.5, 1.0, 'Energy DLR')"
      ]
     },
     "execution_count": 60,
     "metadata": {},
     "output_type": "execute_result"
    },
    {
     "data": {
      "image/png": "[encoded data removed]",
      "text/plain": [
       "<Figure size 864x432 with 2 Axes>"
      ]
     },
     "metadata": {
      "needs_background": "light"
     },
     "output_type": "display_data"
    }
   ],
   "source": [
    "fig, ax =plt.subplots(1,2, figsize=(12,6), sharey=True)\n",
    "sns.distplot(bandalos_chinos_features[\"energy\"],ax=ax[0],color=\"skyblue\", kde=False, norm_hist=False, vertical=True).set_title(\"Energy BC\")\n",
    "sns.distplot(de_la_rivera_features[\"energy\"],ax=ax[1],color=\"olive\", kde=False, norm_hist=False, vertical=True).set_title(\"Energy DLR\")"
   ]
  },
  {
   "cell_type": "markdown",
   "metadata": {},
   "source": [
    "A diferencia del valence, la energía de los tracks de ambas bandas presenta distribuciones distintas para cada caso. En el caso de BC, los valores se aproximan más a 0.6 mientras que en DLR se aproximan más a 1. Esto significa que en vistas generales, DLR presenta mayor \"energía\" en sus tracks que BC."
   ]
  },
  {
   "cell_type": "markdown",
   "metadata": {},
   "source": [
    "---------------------------------------------------------------------------------"
   ]
  },
  {
   "cell_type": "markdown",
   "metadata": {},
   "source": [
    "#### *Danceability*"
   ]
  },
  {
   "cell_type": "code",
   "execution_count": 61,
   "metadata": {},
   "outputs": [
    {
     "data": {
      "text/plain": [
       "Text(0.5, 1.0, 'Danceability DLR')"
      ]
     },
     "execution_count": 61,
     "metadata": {},
     "output_type": "execute_result"
    },
    {
     "data": {
      "image/png": "[encoded data removed]",
      "text/plain": [
       "<Figure size 864x432 with 2 Axes>"
      ]
     },
     "metadata": {
      "needs_background": "light"
     },
     "output_type": "display_data"
    }
   ],
   "source": [
    "fig, ax =plt.subplots(1,2, figsize=(12,6), sharey=True)\n",
    "sns.distplot(bandalos_chinos_features[\"danceability\"],ax=ax[0],color=\"green\", kde=False, norm_hist=False, vertical=True).set_title(\"Danceability BC\")\n",
    "sns.distplot(de_la_rivera_features[\"danceability\"],ax=ax[1],color=\"red\", kde=False, norm_hist=False, vertical=True).set_title(\"Danceability DLR\")"
   ]
  },
  {
   "cell_type": "markdown",
   "metadata": {},
   "source": [
    "En el caso de la feature \"danceability\" se observa que los tracks de DLR tienen mayor valor de danceability (son más \"bailables\") respecto a los de BC. BC agrupa mayor cantidad de valores cerca de 0.6 mientras que DLR agrupa mayor cantidad cerca de 0.8."
   ]
  },
  {
   "cell_type": "markdown",
   "metadata": {},
   "source": [
    "---------------------------------------------------------------------------------"
   ]
  },
  {
   "cell_type": "markdown",
   "metadata": {},
   "source": [
    "### *Correlaciones*"
   ]
  },
  {
   "cell_type": "markdown",
   "metadata": {},
   "source": [
    "Más allá de que el análisis de las features por separado aporta información que permite responder la hipótesis inicial, la correlación entre las features termina de darle forma a las conclusiones previamente obtenidas.\n"
   ]
  },
  {
   "cell_type": "markdown",
   "metadata": {},
   "source": [
    "#### **Energy & Valence**"
   ]
  },
  {
   "cell_type": "code",
   "execution_count": 30,
   "metadata": {},
   "outputs": [
    {
     "data": {
      "text/plain": [
       "Text(0.5, 1.08, 'BC Energy & Valence')"
      ]
     },
     "execution_count": 30,
     "metadata": {},
     "output_type": "execute_result"
    },
    {
     "data": {
      "image/png": "[encoded data removed]",
      "text/plain": [
       "<Figure size 360x360 with 6 Axes>"
      ]
     },
     "metadata": {
      "needs_background": "light"
     },
     "output_type": "display_data"
    }
   ],
   "source": [
    "g = sns.pairplot(bandalos_chinos_features[['energy', 'valence']])\n",
    "g.fig.suptitle(\"BC Energy & Valence\", y=1.08)"
   ]
  },
  {
   "cell_type": "code",
   "execution_count": 31,
   "metadata": {},
   "outputs": [
    {
     "data": {
      "text/plain": [
       "Text(0.5, 1.08, 'DLR Energy & Valence')"
      ]
     },
     "execution_count": 31,
     "metadata": {},
     "output_type": "execute_result"
    },
    {
     "data": {
      "image/png": "[encoded data removed]",
      "text/plain": [
       "<Figure size 360x360 with 6 Axes>"
      ]
     },
     "metadata": {
      "needs_background": "light"
     },
     "output_type": "display_data"
    }
   ],
   "source": [
    "g = sns.pairplot(de_la_rivera_features[['energy', 'valence']])\n",
    "g.fig.suptitle(\"DLR Energy & Valence\", y=1.08)"
   ]
  },
  {
   "cell_type": "markdown",
   "metadata": {},
   "source": [
    "A partir de los pairplots anteriores se puede observar la relación entre las features Energy y Valence para cada banda.\n",
    "\n",
    "En el caso de BC, se puede ver que a medida que una de estas dos toma valores más próximos a 1, la otra también, lo que permite asumir que ambas variables son directamente proporcionales. Sin embargo DLR presenta casos donde una de las features toma un valor próximo a 1 y la otra un valor más cerca de 0, posee una distribución más heterogénea.\n",
    "\n",
    "Esto significa que los tracks de BC con mayor energía mantienen un alto nivel de \"positividad transmitida\" a diferencia de DLR donde no se relacionan directamente estas features. \n",
    "Este comportamiento de las features de ambas bandas puede deberse a la tendencia de cada banda de optar por modos mayores o menores en sus tracks. Se asocian los modos mayores a estados más positivos, alegres; mientras que los menores a la tristeza o nostalgia. Mayor uso de modos mayores implicará una mayor valencia en los tracks en muchos casos."
   ]
  },
  {
   "cell_type": "markdown",
   "metadata": {},
   "source": [
    "#### **Danceability & Energy**"
   ]
  },
  {
   "cell_type": "code",
   "execution_count": 32,
   "metadata": {},
   "outputs": [
    {
     "data": {
      "text/plain": [
       "Text(0.5, 1.08, 'BC Danceability & Energy')"
      ]
     },
     "execution_count": 32,
     "metadata": {},
     "output_type": "execute_result"
    },
    {
     "data": {
      "image/png": "[encoded data removed]",
      "text/plain": [
       "<Figure size 360x360 with 6 Axes>"
      ]
     },
     "metadata": {
      "needs_background": "light"
     },
     "output_type": "display_data"
    }
   ],
   "source": [
    "g = sns.pairplot(bandalos_chinos_features[['danceability', 'energy']])\n",
    "g.fig.suptitle(\"BC Danceability & Energy\", y=1.08)"
   ]
  },
  {
   "cell_type": "code",
   "execution_count": 33,
   "metadata": {},
   "outputs": [
    {
     "data": {
      "text/plain": [
       "Text(0.5, 1.08, 'DLR Danceability & Energy')"
      ]
     },
     "execution_count": 33,
     "metadata": {},
     "output_type": "execute_result"
    },
    {
     "data": {
      "image/png": "[encoded data removed]",
      "text/plain": [
       "<Figure size 360x360 with 6 Axes>"
      ]
     },
     "metadata": {
      "needs_background": "light"
     },
     "output_type": "display_data"
    }
   ],
   "source": [
    "g = sns.pairplot(de_la_rivera_features[['danceability', 'energy']])\n",
    "g.fig.suptitle(\"DLR Danceability & Energy\", y=1.08)"
   ]
  },
  {
   "cell_type": "markdown",
   "metadata": {},
   "source": [
    "A partir del gráfico se observa que la feature energy es directamente proporcional a danceability. Ambas bandas toman altos valores de ambas features pero DLR agrupa mayor cantidad de valores de ambas features cerca de 1. Esto se debe a la cercanía que tiene DLR a géneros como el funk o el electro funk, géneros más bailables respecto al electro pop de BC."
   ]
  },
  {
   "cell_type": "markdown",
   "metadata": {},
   "source": [
    "---------------------------------------------------------------------------------"
   ]
  },
  {
   "cell_type": "markdown",
   "metadata": {},
   "source": [
    "### Ahora bien, ¿cómo respondemos a la pregunta planteada?"
   ]
  },
  {
   "cell_type": "markdown",
   "metadata": {},
   "source": [
    "En base al análisis realizado, se pueden visualizar las características que le dan a Bandalos Chinos la popularidad o \"fama\" respecto a De La Rivera.\n",
    "\n",
    "A pesar de que la banda cordobesa De La Rivera posee una mayor trayectoria respecto a la banda bonaerense Bandalos Chinos (tienen mayor cantidad de discos y canciones lanzadas desde el año 2010) y ambas encontrarse dentro del género Pop, Bandalos Chinos creció y ganó una mayor popularidad en los últimos años.\n",
    "\n",
    "### ¿Cómo podemos justificar esta popularidad de una banda respecto a la otra con las features?\n",
    "\n",
    "#### Features Inherentes:\n",
    "   \n",
    "   - \"Key\" o \"Tonalidad\": Lo que caracteriza a BC respecto a bandas del mismo género como DLR en este caso, es el uso de distintas tonalidades a lo largo de sus canciones, no solo hablando en términos de tonalidad general del track (lo que visualizamos en el primer gráfico) sino también las modulaciones dentro de un mismo track, es decir el paso de una tonalidad a otra. Por lo general las bandas del género suelen estancarse en las mismas tonalidades ya que se limitan a factores como por ejemplo el registro vocal de quien canta en la banda. \n",
    "   Otra particularidad que podemos observar del uso de tonalidades de BC es que a pesar de que este es muy variado, la banda se mantiene siempre en el mismo género. A esto lo podemos visualizar en la poca variación que hay de otras features como el tempo o la duración de sus canciones.\n",
    "   \n",
    "   \n",
    "   - \"Mode\" o \"Modo\": Esta es una de las características de BC que más resalta respecto a DLR. El uso de modos mayores a lo largo de todos sus tracks es significativamente mayor respecto a DLR, que opta por utilizar modos menores.\n",
    "   \n",
    "   - Tempo (BMP): La mitad de los tracks de BC que conforman el dataset poseen un tempo entre 120 y 130 BPM, un tanto mayor a bandas del mismo género, como es el caso de DLR que optan por tempos más próximos a 115 o 120 BPM. Además, si se observan los últimos tracks lanzados por ambas bandas, el tempo en el caso de BC se mantiene cada vez más cerca de los 120 BPM o hasta incluso menos, mientras que DLR continúa experimentando con BMS más altos o más bajos a los 120.\n",
    "   \n",
    "- Duración (ms): Otra característica distintiva que posee BC es su estabilidad en cuanto a duración de sus tracks. Esta ronda entre los 2 y 3 minutos a lo largo de su trayectoria a diferencia de DLR que apuesta a tracks más largos en general.\n",
    "\n",
    "\n",
    "- Loudness (dB): El volumen general de los tracks de BC no supera el rango de -10 a -4 dB, sus tracks se concentran dentro de esos valores. Como se mencionó previamente, el valor del loudness de un track puede variar según la técnica de compresión utilizada durante la mezcla del track y esto puede influir directamente en otras features del track.\n",
    "\n",
    "#### Features de Spotify:\n",
    "\n",
    "- Valence: La valencia de BC se caracteriza por concentrar valores cerca de 1 pero estar distribuída en todo el rango de 0 a 1 a diferencia de bandas como DLR que optan por tracks con mayor valencia. \n",
    "\n",
    "\n",
    "- Energy: En este caso, BC se mantiene con una energía en sus tracks regular respecto a otras bandas de su género, ya que los valores se concentran entre 0.5 y 0.6 en su mayoría.\n",
    "\n",
    "\n",
    "- Danceability: En cuanto a cuán \"bailables\" son los tracks de BC respecto a DLR, se ve una gran diferencia entre ambos. DLR posee mayor cantidad de tracks con danceability cerca de 1 respecto a BC ya que múscia es más cercana al funk que la de BC, por lo que varios factores propios del género funk le dan la faceta bailable a sus canciones.\n",
    "\n",
    "\n",
    "#### Conclusión:\n",
    "\n",
    "En base al análisis de las features de los datos de los tracks de las bandas Bandalos Chinos y De La Rivera, se concluye que Bandalos Chinos tiene mayor popularidad o fama respecto a De La Rivera por la variedad de tonalidades, la adopción de modos mayores en la composición de sus tracks, tempos en su mayoría cerca de los 120 BPM, tracks de 2 a 3 minutos de duración y valencia, energía y danceability de sus tracks en valores regulares, próximos a 0.6.\n",
    "\n",
    "Cabe destacar también que existen otros factores que influyen en gran medida en la popularidad del artista como ser la ubicación donde trabaja la banda: Bandalos Chinos es oriunda y está ubicada en Capital Federal, donde se concentra la mayor parte de la industria musical argentina; pero  son factores que exceden al propósito de este análisis.\n"
   ]
  },
  {
   "cell_type": "code",
   "execution_count": null,
   "metadata": {},
   "outputs": [],
   "source": []
  }
 ],
 "metadata": {
  "kernelspec": {
   "display_name": "Python 3",
   "language": "python",
   "name": "python3"
  },
  "language_info": {
   "codemirror_mode": {
    "name": "ipython",
    "version": 3
   },
   "file_extension": ".py",
   "mimetype": "text/x-python",
   "name": "python",
   "nbconvert_exporter": "python",
   "pygments_lexer": "ipython3",
   "version": "3.8.3"
  }
 },
 "nbformat": 4,
 "nbformat_minor": 4
}
