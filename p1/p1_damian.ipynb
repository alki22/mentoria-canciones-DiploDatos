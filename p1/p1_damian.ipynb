{
 "cells": [
  {
   "cell_type": "markdown",
   "metadata": {},
   "source": [
    "# Mentoría 'de cómo clasificar en géneros a las canciones'\n",
    "## Práctico I : Análisis de features de audio"
   ]
  },
  {
   "cell_type": "markdown",
   "metadata": {},
   "source": [
    "**Consideraciones:**\n",
    "- Se evalúa el estilo y prolijidad del código.\n",
    "- Se permite hacer trabajo extra, siempre y cuando las actividades básicas estén resueltas."
   ]
  },
  {
   "cell_type": "markdown",
   "metadata": {},
   "source": [
    "### 1) Plantear una pregunta que quieran responder con estos datos\n",
    "\n",
    "Las preguntas pueden ser por ejemplo: \n",
    "- ¿Por qué este artista destaca dentro de su género?\n",
    "- ¿Por qué no lo hace?\n",
    "- ¿Por qué un género musical es más escuchado que otro?\n",
    "\n",
    "Sin embargo, pueden usar cualquier afirmación que hayan leído en internet y que se pueda responder con los datos de este trabajo para validarla o rechazarla."
   ]
  },
  {
   "cell_type": "markdown",
   "metadata": {},
   "source": [
    "### 1) PREGUNTA\n",
    "\n",
    "\n",
    "- ¿Las features de audio de canciones de spotify me permiten entender que hace a un genero/artista mas popular que a otro?\n",
    "- ¿Podria entender con estas features por que una canción/artista es mas exitosa que otra?\n",
    " \n"
   ]
  },
  {
   "cell_type": "markdown",
   "metadata": {},
   "source": [
    "### 2) Obtener datos para responder la pregunta\n",
    "\n",
    "Para esto hay que hacer pedidos a la API para obtener una lista de canciones de sus artistas, de las cuáles se obtienen sus features de audio como en este [ejemplo](https://developer.spotify.com/console/get-audio-features-track/?id=17VP4tofJ3evJbtY8Tk1Qi) de la versión web de la API. Una vez obtenidos los datos, seleccionar un subconjunto de 5 o 6 features de audio y agrupar los datos en un [DataFrame de pandas](https://pandas.pydata.org/pandas-docs/stable/reference/api/pandas.DataFrame.html).\n",
    "\n",
    "**Recomendación** : Usar un dataframe para su artista y otro para la competencia si es que eligierone esa opción, les va a ahorrar tiempo.\n",
    "\n",
    "**Aclaración** : Si plantearon una pregunta que no requiera los datos de la consigna, obtengan esos datos."
   ]
  },
  {
   "cell_type": "markdown",
   "metadata": {},
   "source": [
    "### Librerías"
   ]
  },
  {
   "cell_type": "code",
   "execution_count": 1,
   "metadata": {},
   "outputs": [
    {
     "name": "stdout",
     "output_type": "stream",
     "text": [
      "Requirement already satisfied: spotipy in c:\\users\\dam\\anaconda3\\envs\\ds\\lib\\site-packages (2.13.0)\n",
      "Requirement already satisfied: six>=1.10.0 in c:\\users\\dam\\appdata\\roaming\\python\\python36\\site-packages (from spotipy) (1.12.0)\n",
      "Requirement already satisfied: requests>=2.20.0 in c:\\users\\dam\\appdata\\roaming\\python\\python36\\site-packages (from spotipy) (2.22.0)\n",
      "Requirement already satisfied: certifi>=2017.4.17 in c:\\users\\dam\\appdata\\roaming\\python\\python36\\site-packages (from requests>=2.20.0->spotipy) (2019.9.11)\n",
      "Requirement already satisfied: idna<2.9,>=2.5 in c:\\users\\dam\\appdata\\roaming\\python\\python36\\site-packages (from requests>=2.20.0->spotipy) (2.8)\n",
      "Requirement already satisfied: chardet<3.1.0,>=3.0.2 in c:\\users\\dam\\appdata\\roaming\\python\\python36\\site-packages (from requests>=2.20.0->spotipy) (3.0.4)\n",
      "Requirement already satisfied: urllib3!=1.25.0,!=1.25.1,<1.26,>=1.21.1 in c:\\users\\dam\\appdata\\roaming\\python\\python36\\site-packages (from requests>=2.20.0->spotipy) (1.23)\n",
      "Requirement already satisfied: pandas in c:\\users\\dam\\appdata\\roaming\\python\\python36\\site-packages (0.25.1)\n",
      "Requirement already satisfied: python-dateutil>=2.6.1 in c:\\users\\dam\\appdata\\roaming\\python\\python36\\site-packages (from pandas) (2.8.0)\n",
      "Requirement already satisfied: pytz>=2017.2 in c:\\users\\dam\\appdata\\roaming\\python\\python36\\site-packages (from pandas) (2019.2)\n",
      "Requirement already satisfied: numpy>=1.13.3 in c:\\users\\dam\\appdata\\roaming\\python\\python36\\site-packages (from pandas) (1.17.2)\n",
      "Requirement already satisfied: six>=1.5 in c:\\users\\dam\\appdata\\roaming\\python\\python36\\site-packages (from python-dateutil>=2.6.1->pandas) (1.12.0)\n"
     ]
    }
   ],
   "source": [
    "!pip install spotipy\n",
    "!pip install pandas\n",
    "\n",
    "# Agregar las librerías extra que se utilicen en esta celda y la siguiente"
   ]
  },
  {
   "cell_type": "markdown",
   "metadata": {},
   "source": [
    "### Dependencias y acceso al API"
   ]
  },
  {
   "cell_type": "code",
   "execution_count": 22,
   "metadata": {},
   "outputs": [],
   "source": [
    "# '46b333d567314a89a6254b6c6b054be6'\n",
    "# '9d922c3613e441518349dcf55f7d5853'\n",
    "\n",
    "import pandas as pd\n",
    "import numpy as np\n",
    "import spotipy\n",
    "from spotipy.oauth2 import SpotifyClientCredentials\n",
    "import time \n",
    "import seaborn as sn\n",
    "import matplotlib.pyplot as plt\n",
    "\n",
    "# estos son mis propias client id y client secret \n",
    "client_id = 'e6f3a8857945407991bafd19b1ab4861'\n",
    "client_secret = 'b37a45f563c84d67bf260c2cb15db215'\n",
    "client_credentials_manager = SpotifyClientCredentials(client_id=client_id, client_secret=client_secret)\n",
    "\n",
    "sp = spotipy.Spotify(client_credentials_manager=client_credentials_manager)"
   ]
  },
  {
   "cell_type": "code",
   "execution_count": 23,
   "metadata": {},
   "outputs": [
    {
     "data": {
      "text/plain": [
       "<spotipy.client.Spotify at 0x1dad6123ba8>"
      ]
     },
     "execution_count": 23,
     "metadata": {},
     "output_type": "execute_result"
    }
   ],
   "source": [
    "sp"
   ]
  },
  {
   "cell_type": "code",
   "execution_count": 24,
   "metadata": {},
   "outputs": [],
   "source": [
    "def getTrackIDs(user, playlist_id):\n",
    "    ids = []\n",
    "    playlist = sp.user_playlist(user, playlist_id)\n",
    "    for item in playlist['tracks']['items']:\n",
    "        track = item['track']\n",
    "        ids.append(track['id'])\n",
    "    return ids\n",
    "# es mi playlist Damian Campana nombre MENTORIA, tiene 199 canciones de musica electronica pero la api solo me deja traer 100\n",
    "ids = getTrackIDs('21edvvgztpti65n55bmsc2rkq', '3e8xNUwMtOddU4aN0PHftA?si=wjOltYURQXCQ64xmOqmq9Q')\n",
    "\n",
    "#ids = getTrackIDs('el.turquito', '2IuD0qZb14cji5y52crdsO?si=m-GWCoT7R3Oe7oXYI9cFnA')\n",
    "#ids = getTrackIDs('angelicadietzel', '4R0BZVh27NUJhHGLNitU08')"
   ]
  },
  {
   "cell_type": "markdown",
   "metadata": {},
   "source": [
    "<span style=\"color:blue\">*Lo que vemos a continuacion es la cantidad total de tracks que tenemos en la playlist seleccionada y el trackid de cada una de las 100 canciones*</span>\n"
   ]
  },
  {
   "cell_type": "code",
   "execution_count": 26,
   "metadata": {},
   "outputs": [
    {
     "name": "stdout",
     "output_type": "stream",
     "text": [
      "Cantidad de canciones en la playlist: 100\n",
      "['0TDLuuLlV54CkRRUOahJb4', '0U6bQIAh6MCGo1xjbIIx2S', '0YammaEkYSeo9vQYZ1OwS6', '20d27F17AZOxTJOEHAVK2Y', '4Tvw0lweq9l2JPQKFbpbBQ', '6T27IN7Ai94BeDv6PPCmoC', '46NBoIAHrmR7qcUGCIFEjR', '3A7qX2QjDlPnazUsRk5y0M', '2lYTJK94hb0fd1LQtb6Dhk', '0yl1LvI69CJrQlXJoYnU97', '5dS2dvXVPe7AR6UwBpnomW', '6krE8jQXhWRcIEmOJToVhx', '1dG3YWhLiTyFfTJyT2DanJ', '1CdlC7HKybz4EzigyfNIYd', '4f3uZW3Wc1uO2cN4WJs5nu', '7ef4DlsgrMEH11cDZd32M6', '6YUTL4dYpB9xZO5qExPf05', '5N5k9nd479b1xpDZ4usjrg', '5itOtNx0WxtJmi1TQ3RuRd', '0azC730Exh71aQlOt9Zj3y', '6KdmNK9MogmGcnO3wNZHhp', '7MmG8p0F9N3C4AXdK6o6Eb', '00cxhG668jV6gU6VK2FUVI', '6iW38RGqdDGOofmz2HeXLW', '1DFD5Fotzgn6yYXkYsKiGs', '7sYAS4CpbV90oSemgaEQat', '0v8OKUrqZGoEbgEUXScRSQ', '39cmB3ZoTOLwOTq7tMNqKa', '11xOwUHV7P1q7UpEQuMIrx', '7Feaw9WAEREY0DUOSXJLOM', '4RVtBlHFKj51Ipvpfv5ER4', '3ebXMykcMXOcLeJ9xZ17XH', '23L5CiUhw2jV1OIMwthR3S', '0rohJsT6NWsThpukt0Xxdc', '0lYBSQXN6rCTvUZvg9S0lU', '0g5EKLgdKvNlln7TNqBByK', '4UKJUbcuStnnxLeJmVJsSc', '6GTxdh4FiA8XyCLFK1vvgG', '7sn0OyaKn1XKx18JjUZkSw', '1CpCIb8zybdjskLQRL6rEC', '5GokpIAufFJxKqkJgRtdKD', '7CHi4DtfK4heMlQaudCuHK', '2IL2OsHC29dlszciTnOw3m', '44Fy9nmj1bBh42WviVea0m', '5fmMmOcTOzeci7F08wnZ5x', '2HJQcyUpmUuvzS5vBAICIc', '0zL9dieoCcjBWV01y73Cj1', '6J5Oxg5XtxRdVAbExaWFYB', '1eV81a6H4xDdpi8r2C4tQT', '6MoTeX5dtuPZ3hwaecuBkz', '5esZWlW1SijQtw30OcWyUs', '6tOyGXVcdz0JXWh3o8Sv3c', '76lT30VRv09h5MQp5snmsb', '43mulJ5Q7ECMNpqpmtflNt', '5qA35ZZWFOqynheP5x8rty', '2oHfOUMwgOMyGshROB0lK9', '1IbNYr8ByXsgwGbmOxLBXP', '0gwNGHcBRYtF7mvgUczVo1', '3fdXEMBTjHNJ5Bug5c7rZi', '1Ou1g6tCGdwp2SFnNyfZXw', '6VmLSbD3pgHBRNWboNyoSq', '3e3JcsLlY6qPmE08BpMywG', '6ISmTommsQb47avYPq79yZ', '1T4U8Q2DRfs6OUg8DEsRZf', '1z1Hg7Vb0AhHDiEmnDE79l', '1SG6r7daFfpzPcU15luVqB', '1FG7QNYVJz1x50D8AzOVQt', '3DMiBRGKhVKQfUqmmWEvQb', '3hENlPbIlUZXQ3MiosF87Q', '40dweDLovf20EbZCq1Kwj1', '3t4YFQ2lyLIpHCU79KzoWZ', '0KoiMHhqKLoL4xM54rcWYY', '3VDv6Q1xfe68l4gilYqyRs', '0pSL76Z9uhRAfFd09VmF24', '4zSofXfv8J72v3RGzoTnoM', '3KaZ7oiFLWrftVHsswk0z6', '34lRfRvqczuSdAZjQg6iOb', '7yZc9vZkaMvggDtdegXQ3P', '2XU0oxnq2qxCpomAAuJY8K', '3PfIrDoz19wz7qK7tYeu62', '017PF4Q3l4DBUiWoXk4OWT', '2ekn2ttSfGqwhhate0LSR0', '1PM8OIREXRl5lFb06852rr', '2ibLTZM8SvPx8ZfvjnuMvs', '6g05eMw2qZbmGeqm2RvWHB', '79IZKAygtVmTcVnJ2mlaIS', '3d9JucRI60arArgQXqtfjJ', '7Mq3vRtwjRdDTxpQXrS8k6', '6YD9XQ6woFtacq7kPCfEGL', '1gCTHjVFfwrxo0EBTECvZN', '5yFXlCTKkVVao7kPVMeeDz', '30uVdjf08TFxcckC2pdoIq', '1vQ92830bxiBcIhpUj4qrn', '2jWV0ux1lnk31ya4T4Sriu', '29jZ0Ui4P88BgzqVdwHBFJ', '5vMAKJ78vhNtvbIKz4yeIY', '5WDpIFiww5AWqIMGG7Uz4O', '3tisOrj7GrLnNWwISIbnka', '4S3gJRP2NP2mNTiDfrdg6c', '6BUhaCvC3VG4HZwyNLRhWm']\n"
     ]
    }
   ],
   "source": [
    "print(\"Cantidad de canciones en la playlist:\", len(ids))\n",
    "\n",
    "\n",
    "print(ids)"
   ]
  },
  {
   "cell_type": "markdown",
   "metadata": {},
   "source": [
    "<span style=\"color:blue\">*Un ejemplo de las features que tenemos en un track con la API de Spoti*</span>\n"
   ]
  },
  {
   "cell_type": "code",
   "execution_count": 27,
   "metadata": {},
   "outputs": [
    {
     "data": {
      "text/plain": [
       "[{'danceability': 0.604,\n",
       "  'energy': 0.787,\n",
       "  'key': 0,\n",
       "  'loudness': -3.674,\n",
       "  'mode': 0,\n",
       "  'speechiness': 0.103,\n",
       "  'acousticness': 0.0679,\n",
       "  'instrumentalness': 0.15,\n",
       "  'liveness': 0.127,\n",
       "  'valence': 0.301,\n",
       "  'tempo': 126.062,\n",
       "  'type': 'audio_features',\n",
       "  'id': '0TDLuuLlV54CkRRUOahJb4',\n",
       "  'uri': 'spotify:track:0TDLuuLlV54CkRRUOahJb4',\n",
       "  'track_href': 'https://api.spotify.com/v1/tracks/0TDLuuLlV54CkRRUOahJb4',\n",
       "  'analysis_url': 'https://api.spotify.com/v1/audio-analysis/0TDLuuLlV54CkRRUOahJb4',\n",
       "  'duration_ms': 245040,\n",
       "  'time_signature': 4}]"
      ]
     },
     "execution_count": 27,
     "metadata": {},
     "output_type": "execute_result"
    }
   ],
   "source": [
    "features1 = sp.audio_features('0TDLuuLlV54CkRRUOahJb4')\n",
    "features1"
   ]
  },
  {
   "cell_type": "markdown",
   "metadata": {},
   "source": [
    "<span style=\"color:blue\">*Con la siguiente función tomamos todas las características de las canciones que nos provee la API de spotify*</span>\n",
    "\n",
    "https://developer.spotify.com/documentation/web-api/reference/tracks/get-audio-analysis/"
   ]
  },
  {
   "cell_type": "code",
   "execution_count": 28,
   "metadata": {},
   "outputs": [],
   "source": [
    "def getTrackFeatures(id):\n",
    "  meta = sp.track(id)\n",
    "  features = sp.audio_features(id)\n",
    "\n",
    "  # meta\n",
    "  name = meta['name']\n",
    "  album = meta['album']['name']\n",
    "  artist = meta['album']['artists'][0]['name']\n",
    "  release_date = meta['album']['release_date']\n",
    "  length = meta['duration_ms']\n",
    "  popularity = meta['popularity']\n",
    "\n",
    "  #features\n",
    "  acousticness = features[0]['acousticness']\n",
    "  danceability = features[0]['danceability']\n",
    "  duration_ms = features[0]['duration_ms']\n",
    "  energy = features[0]['energy']\n",
    "  instrumentalness = features[0]['instrumentalness']\n",
    "  key= features[0]['key']\n",
    "  liveness = features[0]['liveness']\n",
    "  loudness = features[0]['loudness']\n",
    "  mode= features[0]['mode']\n",
    "  speechiness = features[0]['speechiness']\n",
    "  tempo = features[0]['tempo']\n",
    "  time_signature = features[0]['time_signature']\n",
    "  valence= features[0]['valence']\n",
    "\n",
    "  track = [name, album, artist, release_date, length, popularity, danceability, acousticness, danceability,duration_ms, energy, instrumentalness,key,liveness, loudness, mode,speechiness, tempo, time_signature,valence]\n",
    "  return track"
   ]
  },
  {
   "cell_type": "markdown",
   "metadata": {},
   "source": [
    "<span style=\"color:blue\">*Loopeamos y tabulamos nuestros datos para darle forma al Dataset, el resultado lo guardamos en un .csv de nombre \"spotify_mentoria_3.csv\"*</span>\n"
   ]
  },
  {
   "cell_type": "code",
   "execution_count": 30,
   "metadata": {},
   "outputs": [],
   "source": [
    "# loop over track ids \n",
    "\"\"\"\n",
    "tracks = []\n",
    "for i in range(len(ids)):\n",
    "  time.sleep(.5)\n",
    "  track = getTrackFeatures(ids[i])\n",
    "  tracks.append(track)\n",
    "\n",
    "# CREAMOS UN DATASET\n",
    "# LUEGO DE CREARLO LAS SIGUIENTES LINEAS SE COMENTAN YA QUE TENEMOS EL DATASET LISTO EN UN CSV \n",
    "# Y NO NECESITAMOS CREARLO NUEVAMENTE EN CASO DE VOLVER A EJECUTAR EL NOTEBOOK COMPLETO\n",
    "\n",
    "df = pd.DataFrame(tracks, columns = ['name', 'album', 'artist', 'release_date', 'length', 'popularity', 'danceability', 'acousticness', 'danceability','duration_ms', 'energy', 'instrumentalness','key','liveness', 'loudness', 'mode','speechiness', 'tempo', 'time_signature','valence'])\n",
    "df.to_csv(\"spotify_mentoria_4.csv\", sep = ',')\n",
    "\n",
    "\"\"\""
   ]
  },
  {
   "cell_type": "markdown",
   "metadata": {},
   "source": [
    "La mayor parte del codigo hasta acá se aplicó con la siguiente fuente de referencia:\n",
    "\n",
    "https://medium.com/better-programming/how-to-extract-any-artists-data-using-spotify-s-api-python-and-spotipy-4c079401bc37\n",
    "\n",
    "<span style=\"color:blue\">*Este es el dataset resultante:*</span>"
   ]
  },
  {
   "cell_type": "code",
   "execution_count": 33,
   "metadata": {},
   "outputs": [
    {
     "data": {
      "text/html": [
       "<div>\n",
       "<style scoped>\n",
       "    .dataframe tbody tr th:only-of-type {\n",
       "        vertical-align: middle;\n",
       "    }\n",
       "\n",
       "    .dataframe tbody tr th {\n",
       "        vertical-align: top;\n",
       "    }\n",
       "\n",
       "    .dataframe thead th {\n",
       "        text-align: right;\n",
       "    }\n",
       "</style>\n",
       "<table border=\"1\" class=\"dataframe\">\n",
       "  <thead>\n",
       "    <tr style=\"text-align: right;\">\n",
       "      <th></th>\n",
       "      <th>Unnamed: 0</th>\n",
       "      <th>name</th>\n",
       "      <th>album</th>\n",
       "      <th>artist</th>\n",
       "      <th>release_date</th>\n",
       "      <th>length</th>\n",
       "      <th>popularity</th>\n",
       "      <th>danceability</th>\n",
       "      <th>acousticness</th>\n",
       "      <th>danceability.1</th>\n",
       "      <th>...</th>\n",
       "      <th>energy</th>\n",
       "      <th>instrumentalness</th>\n",
       "      <th>key</th>\n",
       "      <th>liveness</th>\n",
       "      <th>loudness</th>\n",
       "      <th>mode</th>\n",
       "      <th>speechiness</th>\n",
       "      <th>tempo</th>\n",
       "      <th>time_signature</th>\n",
       "      <th>valence</th>\n",
       "    </tr>\n",
       "  </thead>\n",
       "  <tbody>\n",
       "    <tr>\n",
       "      <td>0</td>\n",
       "      <td>0</td>\n",
       "      <td>Titanium (feat. Sia)</td>\n",
       "      <td>Nothing but the Beat (Ultimate Edition)</td>\n",
       "      <td>David Guetta</td>\n",
       "      <td>2012-12-07</td>\n",
       "      <td>245040</td>\n",
       "      <td>78</td>\n",
       "      <td>0.604</td>\n",
       "      <td>0.0679</td>\n",
       "      <td>0.604</td>\n",
       "      <td>...</td>\n",
       "      <td>0.787</td>\n",
       "      <td>0.15</td>\n",
       "      <td>0</td>\n",
       "      <td>0.127</td>\n",
       "      <td>-3.674</td>\n",
       "      <td>0</td>\n",
       "      <td>0.1030</td>\n",
       "      <td>126.062</td>\n",
       "      <td>4</td>\n",
       "      <td>0.301</td>\n",
       "    </tr>\n",
       "    <tr>\n",
       "      <td>1</td>\n",
       "      <td>1</td>\n",
       "      <td>Instagram</td>\n",
       "      <td>Instagram</td>\n",
       "      <td>Various Artists</td>\n",
       "      <td>2019-07-05</td>\n",
       "      <td>184558</td>\n",
       "      <td>77</td>\n",
       "      <td>0.765</td>\n",
       "      <td>0.1250</td>\n",
       "      <td>0.765</td>\n",
       "      <td>...</td>\n",
       "      <td>0.906</td>\n",
       "      <td>0.00</td>\n",
       "      <td>8</td>\n",
       "      <td>0.423</td>\n",
       "      <td>-2.097</td>\n",
       "      <td>0</td>\n",
       "      <td>0.0965</td>\n",
       "      <td>96.071</td>\n",
       "      <td>4</td>\n",
       "      <td>0.950</td>\n",
       "    </tr>\n",
       "    <tr>\n",
       "      <td>2</td>\n",
       "      <td>2</td>\n",
       "      <td>Say My Name</td>\n",
       "      <td>7</td>\n",
       "      <td>David Guetta</td>\n",
       "      <td>2018-09-14</td>\n",
       "      <td>198946</td>\n",
       "      <td>76</td>\n",
       "      <td>0.703</td>\n",
       "      <td>0.1370</td>\n",
       "      <td>0.703</td>\n",
       "      <td>...</td>\n",
       "      <td>0.660</td>\n",
       "      <td>0.00</td>\n",
       "      <td>10</td>\n",
       "      <td>0.192</td>\n",
       "      <td>-5.119</td>\n",
       "      <td>0</td>\n",
       "      <td>0.1230</td>\n",
       "      <td>95.031</td>\n",
       "      <td>4</td>\n",
       "      <td>0.790</td>\n",
       "    </tr>\n",
       "    <tr>\n",
       "      <td>3</td>\n",
       "      <td>3</td>\n",
       "      <td>Conversations in the Dark</td>\n",
       "      <td>Conversations in the Dark</td>\n",
       "      <td>John Legend</td>\n",
       "      <td>2020-02-14</td>\n",
       "      <td>210236</td>\n",
       "      <td>74</td>\n",
       "      <td>0.572</td>\n",
       "      <td>0.2450</td>\n",
       "      <td>0.572</td>\n",
       "      <td>...</td>\n",
       "      <td>0.742</td>\n",
       "      <td>0.00</td>\n",
       "      <td>8</td>\n",
       "      <td>0.108</td>\n",
       "      <td>-4.589</td>\n",
       "      <td>0</td>\n",
       "      <td>0.0347</td>\n",
       "      <td>127.190</td>\n",
       "      <td>4</td>\n",
       "      <td>0.376</td>\n",
       "    </tr>\n",
       "    <tr>\n",
       "      <td>4</td>\n",
       "      <td>4</td>\n",
       "      <td>Better When You're Gone</td>\n",
       "      <td>Better When You're Gone</td>\n",
       "      <td>David Guetta</td>\n",
       "      <td>2019-02-08</td>\n",
       "      <td>192402</td>\n",
       "      <td>73</td>\n",
       "      <td>0.647</td>\n",
       "      <td>0.0635</td>\n",
       "      <td>0.647</td>\n",
       "      <td>...</td>\n",
       "      <td>0.795</td>\n",
       "      <td>0.00</td>\n",
       "      <td>1</td>\n",
       "      <td>0.188</td>\n",
       "      <td>-3.548</td>\n",
       "      <td>0</td>\n",
       "      <td>0.0372</td>\n",
       "      <td>127.992</td>\n",
       "      <td>4</td>\n",
       "      <td>0.409</td>\n",
       "    </tr>\n",
       "  </tbody>\n",
       "</table>\n",
       "<p>5 rows × 21 columns</p>\n",
       "</div>"
      ],
      "text/plain": [
       "   Unnamed: 0                       name  \\\n",
       "0           0       Titanium (feat. Sia)   \n",
       "1           1                  Instagram   \n",
       "2           2                Say My Name   \n",
       "3           3  Conversations in the Dark   \n",
       "4           4    Better When You're Gone   \n",
       "\n",
       "                                     album           artist release_date  \\\n",
       "0  Nothing but the Beat (Ultimate Edition)     David Guetta   2012-12-07   \n",
       "1                                Instagram  Various Artists   2019-07-05   \n",
       "2                                        7     David Guetta   2018-09-14   \n",
       "3                Conversations in the Dark      John Legend   2020-02-14   \n",
       "4                  Better When You're Gone     David Guetta   2019-02-08   \n",
       "\n",
       "   length  popularity  danceability  acousticness  danceability.1  ...  \\\n",
       "0  245040          78         0.604        0.0679           0.604  ...   \n",
       "1  184558          77         0.765        0.1250           0.765  ...   \n",
       "2  198946          76         0.703        0.1370           0.703  ...   \n",
       "3  210236          74         0.572        0.2450           0.572  ...   \n",
       "4  192402          73         0.647        0.0635           0.647  ...   \n",
       "\n",
       "   energy  instrumentalness  key  liveness  loudness  mode  speechiness  \\\n",
       "0   0.787              0.15    0     0.127    -3.674     0       0.1030   \n",
       "1   0.906              0.00    8     0.423    -2.097     0       0.0965   \n",
       "2   0.660              0.00   10     0.192    -5.119     0       0.1230   \n",
       "3   0.742              0.00    8     0.108    -4.589     0       0.0347   \n",
       "4   0.795              0.00    1     0.188    -3.548     0       0.0372   \n",
       "\n",
       "     tempo  time_signature  valence  \n",
       "0  126.062               4    0.301  \n",
       "1   96.071               4    0.950  \n",
       "2   95.031               4    0.790  \n",
       "3  127.190               4    0.376  \n",
       "4  127.992               4    0.409  \n",
       "\n",
       "[5 rows x 21 columns]"
      ]
     },
     "execution_count": 33,
     "metadata": {},
     "output_type": "execute_result"
    }
   ],
   "source": [
    "Spotydataset=pd.read_csv('spotify_mentoria_4.csv')\n",
    "Spotydataset.head(5)"
   ]
  },
  {
   "cell_type": "markdown",
   "metadata": {},
   "source": [
    "<span style=\"color:blue\">__COMENZAMOS CON LOS ANÁLISIS ESTADÍSTICOS TRABAJANDO UN SOLO DATASET :__ </span>\n",
    "\n",
    "los datos se tomaron de la siguiente playlist\n",
    "\n",
    "https://open.spotify.com/playlist/3e8xNUwMtOddU4aN0PHftA\n"
   ]
  },
  {
   "cell_type": "code",
   "execution_count": 34,
   "metadata": {},
   "outputs": [
    {
     "data": {
      "text/plain": [
       "(100, 21)"
      ]
     },
     "execution_count": 34,
     "metadata": {},
     "output_type": "execute_result"
    }
   ],
   "source": [
    "Spotydataset.shape"
   ]
  },
  {
   "cell_type": "markdown",
   "metadata": {},
   "source": [
    "tenemos 100 canciones y 21 features en nuestro dataset"
   ]
  },
  {
   "cell_type": "code",
   "execution_count": 35,
   "metadata": {},
   "outputs": [
    {
     "data": {
      "text/html": [
       "<div>\n",
       "<style scoped>\n",
       "    .dataframe tbody tr th:only-of-type {\n",
       "        vertical-align: middle;\n",
       "    }\n",
       "\n",
       "    .dataframe tbody tr th {\n",
       "        vertical-align: top;\n",
       "    }\n",
       "\n",
       "    .dataframe thead th {\n",
       "        text-align: right;\n",
       "    }\n",
       "</style>\n",
       "<table border=\"1\" class=\"dataframe\">\n",
       "  <thead>\n",
       "    <tr style=\"text-align: right;\">\n",
       "      <th></th>\n",
       "      <th>Unnamed: 0</th>\n",
       "      <th>length</th>\n",
       "      <th>popularity</th>\n",
       "      <th>danceability</th>\n",
       "      <th>acousticness</th>\n",
       "      <th>danceability.1</th>\n",
       "      <th>duration_ms</th>\n",
       "      <th>energy</th>\n",
       "      <th>instrumentalness</th>\n",
       "      <th>key</th>\n",
       "      <th>liveness</th>\n",
       "      <th>loudness</th>\n",
       "      <th>mode</th>\n",
       "      <th>speechiness</th>\n",
       "      <th>tempo</th>\n",
       "      <th>time_signature</th>\n",
       "      <th>valence</th>\n",
       "    </tr>\n",
       "  </thead>\n",
       "  <tbody>\n",
       "    <tr>\n",
       "      <td>count</td>\n",
       "      <td>100.000000</td>\n",
       "      <td>100.000000</td>\n",
       "      <td>100.000000</td>\n",
       "      <td>100.000000</td>\n",
       "      <td>100.000000</td>\n",
       "      <td>100.000000</td>\n",
       "      <td>100.000000</td>\n",
       "      <td>100.000000</td>\n",
       "      <td>1.000000e+02</td>\n",
       "      <td>100.000000</td>\n",
       "      <td>100.000000</td>\n",
       "      <td>100.000000</td>\n",
       "      <td>100.000000</td>\n",
       "      <td>100.000000</td>\n",
       "      <td>100.000000</td>\n",
       "      <td>100.000000</td>\n",
       "      <td>100.000000</td>\n",
       "    </tr>\n",
       "    <tr>\n",
       "      <td>mean</td>\n",
       "      <td>49.500000</td>\n",
       "      <td>263465.360000</td>\n",
       "      <td>55.660000</td>\n",
       "      <td>0.701990</td>\n",
       "      <td>0.082686</td>\n",
       "      <td>0.701990</td>\n",
       "      <td>263465.680000</td>\n",
       "      <td>0.737640</td>\n",
       "      <td>2.273827e-01</td>\n",
       "      <td>5.560000</td>\n",
       "      <td>0.201117</td>\n",
       "      <td>-6.027990</td>\n",
       "      <td>0.410000</td>\n",
       "      <td>0.071996</td>\n",
       "      <td>122.427100</td>\n",
       "      <td>3.980000</td>\n",
       "      <td>0.404635</td>\n",
       "    </tr>\n",
       "    <tr>\n",
       "      <td>std</td>\n",
       "      <td>29.011492</td>\n",
       "      <td>128391.630812</td>\n",
       "      <td>23.217557</td>\n",
       "      <td>0.121338</td>\n",
       "      <td>0.122979</td>\n",
       "      <td>0.121338</td>\n",
       "      <td>128391.605276</td>\n",
       "      <td>0.152087</td>\n",
       "      <td>3.385875e-01</td>\n",
       "      <td>3.621819</td>\n",
       "      <td>0.159345</td>\n",
       "      <td>3.060078</td>\n",
       "      <td>0.494311</td>\n",
       "      <td>0.051115</td>\n",
       "      <td>13.352856</td>\n",
       "      <td>0.140705</td>\n",
       "      <td>0.231767</td>\n",
       "    </tr>\n",
       "    <tr>\n",
       "      <td>min</td>\n",
       "      <td>0.000000</td>\n",
       "      <td>147026.000000</td>\n",
       "      <td>0.000000</td>\n",
       "      <td>0.224000</td>\n",
       "      <td>0.000161</td>\n",
       "      <td>0.224000</td>\n",
       "      <td>147027.000000</td>\n",
       "      <td>0.293000</td>\n",
       "      <td>0.000000e+00</td>\n",
       "      <td>0.000000</td>\n",
       "      <td>0.036500</td>\n",
       "      <td>-18.792000</td>\n",
       "      <td>0.000000</td>\n",
       "      <td>0.029500</td>\n",
       "      <td>79.979000</td>\n",
       "      <td>3.000000</td>\n",
       "      <td>0.036000</td>\n",
       "    </tr>\n",
       "    <tr>\n",
       "      <td>25%</td>\n",
       "      <td>24.750000</td>\n",
       "      <td>183669.000000</td>\n",
       "      <td>46.750000</td>\n",
       "      <td>0.629250</td>\n",
       "      <td>0.006467</td>\n",
       "      <td>0.629250</td>\n",
       "      <td>183669.250000</td>\n",
       "      <td>0.644000</td>\n",
       "      <td>8.250000e-07</td>\n",
       "      <td>2.000000</td>\n",
       "      <td>0.094750</td>\n",
       "      <td>-7.303250</td>\n",
       "      <td>0.000000</td>\n",
       "      <td>0.040575</td>\n",
       "      <td>120.064000</td>\n",
       "      <td>4.000000</td>\n",
       "      <td>0.205500</td>\n",
       "    </tr>\n",
       "    <tr>\n",
       "      <td>50%</td>\n",
       "      <td>49.500000</td>\n",
       "      <td>211091.000000</td>\n",
       "      <td>57.500000</td>\n",
       "      <td>0.713000</td>\n",
       "      <td>0.034100</td>\n",
       "      <td>0.713000</td>\n",
       "      <td>211091.500000</td>\n",
       "      <td>0.751500</td>\n",
       "      <td>1.280000e-03</td>\n",
       "      <td>6.000000</td>\n",
       "      <td>0.127000</td>\n",
       "      <td>-5.454500</td>\n",
       "      <td>0.000000</td>\n",
       "      <td>0.054350</td>\n",
       "      <td>124.986000</td>\n",
       "      <td>4.000000</td>\n",
       "      <td>0.368000</td>\n",
       "    </tr>\n",
       "    <tr>\n",
       "      <td>75%</td>\n",
       "      <td>74.250000</td>\n",
       "      <td>263996.000000</td>\n",
       "      <td>74.000000</td>\n",
       "      <td>0.791000</td>\n",
       "      <td>0.109500</td>\n",
       "      <td>0.791000</td>\n",
       "      <td>263997.000000</td>\n",
       "      <td>0.863250</td>\n",
       "      <td>4.985000e-01</td>\n",
       "      <td>9.000000</td>\n",
       "      <td>0.263750</td>\n",
       "      <td>-3.880500</td>\n",
       "      <td>1.000000</td>\n",
       "      <td>0.079325</td>\n",
       "      <td>127.907000</td>\n",
       "      <td>4.000000</td>\n",
       "      <td>0.593000</td>\n",
       "    </tr>\n",
       "    <tr>\n",
       "      <td>max</td>\n",
       "      <td>99.000000</td>\n",
       "      <td>774293.000000</td>\n",
       "      <td>93.000000</td>\n",
       "      <td>0.919000</td>\n",
       "      <td>0.692000</td>\n",
       "      <td>0.919000</td>\n",
       "      <td>774294.000000</td>\n",
       "      <td>0.954000</td>\n",
       "      <td>9.160000e-01</td>\n",
       "      <td>11.000000</td>\n",
       "      <td>0.761000</td>\n",
       "      <td>-0.478000</td>\n",
       "      <td>1.000000</td>\n",
       "      <td>0.284000</td>\n",
       "      <td>159.996000</td>\n",
       "      <td>4.000000</td>\n",
       "      <td>0.950000</td>\n",
       "    </tr>\n",
       "  </tbody>\n",
       "</table>\n",
       "</div>"
      ],
      "text/plain": [
       "       Unnamed: 0         length  popularity  danceability  acousticness  \\\n",
       "count  100.000000     100.000000  100.000000    100.000000    100.000000   \n",
       "mean    49.500000  263465.360000   55.660000      0.701990      0.082686   \n",
       "std     29.011492  128391.630812   23.217557      0.121338      0.122979   \n",
       "min      0.000000  147026.000000    0.000000      0.224000      0.000161   \n",
       "25%     24.750000  183669.000000   46.750000      0.629250      0.006467   \n",
       "50%     49.500000  211091.000000   57.500000      0.713000      0.034100   \n",
       "75%     74.250000  263996.000000   74.000000      0.791000      0.109500   \n",
       "max     99.000000  774293.000000   93.000000      0.919000      0.692000   \n",
       "\n",
       "       danceability.1    duration_ms      energy  instrumentalness  \\\n",
       "count      100.000000     100.000000  100.000000      1.000000e+02   \n",
       "mean         0.701990  263465.680000    0.737640      2.273827e-01   \n",
       "std          0.121338  128391.605276    0.152087      3.385875e-01   \n",
       "min          0.224000  147027.000000    0.293000      0.000000e+00   \n",
       "25%          0.629250  183669.250000    0.644000      8.250000e-07   \n",
       "50%          0.713000  211091.500000    0.751500      1.280000e-03   \n",
       "75%          0.791000  263997.000000    0.863250      4.985000e-01   \n",
       "max          0.919000  774294.000000    0.954000      9.160000e-01   \n",
       "\n",
       "              key    liveness    loudness        mode  speechiness  \\\n",
       "count  100.000000  100.000000  100.000000  100.000000   100.000000   \n",
       "mean     5.560000    0.201117   -6.027990    0.410000     0.071996   \n",
       "std      3.621819    0.159345    3.060078    0.494311     0.051115   \n",
       "min      0.000000    0.036500  -18.792000    0.000000     0.029500   \n",
       "25%      2.000000    0.094750   -7.303250    0.000000     0.040575   \n",
       "50%      6.000000    0.127000   -5.454500    0.000000     0.054350   \n",
       "75%      9.000000    0.263750   -3.880500    1.000000     0.079325   \n",
       "max     11.000000    0.761000   -0.478000    1.000000     0.284000   \n",
       "\n",
       "            tempo  time_signature     valence  \n",
       "count  100.000000      100.000000  100.000000  \n",
       "mean   122.427100        3.980000    0.404635  \n",
       "std     13.352856        0.140705    0.231767  \n",
       "min     79.979000        3.000000    0.036000  \n",
       "25%    120.064000        4.000000    0.205500  \n",
       "50%    124.986000        4.000000    0.368000  \n",
       "75%    127.907000        4.000000    0.593000  \n",
       "max    159.996000        4.000000    0.950000  "
      ]
     },
     "execution_count": 35,
     "metadata": {},
     "output_type": "execute_result"
    }
   ],
   "source": [
    "Spotydataset.describe()"
   ]
  },
  {
   "cell_type": "code",
   "execution_count": 36,
   "metadata": {
    "scrolled": false
   },
   "outputs": [
    {
     "name": "stdout",
     "output_type": "stream",
     "text": [
      "<class 'pandas.core.frame.DataFrame'>\n",
      "RangeIndex: 100 entries, 0 to 99\n",
      "Data columns (total 21 columns):\n",
      "Unnamed: 0          100 non-null int64\n",
      "name                100 non-null object\n",
      "album               100 non-null object\n",
      "artist              100 non-null object\n",
      "release_date        100 non-null object\n",
      "length              100 non-null int64\n",
      "popularity          100 non-null int64\n",
      "danceability        100 non-null float64\n",
      "acousticness        100 non-null float64\n",
      "danceability.1      100 non-null float64\n",
      "duration_ms         100 non-null int64\n",
      "energy              100 non-null float64\n",
      "instrumentalness    100 non-null float64\n",
      "key                 100 non-null int64\n",
      "liveness            100 non-null float64\n",
      "loudness            100 non-null float64\n",
      "mode                100 non-null int64\n",
      "speechiness         100 non-null float64\n",
      "tempo               100 non-null float64\n",
      "time_signature      100 non-null int64\n",
      "valence             100 non-null float64\n",
      "dtypes: float64(10), int64(7), object(4)\n",
      "memory usage: 16.5+ KB\n"
     ]
    }
   ],
   "source": [
    "Spotydataset.info()"
   ]
  },
  {
   "cell_type": "markdown",
   "metadata": {},
   "source": [
    "<span style=\"color:blue\">*Corroboramos si tenemos valores null en nuestros datos:*</span>"
   ]
  },
  {
   "cell_type": "code",
   "execution_count": 37,
   "metadata": {},
   "outputs": [
    {
     "data": {
      "text/plain": [
       "Unnamed: 0          0\n",
       "name                0\n",
       "album               0\n",
       "artist              0\n",
       "release_date        0\n",
       "length              0\n",
       "popularity          0\n",
       "danceability        0\n",
       "acousticness        0\n",
       "danceability.1      0\n",
       "duration_ms         0\n",
       "energy              0\n",
       "instrumentalness    0\n",
       "key                 0\n",
       "liveness            0\n",
       "loudness            0\n",
       "mode                0\n",
       "speechiness         0\n",
       "tempo               0\n",
       "time_signature      0\n",
       "valence             0\n",
       "dtype: int64"
      ]
     },
     "execution_count": 37,
     "metadata": {},
     "output_type": "execute_result"
    }
   ],
   "source": [
    "Spotydataset.isna().sum()"
   ]
  },
  {
   "cell_type": "markdown",
   "metadata": {},
   "source": [
    "tenemos 0 valores nulos en los campos de nuestro dataset "
   ]
  },
  {
   "cell_type": "code",
   "execution_count": 38,
   "metadata": {},
   "outputs": [
    {
     "name": "stdout",
     "output_type": "stream",
     "text": [
      "Cantidad de artistas en nuestro dataset, Artistas únicos sin repetir: 38\n",
      "\n",
      "Nombres de Artistas/Bandas en nuestro set de datos:\n",
      " \n",
      " ['David Guetta' 'Various Artists' 'John Legend' 'Jessie J' 'Black Coffee'\n",
      " 'Calvin Harris' 'MEDUZA' 'Alok' 'Martin Garrix' 'DJ Snake' 'Major Lazer'\n",
      " 'ZHU' 'Boris Brejcha' 'Solomun' 'Noir' 'Foals' 'Monolink' 'Adriatique'\n",
      " 'Marc Romboy' 'Thyladomid, Adriatique, Peter Kruder & Liem'\n",
      " 'Richie Hawtin' 'Plastikman' 'Don Diablo' 'Zara Larsson' 'Tones And I'\n",
      " 'Dua Lipa' 'R3HAB' 'snny' 'Alesso' 'Tiësto' 'Vindata' 'RetroVision'\n",
      " 'Crash Land' 'OneRepublic' 'deadmau5' 'Dimitri Vegas, Moguai & Like Mike'\n",
      " 'Charmes' 'Valdes']\n"
     ]
    }
   ],
   "source": [
    "print(\"Cantidad de artistas en nuestro dataset, Artistas únicos sin repetir:\", Spotydataset.artist.nunique())\n",
    "\n",
    "print(\"\\nNombres de Artistas/Bandas en nuestro set de datos:\\n \\n\", Spotydataset['artist'].unique())\n"
   ]
  },
  {
   "cell_type": "code",
   "execution_count": 39,
   "metadata": {},
   "outputs": [
    {
     "name": "stdout",
     "output_type": "stream",
     "text": [
      "Q canciones por artista en nuestro set de datos:\n"
     ]
    },
    {
     "data": {
      "text/plain": [
       "Don Diablo                                     11\n",
       "David Guetta                                   10\n",
       "Boris Brejcha                                   9\n",
       "DJ Snake                                        9\n",
       "Calvin Harris                                   8\n",
       "MEDUZA                                          6\n",
       "Martin Garrix                                   6\n",
       "Alok                                            4\n",
       "Dua Lipa                                        3\n",
       "ZHU                                             3\n",
       "Various Artists                                 2\n",
       "Solomun                                         2\n",
       "Marc Romboy                                     2\n",
       "Vindata                                         1\n",
       "snny                                            1\n",
       "Plastikman                                      1\n",
       "Richie Hawtin                                   1\n",
       "R3HAB                                           1\n",
       "Foals                                           1\n",
       "deadmau5                                        1\n",
       "Dimitri Vegas, Moguai & Like Mike               1\n",
       "Jessie J                                        1\n",
       "Black Coffee                                    1\n",
       "Alesso                                          1\n",
       "Thyladomid, Adriatique, Peter Kruder & Liem     1\n",
       "Tiësto                                          1\n",
       "Crash Land                                      1\n",
       "Zara Larsson                                    1\n",
       "OneRepublic                                     1\n",
       "Monolink                                        1\n",
       "Valdes                                          1\n",
       "John Legend                                     1\n",
       "Tones And I                                     1\n",
       "Noir                                            1\n",
       "RetroVision                                     1\n",
       "Charmes                                         1\n",
       "Major Lazer                                     1\n",
       "Adriatique                                      1\n",
       "Name: artist, dtype: int64"
      ]
     },
     "execution_count": 39,
     "metadata": {},
     "output_type": "execute_result"
    }
   ],
   "source": [
    "print(\"Q canciones por artista en nuestro set de datos:\")\n",
    "Spotydataset.artist.value_counts()"
   ]
  },
  {
   "cell_type": "markdown",
   "metadata": {},
   "source": [
    "una primera observación que podemos hacer aca, la mayoría de los artistas que vemos con 1 sola canción en el dataset son colaboraciones con otros artistas"
   ]
  },
  {
   "cell_type": "code",
   "execution_count": 40,
   "metadata": {},
   "outputs": [
    {
     "data": {
      "text/plain": [
       "<matplotlib.axes._subplots.AxesSubplot at 0x1dad836aba8>"
      ]
     },
     "execution_count": 40,
     "metadata": {},
     "output_type": "execute_result"
    },
    {
     "data": {
      "text/plain": [
       "<Figure size 1368x432 with 0 Axes>"
      ]
     },
     "metadata": {},
     "output_type": "display_data"
    },
    {
     "data": {
      "image/png": "[encoded data removed]",
      "text/plain": [
       "<Figure size 1080x504 with 2 Axes>"
      ]
     },
     "metadata": {
      "needs_background": "light"
     },
     "output_type": "display_data"
    }
   ],
   "source": [
    "artist_counts = Spotydataset.artist.value_counts()\n",
    "\n",
    "artist_counts_df = pd.DataFrame({'artist':artist_counts.index,'count':artist_counts.values})\n",
    "plt.figure(figsize=(19, 6))\n",
    "fig, ax =plt.subplots(2,1,constrained_layout=True, figsize=(15,7),sharey=True)\n",
    "#para simplificar la visual solo se muestran 10 en la cabeza y 10 en la cola\n",
    "#HEAD 10\n",
    "sn.barplot(x = 'artist', y ='count', ax=ax[0],data=artist_counts_df.head(10),palette=\"PRGn\")\n",
    "\n",
    "ax[0].set_title(\"Distribución de Artistas\")\n",
    "#TAIL 10\n",
    "sn.barplot(x = 'artist', y ='count', ax=ax[1],data=artist_counts_df.tail(10),palette=\"PRGn\") "
   ]
  },
  {
   "cell_type": "code",
   "execution_count": 123,
   "metadata": {},
   "outputs": [
    {
     "data": {
      "text/plain": [
       "<matplotlib.axes._subplots.AxesSubplot at 0x1dae75592b0>"
      ]
     },
     "execution_count": 123,
     "metadata": {},
     "output_type": "execute_result"
    },
    {
     "data": {
      "text/plain": [
       "<Figure size 1368x432 with 0 Axes>"
      ]
     },
     "metadata": {},
     "output_type": "display_data"
    },
    {
     "data": {
      "image/png": "[encoded data removed]",
      "text/plain": [
       "<Figure size 1080x504 with 2 Axes>"
      ]
     },
     "metadata": {
      "needs_background": "light"
     },
     "output_type": "display_data"
    }
   ],
   "source": [
    "\n",
    "\n",
    "artist_counts = Spotydataset.groupby(\"artist\")[\"popularity\"].max().sort_values(ascending=False)\n",
    "\n",
    "artist_counts_df = pd.DataFrame({'artist':artist_counts.index,'count':artist_counts.values})\n",
    "plt.figure(figsize=(19, 6))\n",
    "fig, ax =plt.subplots(2,1,constrained_layout=True, figsize=(15,7),sharey=True)\n",
    "#para simplificar la visual solo se muestran 10 en la cabeza y 10 en la cola\n",
    "#HEAD 10\n",
    "sn.barplot(x = 'artist', y ='count', ax=ax[0],data=artist_counts_df.head(10),palette=\"Set3\")\n",
    "\n",
    "ax[0].set_title(\"Popularidad de Artistas en nuestro Dataset Segun la canción mas popular en Spotify\")\n",
    "#TAIL 10\n",
    "sn.barplot(x = 'artist', y ='count', ax=ax[1],data=artist_counts_df.tail(10),palette=\"Set3\") "
   ]
  },
  {
   "cell_type": "code",
   "execution_count": 136,
   "metadata": {},
   "outputs": [],
   "source": [
    "#pretendia mostrar una distribución de canciones por Tempo, pero el tempo esta con muchos decimales... para trabajar luego\n",
    "#plt.figure(figsize=(10,6))\n",
    "#plt.title('Distribución ')\n",
    "#sn.distplot(Spotydataset.groupby(\"tempo\")[\"artist\"].count().sort_values(ascending=False))"
   ]
  },
  {
   "cell_type": "markdown",
   "metadata": {},
   "source": [
    "<span style=\"color:blue\">*Basandonos en la descripción de las características que nos provee Spotify procedemos a la selección:*</span>\n",
    "\n",
    "https://developer.spotify.com/documentation/web-api/reference/tracks/get-several-audio-features/"
   ]
  },
  {
   "cell_type": "code",
   "execution_count": 41,
   "metadata": {},
   "outputs": [],
   "source": [
    "features = [\"artist\",\"acousticness\",\"danceability\",\"popularity\",\"duration_ms\",\"energy\",\"instrumentalness\",\"key\",\"liveness\",\"mode\",\"speechiness\",\"tempo\",\"time_signature\",\"valence\"]"
   ]
  },
  {
   "cell_type": "code",
   "execution_count": 42,
   "metadata": {},
   "outputs": [
    {
     "data": {
      "text/plain": [
       "(100, 21)"
      ]
     },
     "execution_count": 42,
     "metadata": {},
     "output_type": "execute_result"
    }
   ],
   "source": [
    "Spotydataset.shape"
   ]
  },
  {
   "cell_type": "code",
   "execution_count": 43,
   "metadata": {},
   "outputs": [
    {
     "data": {
      "text/html": [
       "<div>\n",
       "<style scoped>\n",
       "    .dataframe tbody tr th:only-of-type {\n",
       "        vertical-align: middle;\n",
       "    }\n",
       "\n",
       "    .dataframe tbody tr th {\n",
       "        vertical-align: top;\n",
       "    }\n",
       "\n",
       "    .dataframe thead th {\n",
       "        text-align: right;\n",
       "    }\n",
       "</style>\n",
       "<table border=\"1\" class=\"dataframe\">\n",
       "  <thead>\n",
       "    <tr style=\"text-align: right;\">\n",
       "      <th></th>\n",
       "      <th>artist</th>\n",
       "      <th>acousticness</th>\n",
       "      <th>danceability</th>\n",
       "      <th>popularity</th>\n",
       "      <th>duration_ms</th>\n",
       "      <th>energy</th>\n",
       "      <th>instrumentalness</th>\n",
       "      <th>key</th>\n",
       "      <th>liveness</th>\n",
       "      <th>mode</th>\n",
       "      <th>speechiness</th>\n",
       "      <th>tempo</th>\n",
       "      <th>time_signature</th>\n",
       "      <th>valence</th>\n",
       "    </tr>\n",
       "  </thead>\n",
       "  <tbody>\n",
       "    <tr>\n",
       "      <td>0</td>\n",
       "      <td>David Guetta</td>\n",
       "      <td>0.0679</td>\n",
       "      <td>0.604</td>\n",
       "      <td>78</td>\n",
       "      <td>245040</td>\n",
       "      <td>0.787</td>\n",
       "      <td>0.15</td>\n",
       "      <td>0</td>\n",
       "      <td>0.127</td>\n",
       "      <td>0</td>\n",
       "      <td>0.1030</td>\n",
       "      <td>126.062</td>\n",
       "      <td>4</td>\n",
       "      <td>0.301</td>\n",
       "    </tr>\n",
       "    <tr>\n",
       "      <td>1</td>\n",
       "      <td>Various Artists</td>\n",
       "      <td>0.1250</td>\n",
       "      <td>0.765</td>\n",
       "      <td>77</td>\n",
       "      <td>184558</td>\n",
       "      <td>0.906</td>\n",
       "      <td>0.00</td>\n",
       "      <td>8</td>\n",
       "      <td>0.423</td>\n",
       "      <td>0</td>\n",
       "      <td>0.0965</td>\n",
       "      <td>96.071</td>\n",
       "      <td>4</td>\n",
       "      <td>0.950</td>\n",
       "    </tr>\n",
       "    <tr>\n",
       "      <td>2</td>\n",
       "      <td>David Guetta</td>\n",
       "      <td>0.1370</td>\n",
       "      <td>0.703</td>\n",
       "      <td>76</td>\n",
       "      <td>198947</td>\n",
       "      <td>0.660</td>\n",
       "      <td>0.00</td>\n",
       "      <td>10</td>\n",
       "      <td>0.192</td>\n",
       "      <td>0</td>\n",
       "      <td>0.1230</td>\n",
       "      <td>95.031</td>\n",
       "      <td>4</td>\n",
       "      <td>0.790</td>\n",
       "    </tr>\n",
       "    <tr>\n",
       "      <td>3</td>\n",
       "      <td>John Legend</td>\n",
       "      <td>0.2450</td>\n",
       "      <td>0.572</td>\n",
       "      <td>74</td>\n",
       "      <td>210236</td>\n",
       "      <td>0.742</td>\n",
       "      <td>0.00</td>\n",
       "      <td>8</td>\n",
       "      <td>0.108</td>\n",
       "      <td>0</td>\n",
       "      <td>0.0347</td>\n",
       "      <td>127.190</td>\n",
       "      <td>4</td>\n",
       "      <td>0.376</td>\n",
       "    </tr>\n",
       "    <tr>\n",
       "      <td>4</td>\n",
       "      <td>David Guetta</td>\n",
       "      <td>0.0635</td>\n",
       "      <td>0.647</td>\n",
       "      <td>73</td>\n",
       "      <td>192402</td>\n",
       "      <td>0.795</td>\n",
       "      <td>0.00</td>\n",
       "      <td>1</td>\n",
       "      <td>0.188</td>\n",
       "      <td>0</td>\n",
       "      <td>0.0372</td>\n",
       "      <td>127.992</td>\n",
       "      <td>4</td>\n",
       "      <td>0.409</td>\n",
       "    </tr>\n",
       "  </tbody>\n",
       "</table>\n",
       "</div>"
      ],
      "text/plain": [
       "            artist  acousticness  danceability  popularity  duration_ms  \\\n",
       "0     David Guetta        0.0679         0.604          78       245040   \n",
       "1  Various Artists        0.1250         0.765          77       184558   \n",
       "2     David Guetta        0.1370         0.703          76       198947   \n",
       "3      John Legend        0.2450         0.572          74       210236   \n",
       "4     David Guetta        0.0635         0.647          73       192402   \n",
       "\n",
       "   energy  instrumentalness  key  liveness  mode  speechiness    tempo  \\\n",
       "0   0.787              0.15    0     0.127     0       0.1030  126.062   \n",
       "1   0.906              0.00    8     0.423     0       0.0965   96.071   \n",
       "2   0.660              0.00   10     0.192     0       0.1230   95.031   \n",
       "3   0.742              0.00    8     0.108     0       0.0347  127.190   \n",
       "4   0.795              0.00    1     0.188     0       0.0372  127.992   \n",
       "\n",
       "   time_signature  valence  \n",
       "0               4    0.301  \n",
       "1               4    0.950  \n",
       "2               4    0.790  \n",
       "3               4    0.376  \n",
       "4               4    0.409  "
      ]
     },
     "execution_count": 43,
     "metadata": {},
     "output_type": "execute_result"
    }
   ],
   "source": [
    "Spotydataset_filtrado=Spotydataset[features]\n",
    "Spotydataset_filtrado.head()"
   ]
  },
  {
   "cell_type": "markdown",
   "metadata": {},
   "source": [
    "<span style=\"color:blue\">*filtramos features y hemos reducido el Dataframe de 21 columnas a 14, es decir, eliminamos 7 features :*</span>"
   ]
  },
  {
   "cell_type": "code",
   "execution_count": 44,
   "metadata": {},
   "outputs": [
    {
     "data": {
      "text/plain": [
       "(100, 14)"
      ]
     },
     "execution_count": 44,
     "metadata": {},
     "output_type": "execute_result"
    }
   ],
   "source": [
    "Spotydataset_filtrado.shape"
   ]
  },
  {
   "cell_type": "markdown",
   "metadata": {},
   "source": [
    "<span style=\"color:blue\">*separamos el Dataset original en dos Dataframes 1 para un artista seleccionado y el 2 para el resto de los artistas:*</span>"
   ]
  },
  {
   "cell_type": "code",
   "execution_count": 45,
   "metadata": {},
   "outputs": [
    {
     "name": "stdout",
     "output_type": "stream",
     "text": [
      "DataFrame de David Guetta:  (10, 14)\n",
      "DataFrame de otros Artistas:  (90, 14)\n"
     ]
    }
   ],
   "source": [
    "#dataframeMona=Spotydataset['artist']=='David Guetta'\n",
    "#dataframeMona.shape\n",
    "\n",
    "df_Guetta= Spotydataset_filtrado.loc[Spotydataset.artist=='David Guetta']\n",
    "df_otrosartistas = Spotydataset_filtrado.loc[Spotydataset.artist!='David Guetta']\n",
    "print(\"DataFrame de David Guetta: \", df_Guetta.shape )\n",
    "print(\"DataFrame de otros Artistas: \", df_otrosartistas.shape )"
   ]
  },
  {
   "cell_type": "code",
   "execution_count": 46,
   "metadata": {},
   "outputs": [
    {
     "data": {
      "text/plain": [
       "Index(['artist', 'acousticness', 'danceability', 'popularity', 'duration_ms',\n",
       "       'energy', 'instrumentalness', 'key', 'liveness', 'mode', 'speechiness',\n",
       "       'tempo', 'time_signature', 'valence'],\n",
       "      dtype='object')"
      ]
     },
     "execution_count": 46,
     "metadata": {},
     "output_type": "execute_result"
    }
   ],
   "source": [
    "df_Guetta.columns"
   ]
  },
  {
   "cell_type": "markdown",
   "metadata": {},
   "source": [
    "### Notas Musicales \"Key\"\n",
    "\n",
    "0\tC (also B♯, Ddouble flat)\t      DO\n",
    "\n",
    "1\tC♯, D♭ (also Bdouble sharp)\t\n",
    "\n",
    "2\tD (also Cdouble sharp, Edouble flat)\t     RE\n",
    "\n",
    "3\tD♯, E♭ (also Fdouble flat)\t\n",
    "\n",
    "4\tE (also Ddouble sharp, F♭)\t      MI\n",
    "\n",
    "5\tF (also E♯, Gdouble flat)\t      FA\n",
    "\n",
    "6\tF♯, G♭ (also Edouble sharp)\t\n",
    "\n",
    "7\tG (also Fdouble sharp, Adouble flat)\tSOL\n",
    "\n",
    "8\tG♯, A♭\t\n",
    "\n",
    "9\tA (also Gdouble sharp, Bdouble flat)\tLA\n",
    "\n",
    "10, t or A\tA♯, B♭ (also Cdouble flat)\t\n",
    "\n",
    "11, e or B\tB (also Adouble sharp, C♭)\tSI\n"
   ]
  },
  {
   "cell_type": "markdown",
   "metadata": {},
   "source": [
    "<span style=\"color:blue\">*Distribución de notas musicales en tracks de David Guetta:*</span>"
   ]
  },
  {
   "cell_type": "code",
   "execution_count": 95,
   "metadata": {},
   "outputs": [
    {
     "data": {
      "text/plain": [
       "<matplotlib.axes._subplots.AxesSubplot at 0x1dae3042be0>"
      ]
     },
     "execution_count": 95,
     "metadata": {},
     "output_type": "execute_result"
    },
    {
     "data": {
      "image/png": "[encoded data removed]",
      "text/plain": [
       "<Figure size 720x432 with 1 Axes>"
      ]
     },
     "metadata": {
      "needs_background": "light"
     },
     "output_type": "display_data"
    }
   ],
   "source": [
    "plt.figure(figsize=(10,6))\n",
    "sn.countplot(data=df_Guetta, x='key')"
   ]
  },
  {
   "cell_type": "markdown",
   "metadata": {},
   "source": [
    "<span style=\"color:blue\">*Distribución de notas musicales en tracks de otros artistas :*</span>"
   ]
  },
  {
   "cell_type": "code",
   "execution_count": 96,
   "metadata": {},
   "outputs": [
    {
     "data": {
      "text/plain": [
       "<matplotlib.axes._subplots.AxesSubplot at 0x1dadfaa9da0>"
      ]
     },
     "execution_count": 96,
     "metadata": {},
     "output_type": "execute_result"
    },
    {
     "data": {
      "image/png": "[encoded data removed]",
      "text/plain": [
       "<Figure size 720x432 with 1 Axes>"
      ]
     },
     "metadata": {
      "needs_background": "light"
     },
     "output_type": "display_data"
    }
   ],
   "source": [
    "plt.figure(figsize=(10,6))\n",
    "sn.countplot(data=df_otrosartistas, x='key')"
   ]
  },
  {
   "cell_type": "markdown",
   "metadata": {},
   "source": [
    "<span style=\"color:blue\">*Acá observamos una descripción de los estadísticos que obtenemos del dataframe con nuestro artista seleccionado David Guetta:*</span>"
   ]
  },
  {
   "cell_type": "code",
   "execution_count": 47,
   "metadata": {},
   "outputs": [
    {
     "data": {
      "text/html": [
       "<div>\n",
       "<style scoped>\n",
       "    .dataframe tbody tr th:only-of-type {\n",
       "        vertical-align: middle;\n",
       "    }\n",
       "\n",
       "    .dataframe tbody tr th {\n",
       "        vertical-align: top;\n",
       "    }\n",
       "\n",
       "    .dataframe thead th {\n",
       "        text-align: right;\n",
       "    }\n",
       "</style>\n",
       "<table border=\"1\" class=\"dataframe\">\n",
       "  <thead>\n",
       "    <tr style=\"text-align: right;\">\n",
       "      <th></th>\n",
       "      <th>acousticness</th>\n",
       "      <th>danceability</th>\n",
       "      <th>popularity</th>\n",
       "      <th>duration_ms</th>\n",
       "      <th>energy</th>\n",
       "      <th>instrumentalness</th>\n",
       "      <th>key</th>\n",
       "      <th>liveness</th>\n",
       "      <th>mode</th>\n",
       "      <th>speechiness</th>\n",
       "      <th>tempo</th>\n",
       "      <th>time_signature</th>\n",
       "      <th>valence</th>\n",
       "    </tr>\n",
       "  </thead>\n",
       "  <tbody>\n",
       "    <tr>\n",
       "      <td>count</td>\n",
       "      <td>10.000000</td>\n",
       "      <td>10.000000</td>\n",
       "      <td>10.000000</td>\n",
       "      <td>10.000000</td>\n",
       "      <td>10.000000</td>\n",
       "      <td>1.000000e+01</td>\n",
       "      <td>10.000000</td>\n",
       "      <td>10.00000</td>\n",
       "      <td>10.000000</td>\n",
       "      <td>10.000000</td>\n",
       "      <td>10.000000</td>\n",
       "      <td>10.0</td>\n",
       "      <td>10.000000</td>\n",
       "    </tr>\n",
       "    <tr>\n",
       "      <td>mean</td>\n",
       "      <td>0.079757</td>\n",
       "      <td>0.586400</td>\n",
       "      <td>66.000000</td>\n",
       "      <td>198733.000000</td>\n",
       "      <td>0.787900</td>\n",
       "      <td>2.289792e-02</td>\n",
       "      <td>5.800000</td>\n",
       "      <td>0.21165</td>\n",
       "      <td>0.300000</td>\n",
       "      <td>0.064440</td>\n",
       "      <td>124.200100</td>\n",
       "      <td>4.0</td>\n",
       "      <td>0.400600</td>\n",
       "    </tr>\n",
       "    <tr>\n",
       "      <td>std</td>\n",
       "      <td>0.065809</td>\n",
       "      <td>0.123814</td>\n",
       "      <td>9.775252</td>\n",
       "      <td>19840.588981</td>\n",
       "      <td>0.108317</td>\n",
       "      <td>5.013416e-02</td>\n",
       "      <td>4.104198</td>\n",
       "      <td>0.14778</td>\n",
       "      <td>0.483046</td>\n",
       "      <td>0.030670</td>\n",
       "      <td>13.144495</td>\n",
       "      <td>0.0</td>\n",
       "      <td>0.188527</td>\n",
       "    </tr>\n",
       "    <tr>\n",
       "      <td>min</td>\n",
       "      <td>0.001270</td>\n",
       "      <td>0.367000</td>\n",
       "      <td>46.000000</td>\n",
       "      <td>172381.000000</td>\n",
       "      <td>0.650000</td>\n",
       "      <td>0.000000e+00</td>\n",
       "      <td>0.000000</td>\n",
       "      <td>0.08400</td>\n",
       "      <td>0.000000</td>\n",
       "      <td>0.032400</td>\n",
       "      <td>95.031000</td>\n",
       "      <td>4.0</td>\n",
       "      <td>0.077000</td>\n",
       "    </tr>\n",
       "    <tr>\n",
       "      <td>25%</td>\n",
       "      <td>0.046925</td>\n",
       "      <td>0.557750</td>\n",
       "      <td>64.250000</td>\n",
       "      <td>185913.000000</td>\n",
       "      <td>0.696000</td>\n",
       "      <td>0.000000e+00</td>\n",
       "      <td>1.750000</td>\n",
       "      <td>0.11800</td>\n",
       "      <td>0.000000</td>\n",
       "      <td>0.043950</td>\n",
       "      <td>126.041750</td>\n",
       "      <td>4.0</td>\n",
       "      <td>0.313250</td>\n",
       "    </tr>\n",
       "    <tr>\n",
       "      <td>50%</td>\n",
       "      <td>0.065700</td>\n",
       "      <td>0.625500</td>\n",
       "      <td>67.500000</td>\n",
       "      <td>196922.000000</td>\n",
       "      <td>0.790000</td>\n",
       "      <td>5.500000e-07</td>\n",
       "      <td>8.000000</td>\n",
       "      <td>0.18650</td>\n",
       "      <td>0.000000</td>\n",
       "      <td>0.053950</td>\n",
       "      <td>127.932500</td>\n",
       "      <td>4.0</td>\n",
       "      <td>0.387000</td>\n",
       "    </tr>\n",
       "    <tr>\n",
       "      <td>75%</td>\n",
       "      <td>0.111900</td>\n",
       "      <td>0.667250</td>\n",
       "      <td>72.000000</td>\n",
       "      <td>205374.750000</td>\n",
       "      <td>0.885000</td>\n",
       "      <td>4.454525e-03</td>\n",
       "      <td>9.000000</td>\n",
       "      <td>0.21675</td>\n",
       "      <td>0.750000</td>\n",
       "      <td>0.083325</td>\n",
       "      <td>127.957500</td>\n",
       "      <td>4.0</td>\n",
       "      <td>0.463750</td>\n",
       "    </tr>\n",
       "    <tr>\n",
       "      <td>max</td>\n",
       "      <td>0.219000</td>\n",
       "      <td>0.704000</td>\n",
       "      <td>78.000000</td>\n",
       "      <td>245040.000000</td>\n",
       "      <td>0.939000</td>\n",
       "      <td>1.500000e-01</td>\n",
       "      <td>10.000000</td>\n",
       "      <td>0.57500</td>\n",
       "      <td>1.000000</td>\n",
       "      <td>0.123000</td>\n",
       "      <td>144.937000</td>\n",
       "      <td>4.0</td>\n",
       "      <td>0.790000</td>\n",
       "    </tr>\n",
       "  </tbody>\n",
       "</table>\n",
       "</div>"
      ],
      "text/plain": [
       "       acousticness  danceability  popularity    duration_ms     energy  \\\n",
       "count     10.000000     10.000000   10.000000      10.000000  10.000000   \n",
       "mean       0.079757      0.586400   66.000000  198733.000000   0.787900   \n",
       "std        0.065809      0.123814    9.775252   19840.588981   0.108317   \n",
       "min        0.001270      0.367000   46.000000  172381.000000   0.650000   \n",
       "25%        0.046925      0.557750   64.250000  185913.000000   0.696000   \n",
       "50%        0.065700      0.625500   67.500000  196922.000000   0.790000   \n",
       "75%        0.111900      0.667250   72.000000  205374.750000   0.885000   \n",
       "max        0.219000      0.704000   78.000000  245040.000000   0.939000   \n",
       "\n",
       "       instrumentalness        key  liveness       mode  speechiness  \\\n",
       "count      1.000000e+01  10.000000  10.00000  10.000000    10.000000   \n",
       "mean       2.289792e-02   5.800000   0.21165   0.300000     0.064440   \n",
       "std        5.013416e-02   4.104198   0.14778   0.483046     0.030670   \n",
       "min        0.000000e+00   0.000000   0.08400   0.000000     0.032400   \n",
       "25%        0.000000e+00   1.750000   0.11800   0.000000     0.043950   \n",
       "50%        5.500000e-07   8.000000   0.18650   0.000000     0.053950   \n",
       "75%        4.454525e-03   9.000000   0.21675   0.750000     0.083325   \n",
       "max        1.500000e-01  10.000000   0.57500   1.000000     0.123000   \n",
       "\n",
       "            tempo  time_signature    valence  \n",
       "count   10.000000            10.0  10.000000  \n",
       "mean   124.200100             4.0   0.400600  \n",
       "std     13.144495             0.0   0.188527  \n",
       "min     95.031000             4.0   0.077000  \n",
       "25%    126.041750             4.0   0.313250  \n",
       "50%    127.932500             4.0   0.387000  \n",
       "75%    127.957500             4.0   0.463750  \n",
       "max    144.937000             4.0   0.790000  "
      ]
     },
     "execution_count": 47,
     "metadata": {},
     "output_type": "execute_result"
    }
   ],
   "source": [
    "df_Guetta.describe()"
   ]
  },
  {
   "cell_type": "markdown",
   "metadata": {},
   "source": [
    "<span style=\"color:blue\">*Acá observamos una descripción de los estadísticos que obtenemos del dataframe con el resto de los artistas:*</span>"
   ]
  },
  {
   "cell_type": "code",
   "execution_count": 48,
   "metadata": {},
   "outputs": [
    {
     "data": {
      "text/html": [
       "<div>\n",
       "<style scoped>\n",
       "    .dataframe tbody tr th:only-of-type {\n",
       "        vertical-align: middle;\n",
       "    }\n",
       "\n",
       "    .dataframe tbody tr th {\n",
       "        vertical-align: top;\n",
       "    }\n",
       "\n",
       "    .dataframe thead th {\n",
       "        text-align: right;\n",
       "    }\n",
       "</style>\n",
       "<table border=\"1\" class=\"dataframe\">\n",
       "  <thead>\n",
       "    <tr style=\"text-align: right;\">\n",
       "      <th></th>\n",
       "      <th>acousticness</th>\n",
       "      <th>danceability</th>\n",
       "      <th>popularity</th>\n",
       "      <th>duration_ms</th>\n",
       "      <th>energy</th>\n",
       "      <th>instrumentalness</th>\n",
       "      <th>key</th>\n",
       "      <th>liveness</th>\n",
       "      <th>mode</th>\n",
       "      <th>speechiness</th>\n",
       "      <th>tempo</th>\n",
       "      <th>time_signature</th>\n",
       "      <th>valence</th>\n",
       "    </tr>\n",
       "  </thead>\n",
       "  <tbody>\n",
       "    <tr>\n",
       "      <td>count</td>\n",
       "      <td>90.000000</td>\n",
       "      <td>90.000000</td>\n",
       "      <td>90.000000</td>\n",
       "      <td>90.000000</td>\n",
       "      <td>90.000000</td>\n",
       "      <td>90.000000</td>\n",
       "      <td>90.000000</td>\n",
       "      <td>90.000000</td>\n",
       "      <td>90.000000</td>\n",
       "      <td>90.000000</td>\n",
       "      <td>90.000000</td>\n",
       "      <td>90.000000</td>\n",
       "      <td>90.000000</td>\n",
       "    </tr>\n",
       "    <tr>\n",
       "      <td>mean</td>\n",
       "      <td>0.083012</td>\n",
       "      <td>0.714833</td>\n",
       "      <td>54.511111</td>\n",
       "      <td>270658.200000</td>\n",
       "      <td>0.732056</td>\n",
       "      <td>0.250103</td>\n",
       "      <td>5.533333</td>\n",
       "      <td>0.199947</td>\n",
       "      <td>0.422222</td>\n",
       "      <td>0.072836</td>\n",
       "      <td>122.230100</td>\n",
       "      <td>3.977778</td>\n",
       "      <td>0.405083</td>\n",
       "    </tr>\n",
       "    <tr>\n",
       "      <td>std</td>\n",
       "      <td>0.128000</td>\n",
       "      <td>0.114713</td>\n",
       "      <td>24.012752</td>\n",
       "      <td>133317.820649</td>\n",
       "      <td>0.155652</td>\n",
       "      <td>0.349354</td>\n",
       "      <td>3.588997</td>\n",
       "      <td>0.161311</td>\n",
       "      <td>0.496681</td>\n",
       "      <td>0.052953</td>\n",
       "      <td>13.433837</td>\n",
       "      <td>0.148231</td>\n",
       "      <td>0.236971</td>\n",
       "    </tr>\n",
       "    <tr>\n",
       "      <td>min</td>\n",
       "      <td>0.000161</td>\n",
       "      <td>0.224000</td>\n",
       "      <td>0.000000</td>\n",
       "      <td>147027.000000</td>\n",
       "      <td>0.293000</td>\n",
       "      <td>0.000000</td>\n",
       "      <td>0.000000</td>\n",
       "      <td>0.036500</td>\n",
       "      <td>0.000000</td>\n",
       "      <td>0.029500</td>\n",
       "      <td>79.979000</td>\n",
       "      <td>3.000000</td>\n",
       "      <td>0.036000</td>\n",
       "    </tr>\n",
       "    <tr>\n",
       "      <td>25%</td>\n",
       "      <td>0.005803</td>\n",
       "      <td>0.644000</td>\n",
       "      <td>45.250000</td>\n",
       "      <td>183607.000000</td>\n",
       "      <td>0.629000</td>\n",
       "      <td>0.000005</td>\n",
       "      <td>2.000000</td>\n",
       "      <td>0.094050</td>\n",
       "      <td>0.000000</td>\n",
       "      <td>0.039925</td>\n",
       "      <td>120.038000</td>\n",
       "      <td>4.000000</td>\n",
       "      <td>0.195000</td>\n",
       "    </tr>\n",
       "    <tr>\n",
       "      <td>50%</td>\n",
       "      <td>0.028200</td>\n",
       "      <td>0.725500</td>\n",
       "      <td>57.000000</td>\n",
       "      <td>215423.500000</td>\n",
       "      <td>0.743000</td>\n",
       "      <td>0.002285</td>\n",
       "      <td>6.000000</td>\n",
       "      <td>0.119500</td>\n",
       "      <td>0.000000</td>\n",
       "      <td>0.054350</td>\n",
       "      <td>124.125500</td>\n",
       "      <td>4.000000</td>\n",
       "      <td>0.367000</td>\n",
       "    </tr>\n",
       "    <tr>\n",
       "      <td>75%</td>\n",
       "      <td>0.106025</td>\n",
       "      <td>0.795250</td>\n",
       "      <td>74.000000</td>\n",
       "      <td>290000.000000</td>\n",
       "      <td>0.861500</td>\n",
       "      <td>0.598500</td>\n",
       "      <td>9.000000</td>\n",
       "      <td>0.269250</td>\n",
       "      <td>1.000000</td>\n",
       "      <td>0.078225</td>\n",
       "      <td>126.055500</td>\n",
       "      <td>4.000000</td>\n",
       "      <td>0.603500</td>\n",
       "    </tr>\n",
       "    <tr>\n",
       "      <td>max</td>\n",
       "      <td>0.692000</td>\n",
       "      <td>0.919000</td>\n",
       "      <td>93.000000</td>\n",
       "      <td>774294.000000</td>\n",
       "      <td>0.954000</td>\n",
       "      <td>0.916000</td>\n",
       "      <td>11.000000</td>\n",
       "      <td>0.761000</td>\n",
       "      <td>1.000000</td>\n",
       "      <td>0.284000</td>\n",
       "      <td>159.996000</td>\n",
       "      <td>4.000000</td>\n",
       "      <td>0.950000</td>\n",
       "    </tr>\n",
       "  </tbody>\n",
       "</table>\n",
       "</div>"
      ],
      "text/plain": [
       "       acousticness  danceability  popularity    duration_ms     energy  \\\n",
       "count     90.000000     90.000000   90.000000      90.000000  90.000000   \n",
       "mean       0.083012      0.714833   54.511111  270658.200000   0.732056   \n",
       "std        0.128000      0.114713   24.012752  133317.820649   0.155652   \n",
       "min        0.000161      0.224000    0.000000  147027.000000   0.293000   \n",
       "25%        0.005803      0.644000   45.250000  183607.000000   0.629000   \n",
       "50%        0.028200      0.725500   57.000000  215423.500000   0.743000   \n",
       "75%        0.106025      0.795250   74.000000  290000.000000   0.861500   \n",
       "max        0.692000      0.919000   93.000000  774294.000000   0.954000   \n",
       "\n",
       "       instrumentalness        key   liveness       mode  speechiness  \\\n",
       "count         90.000000  90.000000  90.000000  90.000000    90.000000   \n",
       "mean           0.250103   5.533333   0.199947   0.422222     0.072836   \n",
       "std            0.349354   3.588997   0.161311   0.496681     0.052953   \n",
       "min            0.000000   0.000000   0.036500   0.000000     0.029500   \n",
       "25%            0.000005   2.000000   0.094050   0.000000     0.039925   \n",
       "50%            0.002285   6.000000   0.119500   0.000000     0.054350   \n",
       "75%            0.598500   9.000000   0.269250   1.000000     0.078225   \n",
       "max            0.916000  11.000000   0.761000   1.000000     0.284000   \n",
       "\n",
       "            tempo  time_signature    valence  \n",
       "count   90.000000       90.000000  90.000000  \n",
       "mean   122.230100        3.977778   0.405083  \n",
       "std     13.433837        0.148231   0.236971  \n",
       "min     79.979000        3.000000   0.036000  \n",
       "25%    120.038000        4.000000   0.195000  \n",
       "50%    124.125500        4.000000   0.367000  \n",
       "75%    126.055500        4.000000   0.603500  \n",
       "max    159.996000        4.000000   0.950000  "
      ]
     },
     "execution_count": 48,
     "metadata": {},
     "output_type": "execute_result"
    }
   ],
   "source": [
    "df_otrosartistas.describe()"
   ]
  },
  {
   "cell_type": "markdown",
   "metadata": {},
   "source": [
    "<span style=\"color:blue\">*Segun la feature popularidad de Spotify la canción Dance Monkey de la artista Tone and I tiene una puntuación de 93, le sigue Break My heart de Dua Lipa con 89, ambas canciones son los 2 primeros tracks más \"exitosas\" de los 100 tracks que tenemos en el Dataset*</span>"
   ]
  },
  {
   "cell_type": "code",
   "execution_count": 76,
   "metadata": {},
   "outputs": [
    {
     "data": {
      "text/html": [
       "<div>\n",
       "<style scoped>\n",
       "    .dataframe tbody tr th:only-of-type {\n",
       "        vertical-align: middle;\n",
       "    }\n",
       "\n",
       "    .dataframe tbody tr th {\n",
       "        vertical-align: top;\n",
       "    }\n",
       "\n",
       "    .dataframe thead th {\n",
       "        text-align: right;\n",
       "    }\n",
       "</style>\n",
       "<table border=\"1\" class=\"dataframe\">\n",
       "  <thead>\n",
       "    <tr style=\"text-align: right;\">\n",
       "      <th></th>\n",
       "      <th>Unnamed: 0</th>\n",
       "      <th>name</th>\n",
       "      <th>album</th>\n",
       "      <th>artist</th>\n",
       "      <th>release_date</th>\n",
       "      <th>length</th>\n",
       "      <th>popularity</th>\n",
       "      <th>danceability</th>\n",
       "      <th>acousticness</th>\n",
       "      <th>danceability.1</th>\n",
       "      <th>...</th>\n",
       "      <th>energy</th>\n",
       "      <th>instrumentalness</th>\n",
       "      <th>key</th>\n",
       "      <th>liveness</th>\n",
       "      <th>loudness</th>\n",
       "      <th>mode</th>\n",
       "      <th>speechiness</th>\n",
       "      <th>tempo</th>\n",
       "      <th>time_signature</th>\n",
       "      <th>valence</th>\n",
       "    </tr>\n",
       "  </thead>\n",
       "  <tbody>\n",
       "    <tr>\n",
       "      <td>78</td>\n",
       "      <td>78</td>\n",
       "      <td>Dance Monkey</td>\n",
       "      <td>Dance Monkey (Stripped Back) / Dance Monkey</td>\n",
       "      <td>Tones And I</td>\n",
       "      <td>2019-10-17</td>\n",
       "      <td>209438</td>\n",
       "      <td>93</td>\n",
       "      <td>0.824</td>\n",
       "      <td>0.692</td>\n",
       "      <td>0.824</td>\n",
       "      <td>...</td>\n",
       "      <td>0.588</td>\n",
       "      <td>0.000104</td>\n",
       "      <td>6</td>\n",
       "      <td>0.149</td>\n",
       "      <td>-6.4</td>\n",
       "      <td>0</td>\n",
       "      <td>0.0924</td>\n",
       "      <td>98.027</td>\n",
       "      <td>4</td>\n",
       "      <td>0.513</td>\n",
       "    </tr>\n",
       "  </tbody>\n",
       "</table>\n",
       "<p>1 rows × 21 columns</p>\n",
       "</div>"
      ],
      "text/plain": [
       "    Unnamed: 0          name                                        album  \\\n",
       "78          78  Dance Monkey  Dance Monkey (Stripped Back) / Dance Monkey   \n",
       "\n",
       "         artist release_date  length  popularity  danceability  acousticness  \\\n",
       "78  Tones And I   2019-10-17  209438          93         0.824         0.692   \n",
       "\n",
       "    danceability.1  ...  energy  instrumentalness  key  liveness  loudness  \\\n",
       "78           0.824  ...   0.588          0.000104    6     0.149      -6.4   \n",
       "\n",
       "    mode  speechiness   tempo  time_signature  valence  \n",
       "78     0       0.0924  98.027               4    0.513  \n",
       "\n",
       "[1 rows x 21 columns]"
      ]
     },
     "execution_count": 76,
     "metadata": {},
     "output_type": "execute_result"
    }
   ],
   "source": [
    "Spotydataset.loc[Spotydataset.name=='Dance Monkey']"
   ]
  },
  {
   "cell_type": "code",
   "execution_count": 77,
   "metadata": {},
   "outputs": [
    {
     "data": {
      "text/html": [
       "<div>\n",
       "<style scoped>\n",
       "    .dataframe tbody tr th:only-of-type {\n",
       "        vertical-align: middle;\n",
       "    }\n",
       "\n",
       "    .dataframe tbody tr th {\n",
       "        vertical-align: top;\n",
       "    }\n",
       "\n",
       "    .dataframe thead th {\n",
       "        text-align: right;\n",
       "    }\n",
       "</style>\n",
       "<table border=\"1\" class=\"dataframe\">\n",
       "  <thead>\n",
       "    <tr style=\"text-align: right;\">\n",
       "      <th></th>\n",
       "      <th>Unnamed: 0</th>\n",
       "      <th>name</th>\n",
       "      <th>album</th>\n",
       "      <th>artist</th>\n",
       "      <th>release_date</th>\n",
       "      <th>length</th>\n",
       "      <th>popularity</th>\n",
       "      <th>danceability</th>\n",
       "      <th>acousticness</th>\n",
       "      <th>danceability.1</th>\n",
       "      <th>...</th>\n",
       "      <th>energy</th>\n",
       "      <th>instrumentalness</th>\n",
       "      <th>key</th>\n",
       "      <th>liveness</th>\n",
       "      <th>loudness</th>\n",
       "      <th>mode</th>\n",
       "      <th>speechiness</th>\n",
       "      <th>tempo</th>\n",
       "      <th>time_signature</th>\n",
       "      <th>valence</th>\n",
       "    </tr>\n",
       "  </thead>\n",
       "  <tbody>\n",
       "    <tr>\n",
       "      <td>80</td>\n",
       "      <td>80</td>\n",
       "      <td>Break My Heart</td>\n",
       "      <td>Future Nostalgia</td>\n",
       "      <td>Dua Lipa</td>\n",
       "      <td>2020-03-27</td>\n",
       "      <td>221820</td>\n",
       "      <td>89</td>\n",
       "      <td>0.73</td>\n",
       "      <td>0.167</td>\n",
       "      <td>0.73</td>\n",
       "      <td>...</td>\n",
       "      <td>0.729</td>\n",
       "      <td>0.000001</td>\n",
       "      <td>4</td>\n",
       "      <td>0.349</td>\n",
       "      <td>-3.434</td>\n",
       "      <td>0</td>\n",
       "      <td>0.0883</td>\n",
       "      <td>113.013</td>\n",
       "      <td>4</td>\n",
       "      <td>0.467</td>\n",
       "    </tr>\n",
       "  </tbody>\n",
       "</table>\n",
       "<p>1 rows × 21 columns</p>\n",
       "</div>"
      ],
      "text/plain": [
       "    Unnamed: 0            name             album    artist release_date  \\\n",
       "80          80  Break My Heart  Future Nostalgia  Dua Lipa   2020-03-27   \n",
       "\n",
       "    length  popularity  danceability  acousticness  danceability.1  ...  \\\n",
       "80  221820          89          0.73         0.167            0.73  ...   \n",
       "\n",
       "    energy  instrumentalness  key  liveness  loudness  mode  speechiness  \\\n",
       "80   0.729          0.000001    4     0.349    -3.434     0       0.0883   \n",
       "\n",
       "      tempo  time_signature  valence  \n",
       "80  113.013               4    0.467  \n",
       "\n",
       "[1 rows x 21 columns]"
      ]
     },
     "execution_count": 77,
     "metadata": {},
     "output_type": "execute_result"
    }
   ],
   "source": [
    "Spotydataset.loc[Spotydataset.name=='Break My Heart']"
   ]
  },
  {
   "cell_type": "code",
   "execution_count": 49,
   "metadata": {},
   "outputs": [
    {
     "data": {
      "text/html": [
       "<div>\n",
       "<style scoped>\n",
       "    .dataframe tbody tr th:only-of-type {\n",
       "        vertical-align: middle;\n",
       "    }\n",
       "\n",
       "    .dataframe tbody tr th {\n",
       "        vertical-align: top;\n",
       "    }\n",
       "\n",
       "    .dataframe thead th {\n",
       "        text-align: right;\n",
       "    }\n",
       "</style>\n",
       "<table border=\"1\" class=\"dataframe\">\n",
       "  <thead>\n",
       "    <tr style=\"text-align: right;\">\n",
       "      <th></th>\n",
       "      <th>acousticness</th>\n",
       "      <th>danceability</th>\n",
       "      <th>popularity</th>\n",
       "      <th>duration_ms</th>\n",
       "      <th>energy</th>\n",
       "      <th>instrumentalness</th>\n",
       "      <th>key</th>\n",
       "      <th>liveness</th>\n",
       "      <th>mode</th>\n",
       "      <th>speechiness</th>\n",
       "      <th>tempo</th>\n",
       "      <th>time_signature</th>\n",
       "      <th>valence</th>\n",
       "    </tr>\n",
       "  </thead>\n",
       "  <tbody>\n",
       "    <tr>\n",
       "      <td>acousticness</td>\n",
       "      <td>1.000000</td>\n",
       "      <td>0.410311</td>\n",
       "      <td>0.431163</td>\n",
       "      <td>-0.149557</td>\n",
       "      <td>-0.521657</td>\n",
       "      <td>-0.041666</td>\n",
       "      <td>-0.053511</td>\n",
       "      <td>0.023957</td>\n",
       "      <td>-0.499481</td>\n",
       "      <td>0.382463</td>\n",
       "      <td>0.238584</td>\n",
       "      <td>NaN</td>\n",
       "      <td>0.715231</td>\n",
       "    </tr>\n",
       "    <tr>\n",
       "      <td>danceability</td>\n",
       "      <td>0.410311</td>\n",
       "      <td>1.000000</td>\n",
       "      <td>0.362166</td>\n",
       "      <td>0.084866</td>\n",
       "      <td>-0.041538</td>\n",
       "      <td>0.025412</td>\n",
       "      <td>-0.213014</td>\n",
       "      <td>0.569898</td>\n",
       "      <td>-0.018950</td>\n",
       "      <td>0.369290</td>\n",
       "      <td>-0.041915</td>\n",
       "      <td>NaN</td>\n",
       "      <td>0.524093</td>\n",
       "    </tr>\n",
       "    <tr>\n",
       "      <td>popularity</td>\n",
       "      <td>0.431163</td>\n",
       "      <td>0.362166</td>\n",
       "      <td>1.000000</td>\n",
       "      <td>0.410896</td>\n",
       "      <td>-0.097383</td>\n",
       "      <td>0.381294</td>\n",
       "      <td>-0.415425</td>\n",
       "      <td>-0.096798</td>\n",
       "      <td>-0.800055</td>\n",
       "      <td>0.638847</td>\n",
       "      <td>-0.305501</td>\n",
       "      <td>NaN</td>\n",
       "      <td>0.670923</td>\n",
       "    </tr>\n",
       "    <tr>\n",
       "      <td>duration_ms</td>\n",
       "      <td>-0.149557</td>\n",
       "      <td>0.084866</td>\n",
       "      <td>0.410896</td>\n",
       "      <td>1.000000</td>\n",
       "      <td>0.104675</td>\n",
       "      <td>0.550953</td>\n",
       "      <td>-0.069493</td>\n",
       "      <td>0.034874</td>\n",
       "      <td>-0.041261</td>\n",
       "      <td>0.300990</td>\n",
       "      <td>-0.111133</td>\n",
       "      <td>NaN</td>\n",
       "      <td>-0.055509</td>\n",
       "    </tr>\n",
       "    <tr>\n",
       "      <td>energy</td>\n",
       "      <td>-0.521657</td>\n",
       "      <td>-0.041538</td>\n",
       "      <td>-0.097383</td>\n",
       "      <td>0.104675</td>\n",
       "      <td>1.000000</td>\n",
       "      <td>0.181877</td>\n",
       "      <td>-0.245739</td>\n",
       "      <td>0.142257</td>\n",
       "      <td>0.106817</td>\n",
       "      <td>-0.150231</td>\n",
       "      <td>-0.049975</td>\n",
       "      <td>NaN</td>\n",
       "      <td>-0.395876</td>\n",
       "    </tr>\n",
       "    <tr>\n",
       "      <td>instrumentalness</td>\n",
       "      <td>-0.041666</td>\n",
       "      <td>0.025412</td>\n",
       "      <td>0.381294</td>\n",
       "      <td>0.550953</td>\n",
       "      <td>0.181877</td>\n",
       "      <td>1.000000</td>\n",
       "      <td>-0.688107</td>\n",
       "      <td>-0.231038</td>\n",
       "      <td>-0.288009</td>\n",
       "      <td>0.546400</td>\n",
       "      <td>0.073250</td>\n",
       "      <td>NaN</td>\n",
       "      <td>-0.241601</td>\n",
       "    </tr>\n",
       "    <tr>\n",
       "      <td>key</td>\n",
       "      <td>-0.053511</td>\n",
       "      <td>-0.213014</td>\n",
       "      <td>-0.415425</td>\n",
       "      <td>-0.069493</td>\n",
       "      <td>-0.245739</td>\n",
       "      <td>-0.688107</td>\n",
       "      <td>1.000000</td>\n",
       "      <td>0.234086</td>\n",
       "      <td>0.481991</td>\n",
       "      <td>-0.193151</td>\n",
       "      <td>-0.280152</td>\n",
       "      <td>NaN</td>\n",
       "      <td>0.158563</td>\n",
       "    </tr>\n",
       "    <tr>\n",
       "      <td>liveness</td>\n",
       "      <td>0.023957</td>\n",
       "      <td>0.569898</td>\n",
       "      <td>-0.096798</td>\n",
       "      <td>0.034874</td>\n",
       "      <td>0.142257</td>\n",
       "      <td>-0.231038</td>\n",
       "      <td>0.234086</td>\n",
       "      <td>1.000000</td>\n",
       "      <td>0.558866</td>\n",
       "      <td>-0.038724</td>\n",
       "      <td>0.185601</td>\n",
       "      <td>NaN</td>\n",
       "      <td>0.116292</td>\n",
       "    </tr>\n",
       "    <tr>\n",
       "      <td>mode</td>\n",
       "      <td>-0.499481</td>\n",
       "      <td>-0.018950</td>\n",
       "      <td>-0.800055</td>\n",
       "      <td>-0.041261</td>\n",
       "      <td>0.106817</td>\n",
       "      <td>-0.288009</td>\n",
       "      <td>0.481991</td>\n",
       "      <td>0.558866</td>\n",
       "      <td>1.000000</td>\n",
       "      <td>-0.443388</td>\n",
       "      <td>0.196426</td>\n",
       "      <td>NaN</td>\n",
       "      <td>-0.547581</td>\n",
       "    </tr>\n",
       "    <tr>\n",
       "      <td>speechiness</td>\n",
       "      <td>0.382463</td>\n",
       "      <td>0.369290</td>\n",
       "      <td>0.638847</td>\n",
       "      <td>0.300990</td>\n",
       "      <td>-0.150231</td>\n",
       "      <td>0.546400</td>\n",
       "      <td>-0.193151</td>\n",
       "      <td>-0.038724</td>\n",
       "      <td>-0.443388</td>\n",
       "      <td>1.000000</td>\n",
       "      <td>-0.513984</td>\n",
       "      <td>NaN</td>\n",
       "      <td>0.557695</td>\n",
       "    </tr>\n",
       "    <tr>\n",
       "      <td>tempo</td>\n",
       "      <td>0.238584</td>\n",
       "      <td>-0.041915</td>\n",
       "      <td>-0.305501</td>\n",
       "      <td>-0.111133</td>\n",
       "      <td>-0.049975</td>\n",
       "      <td>0.073250</td>\n",
       "      <td>-0.280152</td>\n",
       "      <td>0.185601</td>\n",
       "      <td>0.196426</td>\n",
       "      <td>-0.513984</td>\n",
       "      <td>1.000000</td>\n",
       "      <td>NaN</td>\n",
       "      <td>-0.413978</td>\n",
       "    </tr>\n",
       "    <tr>\n",
       "      <td>time_signature</td>\n",
       "      <td>NaN</td>\n",
       "      <td>NaN</td>\n",
       "      <td>NaN</td>\n",
       "      <td>NaN</td>\n",
       "      <td>NaN</td>\n",
       "      <td>NaN</td>\n",
       "      <td>NaN</td>\n",
       "      <td>NaN</td>\n",
       "      <td>NaN</td>\n",
       "      <td>NaN</td>\n",
       "      <td>NaN</td>\n",
       "      <td>NaN</td>\n",
       "      <td>NaN</td>\n",
       "    </tr>\n",
       "    <tr>\n",
       "      <td>valence</td>\n",
       "      <td>0.715231</td>\n",
       "      <td>0.524093</td>\n",
       "      <td>0.670923</td>\n",
       "      <td>-0.055509</td>\n",
       "      <td>-0.395876</td>\n",
       "      <td>-0.241601</td>\n",
       "      <td>0.158563</td>\n",
       "      <td>0.116292</td>\n",
       "      <td>-0.547581</td>\n",
       "      <td>0.557695</td>\n",
       "      <td>-0.413978</td>\n",
       "      <td>NaN</td>\n",
       "      <td>1.000000</td>\n",
       "    </tr>\n",
       "  </tbody>\n",
       "</table>\n",
       "</div>"
      ],
      "text/plain": [
       "                  acousticness  danceability  popularity  duration_ms  \\\n",
       "acousticness          1.000000      0.410311    0.431163    -0.149557   \n",
       "danceability          0.410311      1.000000    0.362166     0.084866   \n",
       "popularity            0.431163      0.362166    1.000000     0.410896   \n",
       "duration_ms          -0.149557      0.084866    0.410896     1.000000   \n",
       "energy               -0.521657     -0.041538   -0.097383     0.104675   \n",
       "instrumentalness     -0.041666      0.025412    0.381294     0.550953   \n",
       "key                  -0.053511     -0.213014   -0.415425    -0.069493   \n",
       "liveness              0.023957      0.569898   -0.096798     0.034874   \n",
       "mode                 -0.499481     -0.018950   -0.800055    -0.041261   \n",
       "speechiness           0.382463      0.369290    0.638847     0.300990   \n",
       "tempo                 0.238584     -0.041915   -0.305501    -0.111133   \n",
       "time_signature             NaN           NaN         NaN          NaN   \n",
       "valence               0.715231      0.524093    0.670923    -0.055509   \n",
       "\n",
       "                    energy  instrumentalness       key  liveness      mode  \\\n",
       "acousticness     -0.521657         -0.041666 -0.053511  0.023957 -0.499481   \n",
       "danceability     -0.041538          0.025412 -0.213014  0.569898 -0.018950   \n",
       "popularity       -0.097383          0.381294 -0.415425 -0.096798 -0.800055   \n",
       "duration_ms       0.104675          0.550953 -0.069493  0.034874 -0.041261   \n",
       "energy            1.000000          0.181877 -0.245739  0.142257  0.106817   \n",
       "instrumentalness  0.181877          1.000000 -0.688107 -0.231038 -0.288009   \n",
       "key              -0.245739         -0.688107  1.000000  0.234086  0.481991   \n",
       "liveness          0.142257         -0.231038  0.234086  1.000000  0.558866   \n",
       "mode              0.106817         -0.288009  0.481991  0.558866  1.000000   \n",
       "speechiness      -0.150231          0.546400 -0.193151 -0.038724 -0.443388   \n",
       "tempo            -0.049975          0.073250 -0.280152  0.185601  0.196426   \n",
       "time_signature         NaN               NaN       NaN       NaN       NaN   \n",
       "valence          -0.395876         -0.241601  0.158563  0.116292 -0.547581   \n",
       "\n",
       "                  speechiness     tempo  time_signature   valence  \n",
       "acousticness         0.382463  0.238584             NaN  0.715231  \n",
       "danceability         0.369290 -0.041915             NaN  0.524093  \n",
       "popularity           0.638847 -0.305501             NaN  0.670923  \n",
       "duration_ms          0.300990 -0.111133             NaN -0.055509  \n",
       "energy              -0.150231 -0.049975             NaN -0.395876  \n",
       "instrumentalness     0.546400  0.073250             NaN -0.241601  \n",
       "key                 -0.193151 -0.280152             NaN  0.158563  \n",
       "liveness            -0.038724  0.185601             NaN  0.116292  \n",
       "mode                -0.443388  0.196426             NaN -0.547581  \n",
       "speechiness          1.000000 -0.513984             NaN  0.557695  \n",
       "tempo               -0.513984  1.000000             NaN -0.413978  \n",
       "time_signature            NaN       NaN             NaN       NaN  \n",
       "valence              0.557695 -0.413978             NaN  1.000000  "
      ]
     },
     "execution_count": 49,
     "metadata": {},
     "output_type": "execute_result"
    }
   ],
   "source": [
    "df_Guetta.corr()\n",
    "#deberia quitar time_signature??? ya que no vamos a entrenar un modelo en esta entrega lo voy a dejar."
   ]
  },
  {
   "cell_type": "code",
   "execution_count": 84,
   "metadata": {},
   "outputs": [
    {
     "data": {
      "text/plain": [
       "<matplotlib.axes._subplots.AxesSubplot at 0x1dad8488748>"
      ]
     },
     "execution_count": 84,
     "metadata": {},
     "output_type": "execute_result"
    },
    {
     "data": {
      "image/png": "[encoded data removed]",
      "text/plain": [
       "<Figure size 720x432 with 2 Axes>"
      ]
     },
     "metadata": {
      "needs_background": "light"
     },
     "output_type": "display_data"
    }
   ],
   "source": [
    "plt.figure(figsize=(10,6))\n",
    "exp = pd.crosstab(df_Guetta.popularity, df_Guetta.tempo)\n",
    "sn.heatmap(exp, annot=True)"
   ]
  },
  {
   "cell_type": "code",
   "execution_count": 106,
   "metadata": {},
   "outputs": [
    {
     "data": {
      "text/plain": [
       "<matplotlib.axes._subplots.AxesSubplot at 0x1dae2eb5710>"
      ]
     },
     "execution_count": 106,
     "metadata": {},
     "output_type": "execute_result"
    },
    {
     "data": {
      "image/png": "[encoded data removed]",
      "text/plain": [
       "<Figure size 720x432 with 1 Axes>"
      ]
     },
     "metadata": {
      "needs_background": "light"
     },
     "output_type": "display_data"
    }
   ],
   "source": [
    "plt.figure(figsize=(10,6))\n",
    "sn.scatterplot(data=df_Guetta, x='popularity', y='valence')"
   ]
  },
  {
   "cell_type": "code",
   "execution_count": 91,
   "metadata": {},
   "outputs": [
    {
     "data": {
      "text/plain": [
       "<matplotlib.axes._subplots.AxesSubplot at 0x1dadab02780>"
      ]
     },
     "execution_count": 91,
     "metadata": {},
     "output_type": "execute_result"
    },
    {
     "data": {
      "image/png": "[encoded data removed]",
      "text/plain": [
       "<Figure size 720x432 with 2 Axes>"
      ]
     },
     "metadata": {
      "needs_background": "light"
     },
     "output_type": "display_data"
    }
   ],
   "source": [
    "plt.figure(figsize=(10,6))\n",
    "exp = pd.crosstab(df_Guetta.popularity, df_Guetta.valence)\n",
    "sn.heatmap(exp, annot=True)"
   ]
  },
  {
   "cell_type": "code",
   "execution_count": 165,
   "metadata": {},
   "outputs": [
    {
     "data": {
      "text/plain": [
       "'\\n#pair plot\\nsn.pairplot(data=df_Mona, vars=df_Mona.columns, height=3)\\n#plt.title(\"Comparación de variables\")\\n#[\\'pf_identity\\',\\'hf_score\\', \\'ef_score\\']\\nplt.plot()\\n\\n'"
      ]
     },
     "execution_count": 165,
     "metadata": {},
     "output_type": "execute_result"
    }
   ],
   "source": [
    "#por ahora dejamos comentado estas lineas por que la visualizacion es inviable \n",
    "\"\"\"\n",
    "#pair plot\n",
    "sn.pairplot(data=df_Mona, vars=df_Mona.columns, height=3)\n",
    "#plt.title(\"Comparación de variables\")\n",
    "#['pf_identity','hf_score', 'ef_score']\n",
    "plt.plot()\n",
    "\n",
    "\"\"\""
   ]
  },
  {
   "cell_type": "code",
   "execution_count": 50,
   "metadata": {},
   "outputs": [
    {
     "data": {
      "text/html": [
       "<div>\n",
       "<style scoped>\n",
       "    .dataframe tbody tr th:only-of-type {\n",
       "        vertical-align: middle;\n",
       "    }\n",
       "\n",
       "    .dataframe tbody tr th {\n",
       "        vertical-align: top;\n",
       "    }\n",
       "\n",
       "    .dataframe thead th {\n",
       "        text-align: right;\n",
       "    }\n",
       "</style>\n",
       "<table border=\"1\" class=\"dataframe\">\n",
       "  <thead>\n",
       "    <tr style=\"text-align: right;\">\n",
       "      <th></th>\n",
       "      <th>acousticness</th>\n",
       "      <th>danceability</th>\n",
       "      <th>popularity</th>\n",
       "      <th>duration_ms</th>\n",
       "      <th>energy</th>\n",
       "      <th>instrumentalness</th>\n",
       "      <th>key</th>\n",
       "      <th>liveness</th>\n",
       "      <th>mode</th>\n",
       "      <th>speechiness</th>\n",
       "      <th>tempo</th>\n",
       "      <th>time_signature</th>\n",
       "      <th>valence</th>\n",
       "    </tr>\n",
       "  </thead>\n",
       "  <tbody>\n",
       "    <tr>\n",
       "      <td>acousticness</td>\n",
       "      <td>1.000000</td>\n",
       "      <td>0.097527</td>\n",
       "      <td>0.211465</td>\n",
       "      <td>-0.120912</td>\n",
       "      <td>-0.094522</td>\n",
       "      <td>-0.252097</td>\n",
       "      <td>0.026210</td>\n",
       "      <td>-0.080268</td>\n",
       "      <td>0.015171</td>\n",
       "      <td>-0.068301</td>\n",
       "      <td>-0.179271</td>\n",
       "      <td>0.072201</td>\n",
       "      <td>0.179738</td>\n",
       "    </tr>\n",
       "    <tr>\n",
       "      <td>danceability</td>\n",
       "      <td>0.097527</td>\n",
       "      <td>1.000000</td>\n",
       "      <td>0.031130</td>\n",
       "      <td>0.333108</td>\n",
       "      <td>-0.185458</td>\n",
       "      <td>0.284637</td>\n",
       "      <td>0.083812</td>\n",
       "      <td>-0.234835</td>\n",
       "      <td>0.239869</td>\n",
       "      <td>0.133806</td>\n",
       "      <td>-0.206474</td>\n",
       "      <td>-0.105945</td>\n",
       "      <td>0.240200</td>\n",
       "    </tr>\n",
       "    <tr>\n",
       "      <td>popularity</td>\n",
       "      <td>0.211465</td>\n",
       "      <td>0.031130</td>\n",
       "      <td>1.000000</td>\n",
       "      <td>-0.245138</td>\n",
       "      <td>0.005662</td>\n",
       "      <td>-0.285418</td>\n",
       "      <td>0.294970</td>\n",
       "      <td>-0.108008</td>\n",
       "      <td>-0.244398</td>\n",
       "      <td>-0.172338</td>\n",
       "      <td>-0.062484</td>\n",
       "      <td>0.063203</td>\n",
       "      <td>0.188335</td>\n",
       "    </tr>\n",
       "    <tr>\n",
       "      <td>duration_ms</td>\n",
       "      <td>-0.120912</td>\n",
       "      <td>0.333108</td>\n",
       "      <td>-0.245138</td>\n",
       "      <td>1.000000</td>\n",
       "      <td>-0.478607</td>\n",
       "      <td>0.689346</td>\n",
       "      <td>-0.094712</td>\n",
       "      <td>-0.196910</td>\n",
       "      <td>0.338058</td>\n",
       "      <td>-0.058692</td>\n",
       "      <td>-0.057550</td>\n",
       "      <td>-0.395551</td>\n",
       "      <td>-0.285367</td>\n",
       "    </tr>\n",
       "    <tr>\n",
       "      <td>energy</td>\n",
       "      <td>-0.094522</td>\n",
       "      <td>-0.185458</td>\n",
       "      <td>0.005662</td>\n",
       "      <td>-0.478607</td>\n",
       "      <td>1.000000</td>\n",
       "      <td>-0.266897</td>\n",
       "      <td>0.090234</td>\n",
       "      <td>0.100492</td>\n",
       "      <td>-0.265547</td>\n",
       "      <td>0.116201</td>\n",
       "      <td>0.107467</td>\n",
       "      <td>0.167576</td>\n",
       "      <td>0.188249</td>\n",
       "    </tr>\n",
       "    <tr>\n",
       "      <td>instrumentalness</td>\n",
       "      <td>-0.252097</td>\n",
       "      <td>0.284637</td>\n",
       "      <td>-0.285418</td>\n",
       "      <td>0.689346</td>\n",
       "      <td>-0.266897</td>\n",
       "      <td>1.000000</td>\n",
       "      <td>-0.048177</td>\n",
       "      <td>-0.141911</td>\n",
       "      <td>0.387105</td>\n",
       "      <td>-0.045556</td>\n",
       "      <td>0.139122</td>\n",
       "      <td>-0.283538</td>\n",
       "      <td>-0.427056</td>\n",
       "    </tr>\n",
       "    <tr>\n",
       "      <td>key</td>\n",
       "      <td>0.026210</td>\n",
       "      <td>0.083812</td>\n",
       "      <td>0.294970</td>\n",
       "      <td>-0.094712</td>\n",
       "      <td>0.090234</td>\n",
       "      <td>-0.048177</td>\n",
       "      <td>1.000000</td>\n",
       "      <td>-0.161447</td>\n",
       "      <td>-0.134048</td>\n",
       "      <td>-0.213865</td>\n",
       "      <td>-0.234909</td>\n",
       "      <td>-0.146433</td>\n",
       "      <td>-0.054990</td>\n",
       "    </tr>\n",
       "    <tr>\n",
       "      <td>liveness</td>\n",
       "      <td>-0.080268</td>\n",
       "      <td>-0.234835</td>\n",
       "      <td>-0.108008</td>\n",
       "      <td>-0.196910</td>\n",
       "      <td>0.100492</td>\n",
       "      <td>-0.141911</td>\n",
       "      <td>-0.161447</td>\n",
       "      <td>1.000000</td>\n",
       "      <td>-0.163557</td>\n",
       "      <td>0.073397</td>\n",
       "      <td>-0.006227</td>\n",
       "      <td>0.085472</td>\n",
       "      <td>0.002151</td>\n",
       "    </tr>\n",
       "    <tr>\n",
       "      <td>mode</td>\n",
       "      <td>0.015171</td>\n",
       "      <td>0.239869</td>\n",
       "      <td>-0.244398</td>\n",
       "      <td>0.338058</td>\n",
       "      <td>-0.265547</td>\n",
       "      <td>0.387105</td>\n",
       "      <td>-0.134048</td>\n",
       "      <td>-0.163557</td>\n",
       "      <td>1.000000</td>\n",
       "      <td>-0.061369</td>\n",
       "      <td>0.123208</td>\n",
       "      <td>-0.176353</td>\n",
       "      <td>-0.094582</td>\n",
       "    </tr>\n",
       "    <tr>\n",
       "      <td>speechiness</td>\n",
       "      <td>-0.068301</td>\n",
       "      <td>0.133806</td>\n",
       "      <td>-0.172338</td>\n",
       "      <td>-0.058692</td>\n",
       "      <td>0.116201</td>\n",
       "      <td>-0.045556</td>\n",
       "      <td>-0.213865</td>\n",
       "      <td>0.073397</td>\n",
       "      <td>-0.061369</td>\n",
       "      <td>1.000000</td>\n",
       "      <td>0.055399</td>\n",
       "      <td>0.044334</td>\n",
       "      <td>0.211087</td>\n",
       "    </tr>\n",
       "    <tr>\n",
       "      <td>tempo</td>\n",
       "      <td>-0.179271</td>\n",
       "      <td>-0.206474</td>\n",
       "      <td>-0.062484</td>\n",
       "      <td>-0.057550</td>\n",
       "      <td>0.107467</td>\n",
       "      <td>0.139122</td>\n",
       "      <td>-0.234909</td>\n",
       "      <td>-0.006227</td>\n",
       "      <td>0.123208</td>\n",
       "      <td>0.055399</td>\n",
       "      <td>1.000000</td>\n",
       "      <td>-0.026575</td>\n",
       "      <td>-0.049054</td>\n",
       "    </tr>\n",
       "    <tr>\n",
       "      <td>time_signature</td>\n",
       "      <td>0.072201</td>\n",
       "      <td>-0.105945</td>\n",
       "      <td>0.063203</td>\n",
       "      <td>-0.395551</td>\n",
       "      <td>0.167576</td>\n",
       "      <td>-0.283538</td>\n",
       "      <td>-0.146433</td>\n",
       "      <td>0.085472</td>\n",
       "      <td>-0.176353</td>\n",
       "      <td>0.044334</td>\n",
       "      <td>-0.026575</td>\n",
       "      <td>1.000000</td>\n",
       "      <td>0.177582</td>\n",
       "    </tr>\n",
       "    <tr>\n",
       "      <td>valence</td>\n",
       "      <td>0.179738</td>\n",
       "      <td>0.240200</td>\n",
       "      <td>0.188335</td>\n",
       "      <td>-0.285367</td>\n",
       "      <td>0.188249</td>\n",
       "      <td>-0.427056</td>\n",
       "      <td>-0.054990</td>\n",
       "      <td>0.002151</td>\n",
       "      <td>-0.094582</td>\n",
       "      <td>0.211087</td>\n",
       "      <td>-0.049054</td>\n",
       "      <td>0.177582</td>\n",
       "      <td>1.000000</td>\n",
       "    </tr>\n",
       "  </tbody>\n",
       "</table>\n",
       "</div>"
      ],
      "text/plain": [
       "                  acousticness  danceability  popularity  duration_ms  \\\n",
       "acousticness          1.000000      0.097527    0.211465    -0.120912   \n",
       "danceability          0.097527      1.000000    0.031130     0.333108   \n",
       "popularity            0.211465      0.031130    1.000000    -0.245138   \n",
       "duration_ms          -0.120912      0.333108   -0.245138     1.000000   \n",
       "energy               -0.094522     -0.185458    0.005662    -0.478607   \n",
       "instrumentalness     -0.252097      0.284637   -0.285418     0.689346   \n",
       "key                   0.026210      0.083812    0.294970    -0.094712   \n",
       "liveness             -0.080268     -0.234835   -0.108008    -0.196910   \n",
       "mode                  0.015171      0.239869   -0.244398     0.338058   \n",
       "speechiness          -0.068301      0.133806   -0.172338    -0.058692   \n",
       "tempo                -0.179271     -0.206474   -0.062484    -0.057550   \n",
       "time_signature        0.072201     -0.105945    0.063203    -0.395551   \n",
       "valence               0.179738      0.240200    0.188335    -0.285367   \n",
       "\n",
       "                    energy  instrumentalness       key  liveness      mode  \\\n",
       "acousticness     -0.094522         -0.252097  0.026210 -0.080268  0.015171   \n",
       "danceability     -0.185458          0.284637  0.083812 -0.234835  0.239869   \n",
       "popularity        0.005662         -0.285418  0.294970 -0.108008 -0.244398   \n",
       "duration_ms      -0.478607          0.689346 -0.094712 -0.196910  0.338058   \n",
       "energy            1.000000         -0.266897  0.090234  0.100492 -0.265547   \n",
       "instrumentalness -0.266897          1.000000 -0.048177 -0.141911  0.387105   \n",
       "key               0.090234         -0.048177  1.000000 -0.161447 -0.134048   \n",
       "liveness          0.100492         -0.141911 -0.161447  1.000000 -0.163557   \n",
       "mode             -0.265547          0.387105 -0.134048 -0.163557  1.000000   \n",
       "speechiness       0.116201         -0.045556 -0.213865  0.073397 -0.061369   \n",
       "tempo             0.107467          0.139122 -0.234909 -0.006227  0.123208   \n",
       "time_signature    0.167576         -0.283538 -0.146433  0.085472 -0.176353   \n",
       "valence           0.188249         -0.427056 -0.054990  0.002151 -0.094582   \n",
       "\n",
       "                  speechiness     tempo  time_signature   valence  \n",
       "acousticness        -0.068301 -0.179271        0.072201  0.179738  \n",
       "danceability         0.133806 -0.206474       -0.105945  0.240200  \n",
       "popularity          -0.172338 -0.062484        0.063203  0.188335  \n",
       "duration_ms         -0.058692 -0.057550       -0.395551 -0.285367  \n",
       "energy               0.116201  0.107467        0.167576  0.188249  \n",
       "instrumentalness    -0.045556  0.139122       -0.283538 -0.427056  \n",
       "key                 -0.213865 -0.234909       -0.146433 -0.054990  \n",
       "liveness             0.073397 -0.006227        0.085472  0.002151  \n",
       "mode                -0.061369  0.123208       -0.176353 -0.094582  \n",
       "speechiness          1.000000  0.055399        0.044334  0.211087  \n",
       "tempo                0.055399  1.000000       -0.026575 -0.049054  \n",
       "time_signature       0.044334 -0.026575        1.000000  0.177582  \n",
       "valence              0.211087 -0.049054        0.177582  1.000000  "
      ]
     },
     "execution_count": 50,
     "metadata": {},
     "output_type": "execute_result"
    }
   ],
   "source": [
    "df_otrosartistas.corr()"
   ]
  },
  {
   "cell_type": "markdown",
   "metadata": {},
   "source": [
    "sin correlación aparente \n"
   ]
  },
  {
   "cell_type": "code",
   "execution_count": 92,
   "metadata": {},
   "outputs": [
    {
     "data": {
      "text/plain": [
       "<matplotlib.axes._subplots.AxesSubplot at 0x1dadcd92630>"
      ]
     },
     "execution_count": 92,
     "metadata": {},
     "output_type": "execute_result"
    },
    {
     "data": {
      "image/png": "[encoded data removed]",
      "text/plain": [
       "<Figure size 1080x576 with 2 Axes>"
      ]
     },
     "metadata": {
      "needs_background": "light"
     },
     "output_type": "display_data"
    }
   ],
   "source": [
    "plt.figure(figsize=(15,8))\n",
    "exp = pd.crosstab(df_otrosartistas.popularity, df_otrosartistas.valence)\n",
    "sn.heatmap(exp, annot=True)"
   ]
  },
  {
   "cell_type": "code",
   "execution_count": 107,
   "metadata": {},
   "outputs": [
    {
     "data": {
      "text/plain": [
       "<matplotlib.axes._subplots.AxesSubplot at 0x1dae2fe2240>"
      ]
     },
     "execution_count": 107,
     "metadata": {},
     "output_type": "execute_result"
    },
    {
     "data": {
      "image/png": "[encoded data removed]",
      "text/plain": [
       "<Figure size 720x432 with 1 Axes>"
      ]
     },
     "metadata": {
      "needs_background": "light"
     },
     "output_type": "display_data"
    }
   ],
   "source": [
    "plt.figure(figsize=(10,6))\n",
    "sn.scatterplot(data=df_otrosartistas, x='popularity', y='valence')"
   ]
  },
  {
   "cell_type": "markdown",
   "metadata": {},
   "source": [
    "no hay una correlación aparente entre las variables "
   ]
  },
  {
   "cell_type": "code",
   "execution_count": 164,
   "metadata": {},
   "outputs": [
    {
     "data": {
      "text/plain": [
       "'#pair plot\\nsn.pairplot(data=df_otrosartistas, vars=df_otrosartistas.columns, height=3)\\n#plt.title(\"Comparación de variables\")\\n#[\\'pf_identity\\',\\'hf_score\\', \\'ef_score\\']\\nplt.plot()'"
      ]
     },
     "execution_count": 164,
     "metadata": {},
     "output_type": "execute_result"
    }
   ],
   "source": [
    "#por ahora dejamos comentado estas lineas por que la visualizacion es inviable \n",
    "\"\"\"#pair plot\n",
    "sn.pairplot(data=df_otrosartistas, vars=df_otrosartistas.columns, height=3)\n",
    "#plt.title(\"Comparación de variables\")\n",
    "#['pf_identity','hf_score', 'ef_score']\n",
    "plt.plot()\"\"\""
   ]
  },
  {
   "cell_type": "markdown",
   "metadata": {},
   "source": [
    "### 3) Hacer un gráfico de estilo [radar chart](https://en.wikipedia.org/wiki/Radar_chart)  comparando a su artista o banda con 'la competencia'\n",
    "En esta parte tienen que hacer los gráficos tomando como parámetros las features de audio que eligieron. Pueden usar la librería que quieran para hacer los gráficos.\n",
    "\n",
    "**Recomendaciones** : \n",
    "- Hacer ambos gráficos en una misma figura.\n",
    "- Antes de graficar, obtener los valores medios o medianos para los valores de las features. \n",
    "- Chequear los rangos de valores para cada feature antes de hacer los gráficos.\n",
    "\n",
    "**Aclaración**: pueden usar otro tipo de gráfico si lo consideran particularmente útil para resolver su pregunta."
   ]
  },
  {
   "cell_type": "code",
   "execution_count": 51,
   "metadata": {},
   "outputs": [
    {
     "name": "stdout",
     "output_type": "stream",
     "text": [
      "\u001b[1mTodos los valores promedios de las features del Dataframe con las canciones de David Guetta\n"
     ]
    },
    {
     "data": {
      "text/plain": [
       "acousticness             0.079757\n",
       "danceability             0.586400\n",
       "popularity              66.000000\n",
       "duration_ms         198733.000000\n",
       "energy                   0.787900\n",
       "instrumentalness         0.022898\n",
       "key                      5.800000\n",
       "liveness                 0.211650\n",
       "mode                     0.300000\n",
       "speechiness              0.064440\n",
       "tempo                  124.200100\n",
       "time_signature           4.000000\n",
       "valence                  0.400600\n",
       "dtype: float64"
      ]
     },
     "execution_count": 51,
     "metadata": {},
     "output_type": "execute_result"
    }
   ],
   "source": [
    "print(\"\\033[1mTodos los valores promedios de las features del Dataframe con las canciones de David Guetta\")\n",
    "df_Guetta.mean(axis = 0)"
   ]
  },
  {
   "cell_type": "code",
   "execution_count": 52,
   "metadata": {},
   "outputs": [
    {
     "name": "stdout",
     "output_type": "stream",
     "text": [
      "\u001b[1mTodos los valores promedios de las features del Dataframe con las canciones del resto de los artistas\n"
     ]
    },
    {
     "data": {
      "text/plain": [
       "acousticness             0.083012\n",
       "danceability             0.714833\n",
       "popularity              54.511111\n",
       "duration_ms         270658.200000\n",
       "energy                   0.732056\n",
       "instrumentalness         0.250103\n",
       "key                      5.533333\n",
       "liveness                 0.199947\n",
       "mode                     0.422222\n",
       "speechiness              0.072836\n",
       "tempo                  122.230100\n",
       "time_signature           3.977778\n",
       "valence                  0.405083\n",
       "dtype: float64"
      ]
     },
     "execution_count": 52,
     "metadata": {},
     "output_type": "execute_result"
    }
   ],
   "source": [
    "print(\"\\033[1mTodos los valores promedios de las features del Dataframe con las canciones del resto de los artistas\")\n",
    "df_otrosartistas.mean(axis = 0)"
   ]
  },
  {
   "cell_type": "code",
   "execution_count": 60,
   "metadata": {},
   "outputs": [],
   "source": [
    "features1 = [\"acousticness\",\"danceability\",\"energy\",\"instrumentalness\",\"liveness\",\"mode\",\"speechiness\"]"
   ]
  },
  {
   "cell_type": "code",
   "execution_count": null,
   "metadata": {},
   "outputs": [],
   "source": [
    "\n"
   ]
  },
  {
   "cell_type": "code",
   "execution_count": 102,
   "metadata": {},
   "outputs": [
    {
     "data": {
      "text/plain": [
       "<matplotlib.legend.Legend at 0x1dae2ec85f8>"
      ]
     },
     "execution_count": 102,
     "metadata": {},
     "output_type": "execute_result"
    },
    {
     "data": {
      "image/png": "[encoded data removed]",
      "text/plain": [
       "<Figure size 504x504 with 1 Axes>"
      ]
     },
     "metadata": {
      "needs_background": "light"
     },
     "output_type": "display_data"
    }
   ],
   "source": [
    "df_Guetta_desc = df_Guetta[features1].describe()\n",
    "guetta_means = list(df_Guetta_desc.loc[\"mean\"])\n",
    "\n",
    "df_otros_desc = df_otrosartistas[features1].describe()\n",
    "otros_means = list(df_otros_desc.loc[\"mean\"])\n",
    "labels=list(df_Guetta[features1].columns)\n",
    "\n",
    "\n",
    "label_placement=np.linspace(start=0, stop=2*np.pi,num=len(guetta_means))\n",
    "plt.figure(figsize=(7,7))\n",
    "plt.subplot(polar=True)\n",
    "plt.plot(label_placement,guetta_means, label='David Guetta')\n",
    "plt.plot(label_placement,otros_means,label='Otros Artistas')\n",
    "lines, labels=plt.thetagrids(np.degrees(label_placement),labels=labels)\n",
    "plt.legend(loc='upper right', bbox_to_anchor=(1.3, 1.1))"
   ]
  },
  {
   "cell_type": "markdown",
   "metadata": {},
   "source": [
    "### 4) Escribir un informe"
   ]
  },
  {
   "cell_type": "markdown",
   "metadata": {},
   "source": [
    "Este informe tiene que describir qué datos que obtuvieron, el volumen de estos (# de canciones del artista, # de canciones de la competencia, etc), una explicación de cómo estos se relacionan con la pregunta planteada, cómo ayudan a responderla y los resultados que obtuvieron. Usar la celda de abajo con formato markdown."
   ]
  },
  {
   "cell_type": "markdown",
   "metadata": {},
   "source": [
    " ## RESPUESTA\n",
    "\n",
    "- ¿Las features de audio de canciones de spotify me permiten entender que hace a un genero/artista mas popular que a otro?\n",
    "- ¿Podria entender con estas features por que una canción/artista es mas exitosa que otra?\n",
    "\n",
    "\n",
    "En primer lugar nuestro Dataset esta compuesto por 100 canciones, la playlist que utilizamos en Spotify tiene 199 tracks, cuando generamos el csv solo se guardan 100 tracks.\n",
    "\n",
    "Estudiando la descripción de las features que nos provee Spotify podemos responder las preguntas que nos planteamos inicialmente, con estos análisis concluyo que un artista puede destacarse en ciertas features mas que en otras pero no necesariamente significa que es mas exitoso o popular que el resto de los artistas.\n",
    "Por ejemplo los tracks de David Guetta se destacan en las features Energy, Liveness y Tempo, Otros Artistas superan ampliamente a Guetta en las features Acousticness, Danceability, Instrumentalness, speechiness y valence tal como visualizamos en el Radar Chart.\n",
    "\n",
    "Los tracks de David Guetta son particularmente mas veloces que las canciones de otros artistas ya que en promedio el Tempo dos puntos mayor.\n",
    "La distribución del Tempo ( beats per minute) para el set de Datos de David Guetta concentra mas tracks en producciones de 126 a 127 BPM con un promedio de 124.20 BPM, una maxima de  144 BPM y una minima de 95 BPM, mientras que las canciones del grupo otros Artistas concentran producciones principalmente en 124 a 125 BPM con un promedio de 122.24 BPM, una maxima de 159 BPM y una minima de 79 BPM \n",
    "\n",
    "Observamos una leve correlación entre la popularidad de los tracks de Guetta y la feature Valence, no ocurre asi en los tracks de otros artistas, valence traducido como Valencia es una medida de 0 a 1 que describe la positividad musical trasmitida por un track. Las pistas con alta valencia suenan mas positivas, por ejemplo Feliz, alegre, eufórica, mientras que las pistas con baja valencia suenan mas negativas (tristes, depresiva, furiosa) en esta feature los tracks de Guetta tienen una diferencia infima de 0.004 en contra de otros artistas. \n",
    "Este mismo comportamiento se puede encontrar cuando comparamos la media de las features de David Guetta contra la cancion mas popular en nuestro dataset segun la feature popularity=93, \"Dance Monkey - Tones and I\".\n",
    "\n",
    "Las canciones de David Guetta en nuestro set de datos se concentran principalmente en las notas LA, Sol y Do, y algunas en Do#, Mi, y La# (9,8,0,1,4,10) mientras que en nuestro dataframe de otros artistas tenemos canciones escritas en todas las notas,pero particularmente las notas La, Sol, Fa, C#, y Do (9, 7, 5, 1, 0) son las mas utilizadas.\n",
    "\n",
    "Incorporando nuevas variables/features como por ejemplo: cantidad de reproducciones de cada track, cantidad de likes, cantidad de veces compartido, cantidad de veces agregada a una playlist sumadas a las features con las que estuvimos trabajando podriamos tener una respuesta mas acertada sobre que particularidades hace a una canción/artista/album mas exitosa/o que a otra/o. "
   ]
  },
  {
   "cell_type": "markdown",
   "metadata": {},
   "source": []
  },
  {
   "cell_type": "code",
   "execution_count": null,
   "metadata": {},
   "outputs": [],
   "source": []
  }
 ],
 "metadata": {
  "kernelspec": {
   "display_name": "Python 3",
   "language": "python",
   "name": "python3"
  },
  "language_info": {
   "codemirror_mode": {
    "name": "ipython",
    "version": 3
   },
   "file_extension": ".py",
   "mimetype": "text/x-python",
   "name": "python",
   "nbconvert_exporter": "python",
   "pygments_lexer": "ipython3",
   "version": "3.6.10"
  }
 },
 "nbformat": 4,
 "nbformat_minor": 2
}
