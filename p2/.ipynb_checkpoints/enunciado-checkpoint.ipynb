{
 "cells": [
  {
   "cell_type": "markdown",
   "metadata": {},
   "source": [
    "# Mentoría 'de cómo clasificar en géneros a las canciones'\n",
    "## Práctico I : Análisis de features de audio"
   ]
  },
  {
   "cell_type": "markdown",
   "metadata": {},
   "source": [
    "**Antes de empezar:**\n",
    "- [Instalar spaCy y el modelo de lenguaje con el que van a trabajar](https://spacy.io/models#quickstart)\n",
    "\n",
    "**Consideraciones:**\n",
    "- Se evalúa el estilo y prolijidad del código.\n",
    "- Se permite hacer trabajo extra, siempre y cuando las actividades básicas estén resueltas."
   ]
  },
  {
   "cell_type": "markdown",
   "metadata": {},
   "source": [
    "### Librerías"
   ]
  },
  {
   "cell_type": "code",
   "execution_count": null,
   "metadata": {},
   "outputs": [],
   "source": [
    "!pip3 install spotipy\n",
    "!pip3 install pandas\n",
    "!pip3 install spacy\n",
    "!pip3 install pymusixmatch\n",
    "!pip3 install nltk\n",
    "\n",
    "# Agregar las librerías extra que se utilicen en esta celda y la siguiente"
   ]
  },
  {
   "cell_type": "markdown",
   "metadata": {},
   "source": [
    "### Dependencias y acceso al API"
   ]
  },
  {
   "cell_type": "code",
   "execution_count": null,
   "metadata": {},
   "outputs": [],
   "source": [
    "import pandas as pd\n",
    "import numpy as np\n",
    "import spotipy\n",
    "import spacy\n",
    "from spotipy.oauth2 import SpotifyClientCredentials\n",
    "from musixmatch import Musixmatch\n",
    "\n",
    "nlp = spacy.load(\"en_core_web_sm\") #completar con el modelo que van a utilizar\n",
    "\n",
    "musixmatch = Musixmatch('1aa5272f4402bf2f082ad2f3958c2c62')"
   ]
  },
  {
   "cell_type": "markdown",
   "metadata": {},
   "source": [
    "### 1) Plantear una pregunta que quieran responder con estos datos\n",
    "\n",
    "Las preguntas pueden ser por ejemplo: \n",
    "- ¿Por qué este artista destaca dentro de su género?\n",
    "- ¿Por qué no lo hace?\n",
    "- ¿Por qué un género musical es más escuchado que otro?\n",
    "\n",
    "Sin embargo, pueden usar cualquier afirmación que hayan leído en internet y que se pueda responder con los datos este trabajo para validarla o rechazarla."
   ]
  },
  {
   "cell_type": "code",
   "execution_count": null,
   "metadata": {},
   "outputs": [],
   "source": []
  },
  {
   "cell_type": "markdown",
   "metadata": {},
   "source": [
    "### 2) Obtener datos para responder la pregunta\n",
    "\n",
    "Para extraer las letras de las canciones usaremos la [API de MusiXmatch](https://developer.musixmatch.com/documentation) a través de su [wrapper en Python](https://github.com/hudsonbrendon/python-musixmatch).\n",
    "Una vez obtenidas las letras de las canciones, las procesaremos de la siguiente manera:\n",
    "1. Tokenizar\n",
    "2. Remover las [stop-words](https://es.wikipedia.org/wiki/Palabra_vac%C3%ADa)\n",
    "3. [Lema](https://es.wikipedia.org/wiki/Lema_(ling%C3%BC%C3%ADstica))tizar las palabras que hayan quedado\n",
    "4. Organizar todo en un DataFrame de la forma Canción-Artista-Letra donde Letra es el resultado de 3.\n",
    "\n",
    "**Recomendación** : Usar un dataframe para su artista y otro para la competencia si es que eligierone esa opción, les va a ahorrar tiempo.\n",
    "\n",
    "**Aclaración** : Si plantearon una pregunta que no requiera los datos de la consigna, obtengan esos datos."
   ]
  },
  {
   "cell_type": "code",
   "execution_count": null,
   "metadata": {},
   "outputs": [],
   "source": []
  },
  {
   "cell_type": "markdown",
   "metadata": {},
   "source": [
    "### 3) Encontrar los n-gramas (n= 1, 2) más comunes y usarlos en gráficos.\n",
    "Utilizando las librerías de la celda de abajo obtendremos los conjuntos de 1 y 2 palabras más comunes para cada artista con el que trabajaremos. Luego usaremos los unigramas para graficar una [word-cloud](https://i.imgur.com/8I8aJ1N.png) y un gráfico de distribución de frecuencia para unigramas y bigramas por autor (o de la forma que se adapte a su pregunta)."
   ]
  },
  {
   "cell_type": "code",
   "execution_count": null,
   "metadata": {},
   "outputs": [],
   "source": [
    "from collections import Counter\n",
    "from nltk import ngrams"
   ]
  },
  {
   "cell_type": "markdown",
   "metadata": {},
   "source": [
    "### 4) Escribir un informe"
   ]
  },
  {
   "cell_type": "markdown",
   "metadata": {},
   "source": [
    "Este informe tiene que describir qué datos que obtuvieron, el volumen de estos (# de canciones del artista, # de canciones de la competencia, etc), una explicación de cómo estos se relacionan con la pregunta planteada, cómo ayudan a responderla y los resultados que obtuvieron. Usar la celda de abajo con formato markdown."
   ]
  },
  {
   "cell_type": "markdown",
   "metadata": {},
   "source": []
  }
 ],
 "metadata": {
  "kernelspec": {
   "display_name": "Python 3",
   "language": "python",
   "name": "python3"
  },
  "language_info": {
   "codemirror_mode": {
    "name": "ipython",
    "version": 3
   },
   "file_extension": ".py",
   "mimetype": "text/x-python",
   "name": "python",
   "nbconvert_exporter": "python",
   "pygments_lexer": "ipython3",
   "version": "3.6.9"
  }
 },
 "nbformat": 4,
 "nbformat_minor": 2
}
